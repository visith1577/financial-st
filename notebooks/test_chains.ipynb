{
  "nbformat": 4,
  "nbformat_minor": 0,
  "metadata": {
    "colab": {
      "provenance": []
    },
    "kernelspec": {
      "name": "python3",
      "display_name": "Python 3"
    },
    "language_info": {
      "name": "python"
    }
  },
  "cells": [
    {
      "cell_type": "code",
      "execution_count": null,
      "metadata": {
        "id": "O-R1305UHER4",
        "colab": {
          "base_uri": "https://localhost:8080/"
        },
        "outputId": "09fdb5b8-b821-40b2-9f1f-0893a76252ab"
      },
      "outputs": [
        {
          "output_type": "stream",
          "name": "stdout",
          "text": [
            "\u001b[?25l     \u001b[90m━━━━━━━━━━━━━━━━━━━━━━━━━━━━━━━━━━━━━━━━\u001b[0m \u001b[32m0.0/973.5 kB\u001b[0m \u001b[31m?\u001b[0m eta \u001b[36m-:--:--\u001b[0m\r\u001b[2K     \u001b[90m━━━━━━━━━━━━━━━━━━━━━━━━━━━━━━━━━━━━━━━━\u001b[0m \u001b[32m10.2/973.5 kB\u001b[0m \u001b[31m?\u001b[0m eta \u001b[36m-:--:--\u001b[0m\r\u001b[2K     \u001b[91m━\u001b[0m\u001b[91m╸\u001b[0m\u001b[90m━━━━━━━━━━━━━━━━━━━━━━━━━━━━━━━━━━━━━━\u001b[0m \u001b[32m41.0/973.5 kB\u001b[0m \u001b[31m724.4 kB/s\u001b[0m eta \u001b[36m0:00:02\u001b[0m\r\u001b[2K     \u001b[91m━━━━━\u001b[0m\u001b[91m╸\u001b[0m\u001b[90m━━━━━━━━━━━━━━━━━━━━━━━━━━━━━━━━━━\u001b[0m \u001b[32m143.4/973.5 kB\u001b[0m \u001b[31m1.4 MB/s\u001b[0m eta \u001b[36m0:00:01\u001b[0m\r\u001b[2K     \u001b[91m━━━━━━━━━━━━━\u001b[0m\u001b[90m╺\u001b[0m\u001b[90m━━━━━━━━━━━━━━━━━━━━━━━━━━\u001b[0m \u001b[32m327.7/973.5 kB\u001b[0m \u001b[31m2.3 MB/s\u001b[0m eta \u001b[36m0:00:01\u001b[0m\r\u001b[2K     \u001b[91m━━━━━━━━━━━━━━━━━━━━━━━━\u001b[0m\u001b[91m╸\u001b[0m\u001b[90m━━━━━━━━━━━━━━━\u001b[0m \u001b[32m604.2/973.5 kB\u001b[0m \u001b[31m3.4 MB/s\u001b[0m eta \u001b[36m0:00:01\u001b[0m\r\u001b[2K     \u001b[91m━━━━━━━━━━━━━━━━━━━━━━━━━━━━━━━━━━━━━━━\u001b[0m\u001b[91m╸\u001b[0m \u001b[32m972.8/973.5 kB\u001b[0m \u001b[31m4.8 MB/s\u001b[0m eta \u001b[36m0:00:01\u001b[0m\r\u001b[2K     \u001b[90m━━━━━━━━━━━━━━━━━━━━━━━━━━━━━━━━━━━━━━━━\u001b[0m \u001b[32m973.5/973.5 kB\u001b[0m \u001b[31m4.4 MB/s\u001b[0m eta \u001b[36m0:00:00\u001b[0m\n",
            "\u001b[2K     \u001b[90m━━━━━━━━━━━━━━━━━━━━━━━━━━━━━━━━━━━━━━━━\u001b[0m \u001b[32m2.1/2.1 MB\u001b[0m \u001b[31m28.8 MB/s\u001b[0m eta \u001b[36m0:00:00\u001b[0m\n",
            "\u001b[2K     \u001b[90m━━━━━━━━━━━━━━━━━━━━━━━━━━━━━━━━━━━━━━━━\u001b[0m \u001b[32m309.5/309.5 kB\u001b[0m \u001b[31m16.3 MB/s\u001b[0m eta \u001b[36m0:00:00\u001b[0m\n",
            "\u001b[2K     \u001b[90m━━━━━━━━━━━━━━━━━━━━━━━━━━━━━━━━━━━━━━━━\u001b[0m \u001b[32m124.3/124.3 kB\u001b[0m \u001b[31m12.3 MB/s\u001b[0m eta \u001b[36m0:00:00\u001b[0m\n",
            "\u001b[2K     \u001b[90m━━━━━━━━━━━━━━━━━━━━━━━━━━━━━━━━━━━━━━━━\u001b[0m \u001b[32m105.4/105.4 kB\u001b[0m \u001b[31m10.0 MB/s\u001b[0m eta \u001b[36m0:00:00\u001b[0m\n",
            "\u001b[2K     \u001b[90m━━━━━━━━━━━━━━━━━━━━━━━━━━━━━━━━━━━━━━━━\u001b[0m \u001b[32m168.9/168.9 kB\u001b[0m \u001b[31m11.0 MB/s\u001b[0m eta \u001b[36m0:00:00\u001b[0m\n",
            "\u001b[2K     \u001b[90m━━━━━━━━━━━━━━━━━━━━━━━━━━━━━━━━━━━━━━━━\u001b[0m \u001b[32m139.3/139.3 kB\u001b[0m \u001b[31m12.2 MB/s\u001b[0m eta \u001b[36m0:00:00\u001b[0m\n",
            "\u001b[2K     \u001b[90m━━━━━━━━━━━━━━━━━━━━━━━━━━━━━━━━━━━━━━━━\u001b[0m \u001b[32m3.1/3.1 MB\u001b[0m \u001b[31m61.5 MB/s\u001b[0m eta \u001b[36m0:00:00\u001b[0m\n",
            "\u001b[2K     \u001b[90m━━━━━━━━━━━━━━━━━━━━━━━━━━━━━━━━━━━━━━━━\u001b[0m \u001b[32m75.6/75.6 kB\u001b[0m \u001b[31m8.4 MB/s\u001b[0m eta \u001b[36m0:00:00\u001b[0m\n",
            "\u001b[2K     \u001b[90m━━━━━━━━━━━━━━━━━━━━━━━━━━━━━━━━━━━━━━━━\u001b[0m \u001b[32m3.6/3.6 MB\u001b[0m \u001b[31m47.0 MB/s\u001b[0m eta \u001b[36m0:00:00\u001b[0m\n",
            "\u001b[2K     \u001b[90m━━━━━━━━━━━━━━━━━━━━━━━━━━━━━━━━━━━━━━━━\u001b[0m \u001b[32m49.3/49.3 kB\u001b[0m \u001b[31m4.9 MB/s\u001b[0m eta \u001b[36m0:00:00\u001b[0m\n",
            "\u001b[2K     \u001b[90m━━━━━━━━━━━━━━━━━━━━━━━━━━━━━━━━━━━━━━━━\u001b[0m \u001b[32m53.0/53.0 kB\u001b[0m \u001b[31m5.6 MB/s\u001b[0m eta \u001b[36m0:00:00\u001b[0m\n",
            "\u001b[2K     \u001b[90m━━━━━━━━━━━━━━━━━━━━━━━━━━━━━━━━━━━━━━━━\u001b[0m \u001b[32m142.5/142.5 kB\u001b[0m \u001b[31m10.6 MB/s\u001b[0m eta \u001b[36m0:00:00\u001b[0m\n",
            "\u001b[2K     \u001b[90m━━━━━━━━━━━━━━━━━━━━━━━━━━━━━━━━━━━━━━━━\u001b[0m \u001b[32m12.3/12.3 MB\u001b[0m \u001b[31m56.4 MB/s\u001b[0m eta \u001b[36m0:00:00\u001b[0m\n",
            "\u001b[2K     \u001b[90m━━━━━━━━━━━━━━━━━━━━━━━━━━━━━━━━━━━━━━━━\u001b[0m \u001b[32m82.2/82.2 kB\u001b[0m \u001b[31m8.7 MB/s\u001b[0m eta \u001b[36m0:00:00\u001b[0m\n",
            "\u001b[2K     \u001b[90m━━━━━━━━━━━━━━━━━━━━━━━━━━━━━━━━━━━━━━━━\u001b[0m \u001b[32m77.9/77.9 kB\u001b[0m \u001b[31m7.0 MB/s\u001b[0m eta \u001b[36m0:00:00\u001b[0m\n",
            "\u001b[2K     \u001b[90m━━━━━━━━━━━━━━━━━━━━━━━━━━━━━━━━━━━━━━━━\u001b[0m \u001b[32m58.3/58.3 kB\u001b[0m \u001b[31m6.2 MB/s\u001b[0m eta \u001b[36m0:00:00\u001b[0m\n",
            "\u001b[?25h\u001b[31mERROR: pip's dependency resolver does not currently take into account all the packages that are installed. This behaviour is the source of the following dependency conflicts.\n",
            "transformers 4.41.1 requires tokenizers<0.20,>=0.19, but you have tokenizers 0.15.2 which is incompatible.\u001b[0m\u001b[31m\n",
            "\u001b[0m"
          ]
        }
      ],
      "source": [
        "!pip install -q langchain langchain_community langchain_groq langchain_cohere"
      ]
    },
    {
      "cell_type": "code",
      "source": [
        "!pip install tavily-python"
      ],
      "metadata": {
        "colab": {
          "base_uri": "https://localhost:8080/"
        },
        "id": "GIS2bdK3QDC_",
        "outputId": "2b136eb0-c795-44a3-dd43-984677724f2b"
      },
      "execution_count": null,
      "outputs": [
        {
          "output_type": "stream",
          "name": "stdout",
          "text": [
            "Collecting tavily-python\n",
            "  Downloading tavily_python-0.3.3-py3-none-any.whl (5.4 kB)\n",
            "Requirement already satisfied: requests in /usr/local/lib/python3.10/dist-packages (from tavily-python) (2.31.0)\n",
            "Collecting tiktoken<1,>=0.5.2 (from tavily-python)\n",
            "  Downloading tiktoken-0.7.0-cp310-cp310-manylinux_2_17_x86_64.manylinux2014_x86_64.whl (1.1 MB)\n",
            "\u001b[2K     \u001b[90m━━━━━━━━━━━━━━━━━━━━━━━━━━━━━━━━━━━━━━━━\u001b[0m \u001b[32m1.1/1.1 MB\u001b[0m \u001b[31m6.1 MB/s\u001b[0m eta \u001b[36m0:00:00\u001b[0m\n",
            "\u001b[?25hRequirement already satisfied: regex>=2022.1.18 in /usr/local/lib/python3.10/dist-packages (from tiktoken<1,>=0.5.2->tavily-python) (2024.5.15)\n",
            "Requirement already satisfied: charset-normalizer<4,>=2 in /usr/local/lib/python3.10/dist-packages (from requests->tavily-python) (3.3.2)\n",
            "Requirement already satisfied: idna<4,>=2.5 in /usr/local/lib/python3.10/dist-packages (from requests->tavily-python) (3.7)\n",
            "Requirement already satisfied: urllib3<3,>=1.21.1 in /usr/local/lib/python3.10/dist-packages (from requests->tavily-python) (2.0.7)\n",
            "Requirement already satisfied: certifi>=2017.4.17 in /usr/local/lib/python3.10/dist-packages (from requests->tavily-python) (2024.2.2)\n",
            "Installing collected packages: tiktoken, tavily-python\n",
            "Successfully installed tavily-python-0.3.3 tiktoken-0.7.0\n"
          ]
        }
      ]
    },
    {
      "cell_type": "code",
      "source": [
        "from langchain_groq import ChatGroq\n",
        "from langchain_core.prompts import PromptTemplate\n",
        "from langchain_core.pydantic_v1 import BaseModel, Field"
      ],
      "metadata": {
        "id": "73sm_CPXNtVH"
      },
      "execution_count": null,
      "outputs": []
    },
    {
      "cell_type": "code",
      "source": [
        "prompt = PromptTemplate.from_template(\n",
        "    \"\"\"\n",
        "    You are given a list of company names, find the stock symbol(s) for them.\n",
        "    You have access to the search tool\n",
        "    tools: {tools}\\n\n",
        "    tool name: {tool_name} \\n\n",
        "    You can use the tool if you do not know the symbol, if you know then there is no need to search\n",
        "    Return list of symbols \\n\n",
        "    input: company names {company}\n",
        "    \"\"\"\n",
        ")"
      ],
      "metadata": {
        "id": "yy_xGI0TOrBX"
      },
      "execution_count": null,
      "outputs": []
    },
    {
      "cell_type": "code",
      "source": [
        "from google.colab import userdata\n",
        "import os\n",
        "\n",
        "os.environ['GROQ_API_KEY'] = userdata.get('GROQ_API_KEY')"
      ],
      "metadata": {
        "id": "043NUvJyO0G3"
      },
      "execution_count": null,
      "outputs": []
    },
    {
      "cell_type": "code",
      "source": [
        "os.environ['TAVILY_API_KEY'] = userdata.get('TAVILY_KEY')"
      ],
      "metadata": {
        "id": "ngfJ3T9DQ9kr"
      },
      "execution_count": null,
      "outputs": []
    },
    {
      "cell_type": "code",
      "source": [
        "from langchain_community.tools.tavily_search import TavilySearchResults\n",
        "\n",
        "tools = [TavilySearchResults(max_results=3)]"
      ],
      "metadata": {
        "id": "XEvb30kFQnX_"
      },
      "execution_count": null,
      "outputs": []
    },
    {
      "cell_type": "code",
      "source": [
        "tools[0].metadata"
      ],
      "metadata": {
        "id": "0oiym_wcQi18"
      },
      "execution_count": null,
      "outputs": []
    },
    {
      "cell_type": "code",
      "source": [
        "from typing import List\n",
        "\n",
        "class Symbols(BaseModel):\n",
        "  \"list of stock market symbols\"\n",
        "  symbols: List[str] = Field(description=\"list of stock market symbols for the input companies\")"
      ],
      "metadata": {
        "id": "UOr8xkvmPGX5"
      },
      "execution_count": null,
      "outputs": []
    },
    {
      "cell_type": "code",
      "source": [
        "agent = ChatGroq(model=\"llama3-70b-8192\", temperature=0, streaming=True, verbose=False)\n",
        "agent_struct = agent.with_structured_output(Symbols)"
      ],
      "metadata": {
        "id": "4aFWKWAuOukv"
      },
      "execution_count": null,
      "outputs": []
    },
    {
      "cell_type": "code",
      "source": [
        "agent_chain = prompt | agent"
      ],
      "metadata": {
        "id": "hVCnRc60RLBn"
      },
      "execution_count": null,
      "outputs": []
    },
    {
      "cell_type": "code",
      "source": [
        "agent.invoke(\"heloo\")"
      ],
      "metadata": {
        "colab": {
          "base_uri": "https://localhost:8080/"
        },
        "id": "3tNLetw_VHSp",
        "outputId": "2b704ecf-3513-4ef2-ee56-67691ab35a9d"
      },
      "execution_count": null,
      "outputs": [
        {
          "output_type": "execute_result",
          "data": {
            "text/plain": [
              "AIMessage(content=\"Hello! It's nice to meet you. Is there something I can help you with, or would you like to chat?\", response_metadata={'finish_reason': 'stop'}, id='run-697628b7-7e42-403a-b2e8-354bd69fbd35-0')"
            ]
          },
          "metadata": {},
          "execution_count": 36
        }
      ]
    },
    {
      "cell_type": "code",
      "source": [
        "type(tools[0])"
      ],
      "metadata": {
        "colab": {
          "base_uri": "https://localhost:8080/",
          "height": 120
        },
        "id": "vmITv0RHVRt5",
        "outputId": "42417dd5-3ce4-41fa-d553-02c618e4ac1a"
      },
      "execution_count": null,
      "outputs": [
        {
          "output_type": "execute_result",
          "data": {
            "text/plain": [
              "langchain_community.tools.tavily_search.tool.TavilySearchResults"
            ],
            "text/html": [
              "<div style=\"max-width:800px; border: 1px solid var(--colab-border-color);\"><style>\n",
              "      pre.function-repr-contents {\n",
              "        overflow-x: auto;\n",
              "        padding: 8px 12px;\n",
              "        max-height: 500px;\n",
              "      }\n",
              "\n",
              "      pre.function-repr-contents.function-repr-contents-collapsed {\n",
              "        cursor: pointer;\n",
              "        max-height: 100px;\n",
              "      }\n",
              "    </style>\n",
              "    <pre style=\"white-space: initial; background:\n",
              "         var(--colab-secondary-surface-color); padding: 8px 12px;\n",
              "         border-bottom: 1px solid var(--colab-border-color);\"><b>langchain_community.tools.tavily_search.tool.TavilySearchResults</b><br/>def warning_emitting_wrapper(*args: Any, **kwargs: Any) -&gt; Any</pre><pre class=\"function-repr-contents function-repr-contents-collapsed\" style=\"\"><a class=\"filepath\" style=\"display:none\" href=\"#\">/usr/local/lib/python3.10/dist-packages/langchain_community/tools/tavily_search/tool.py</a>Tool that queries the Tavily Search API and gets back json.</pre>\n",
              "      <script>\n",
              "      if (google.colab.kernel.accessAllowed && google.colab.files && google.colab.files.view) {\n",
              "        for (const element of document.querySelectorAll('.filepath')) {\n",
              "          element.style.display = 'block'\n",
              "          element.onclick = (event) => {\n",
              "            event.preventDefault();\n",
              "            event.stopPropagation();\n",
              "            google.colab.files.view(element.textContent, 21);\n",
              "          };\n",
              "        }\n",
              "      }\n",
              "      for (const element of document.querySelectorAll('.function-repr-contents')) {\n",
              "        element.onclick = (event) => {\n",
              "          event.preventDefault();\n",
              "          event.stopPropagation();\n",
              "          element.classList.toggle('function-repr-contents-collapsed');\n",
              "        };\n",
              "      }\n",
              "      </script>\n",
              "      </div>"
            ]
          },
          "metadata": {},
          "execution_count": 22
        }
      ]
    },
    {
      "cell_type": "code",
      "source": [
        "from langchain_core.prompts import ChatPromptTemplate, MessagesPlaceholder\n",
        "from langchain_core.messages import HumanMessage, BaseMessage\n",
        "from langchain.agents import AgentExecutor, create_tool_calling_agent\n",
        "\n",
        "def create_agent(llm, tools: list):\n",
        "  # Each worker node will be given a name and some tools.\n",
        "    prompt = ChatPromptTemplate.from_messages(\n",
        "        [\n",
        "            (\n",
        "                \"system\",\n",
        "                \"\"\"You are given a list of company names, find the stock symbol(s) for them.\n",
        "                   You have access to the search tool tavily_search_results_json\n",
        "                   You can use the tool if you do not know the symbol, if you know then there is no need to search\n",
        "                   input: list of company names\n",
        "                   output: Return only the symbols separated by spaces. Don't add any type of punctuantion.\n",
        "                \"\"\",\n",
        "            ),\n",
        "           (\"human\", \"{input}\"),\n",
        "            MessagesPlaceholder(variable_name=\"agent_scratchpad\"),\n",
        "        ]\n",
        "    )\n",
        "    agent = create_tool_calling_agent(llm, tools, prompt)\n",
        "    executor = AgentExecutor(agent=agent, tools=tools)\n",
        "    return executor"
      ],
      "metadata": {
        "id": "r3oh1lVURVPO"
      },
      "execution_count": null,
      "outputs": []
    },
    {
      "cell_type": "code",
      "source": [
        "agent_chain = create_agent(agent, tools)"
      ],
      "metadata": {
        "id": "SYetJyHuU0yF"
      },
      "execution_count": null,
      "outputs": []
    },
    {
      "cell_type": "code",
      "source": [
        "agent_chain.invoke(\"Apple Tesla\"})"
      ],
      "metadata": {
        "colab": {
          "base_uri": "https://localhost:8080/",
          "height": 282
        },
        "id": "NyLNP3PeVtxj",
        "outputId": "837efb7a-da8b-490a-dec5-00adee6764de"
      },
      "execution_count": null,
      "outputs": [
        {
          "output_type": "error",
          "ename": "AttributeError",
          "evalue": "'Stream' object has no attribute 'dict'",
          "traceback": [
            "\u001b[0;31m---------------------------------------------------------------------------\u001b[0m",
            "\u001b[0;31mAttributeError\u001b[0m                            Traceback (most recent call last)",
            "\u001b[0;32m<ipython-input-33-090f1b4fdf50>\u001b[0m in \u001b[0;36m<cell line: 1>\u001b[0;34m()\u001b[0m\n\u001b[0;32m----> 1\u001b[0;31m \u001b[0magent_chain\u001b[0m\u001b[0;34m.\u001b[0m\u001b[0minvoke\u001b[0m\u001b[0;34m(\u001b[0m\u001b[0;34m{\u001b[0m\u001b[0;34m\"input\"\u001b[0m\u001b[0;34m:\u001b[0m \u001b[0;34m[\u001b[0m\u001b[0mHumanMessage\u001b[0m\u001b[0;34m(\u001b[0m\u001b[0mcontent\u001b[0m\u001b[0;34m=\u001b[0m\u001b[0;34m\"Apple Tesla\"\u001b[0m\u001b[0;34m)\u001b[0m\u001b[0;34m]\u001b[0m\u001b[0;34m}\u001b[0m\u001b[0;34m)\u001b[0m\u001b[0;34m\u001b[0m\u001b[0;34m\u001b[0m\u001b[0m\n\u001b[0m",
            "\u001b[0;32m/usr/local/lib/python3.10/dist-packages/langchain/chains/base.py\u001b[0m in \u001b[0;36minvoke\u001b[0;34m(self, input, config, **kwargs)\u001b[0m\n\u001b[1;32m    164\u001b[0m         \u001b[0;32mexcept\u001b[0m \u001b[0mBaseException\u001b[0m \u001b[0;32mas\u001b[0m \u001b[0me\u001b[0m\u001b[0;34m:\u001b[0m\u001b[0;34m\u001b[0m\u001b[0;34m\u001b[0m\u001b[0m\n\u001b[1;32m    165\u001b[0m             \u001b[0mrun_manager\u001b[0m\u001b[0;34m.\u001b[0m\u001b[0mon_chain_error\u001b[0m\u001b[0;34m(\u001b[0m\u001b[0me\u001b[0m\u001b[0;34m)\u001b[0m\u001b[0;34m\u001b[0m\u001b[0;34m\u001b[0m\u001b[0m\n\u001b[0;32m--> 166\u001b[0;31m             \u001b[0;32mraise\u001b[0m \u001b[0me\u001b[0m\u001b[0;34m\u001b[0m\u001b[0;34m\u001b[0m\u001b[0m\n\u001b[0m\u001b[1;32m    167\u001b[0m         \u001b[0mrun_manager\u001b[0m\u001b[0;34m.\u001b[0m\u001b[0mon_chain_end\u001b[0m\u001b[0;34m(\u001b[0m\u001b[0moutputs\u001b[0m\u001b[0;34m)\u001b[0m\u001b[0;34m\u001b[0m\u001b[0;34m\u001b[0m\u001b[0m\n\u001b[1;32m    168\u001b[0m \u001b[0;34m\u001b[0m\u001b[0m\n",
            "\u001b[0;32m/usr/local/lib/python3.10/dist-packages/langchain/chains/base.py\u001b[0m in \u001b[0;36minvoke\u001b[0;34m(self, input, config, **kwargs)\u001b[0m\n\u001b[1;32m    154\u001b[0m             \u001b[0mself\u001b[0m\u001b[0;34m.\u001b[0m\u001b[0m_validate_inputs\u001b[0m\u001b[0;34m(\u001b[0m\u001b[0minputs\u001b[0m\u001b[0;34m)\u001b[0m\u001b[0;34m\u001b[0m\u001b[0;34m\u001b[0m\u001b[0m\n\u001b[1;32m    155\u001b[0m             outputs = (\n\u001b[0;32m--> 156\u001b[0;31m                 \u001b[0mself\u001b[0m\u001b[0;34m.\u001b[0m\u001b[0m_call\u001b[0m\u001b[0;34m(\u001b[0m\u001b[0minputs\u001b[0m\u001b[0;34m,\u001b[0m \u001b[0mrun_manager\u001b[0m\u001b[0;34m=\u001b[0m\u001b[0mrun_manager\u001b[0m\u001b[0;34m)\u001b[0m\u001b[0;34m\u001b[0m\u001b[0;34m\u001b[0m\u001b[0m\n\u001b[0m\u001b[1;32m    157\u001b[0m                 \u001b[0;32mif\u001b[0m \u001b[0mnew_arg_supported\u001b[0m\u001b[0;34m\u001b[0m\u001b[0;34m\u001b[0m\u001b[0m\n\u001b[1;32m    158\u001b[0m                 \u001b[0;32melse\u001b[0m \u001b[0mself\u001b[0m\u001b[0;34m.\u001b[0m\u001b[0m_call\u001b[0m\u001b[0;34m(\u001b[0m\u001b[0minputs\u001b[0m\u001b[0;34m)\u001b[0m\u001b[0;34m\u001b[0m\u001b[0;34m\u001b[0m\u001b[0m\n",
            "\u001b[0;32m/usr/local/lib/python3.10/dist-packages/langchain/agents/agent.py\u001b[0m in \u001b[0;36m_call\u001b[0;34m(self, inputs, run_manager)\u001b[0m\n\u001b[1;32m   1431\u001b[0m         \u001b[0;31m# We now enter the agent loop (until it returns something).\u001b[0m\u001b[0;34m\u001b[0m\u001b[0;34m\u001b[0m\u001b[0m\n\u001b[1;32m   1432\u001b[0m         \u001b[0;32mwhile\u001b[0m \u001b[0mself\u001b[0m\u001b[0;34m.\u001b[0m\u001b[0m_should_continue\u001b[0m\u001b[0;34m(\u001b[0m\u001b[0miterations\u001b[0m\u001b[0;34m,\u001b[0m \u001b[0mtime_elapsed\u001b[0m\u001b[0;34m)\u001b[0m\u001b[0;34m:\u001b[0m\u001b[0;34m\u001b[0m\u001b[0;34m\u001b[0m\u001b[0m\n\u001b[0;32m-> 1433\u001b[0;31m             next_step_output = self._take_next_step(\n\u001b[0m\u001b[1;32m   1434\u001b[0m                 \u001b[0mname_to_tool_map\u001b[0m\u001b[0;34m,\u001b[0m\u001b[0;34m\u001b[0m\u001b[0;34m\u001b[0m\u001b[0m\n\u001b[1;32m   1435\u001b[0m                 \u001b[0mcolor_mapping\u001b[0m\u001b[0;34m,\u001b[0m\u001b[0;34m\u001b[0m\u001b[0;34m\u001b[0m\u001b[0m\n",
            "\u001b[0;32m/usr/local/lib/python3.10/dist-packages/langchain/agents/agent.py\u001b[0m in \u001b[0;36m_take_next_step\u001b[0;34m(self, name_to_tool_map, color_mapping, inputs, intermediate_steps, run_manager)\u001b[0m\n\u001b[1;32m   1137\u001b[0m     ) -> Union[AgentFinish, List[Tuple[AgentAction, str]]]:\n\u001b[1;32m   1138\u001b[0m         return self._consume_next_step(\n\u001b[0;32m-> 1139\u001b[0;31m             [\n\u001b[0m\u001b[1;32m   1140\u001b[0m                 \u001b[0ma\u001b[0m\u001b[0;34m\u001b[0m\u001b[0;34m\u001b[0m\u001b[0m\n\u001b[1;32m   1141\u001b[0m                 for a in self._iter_next_step(\n",
            "\u001b[0;32m/usr/local/lib/python3.10/dist-packages/langchain/agents/agent.py\u001b[0m in \u001b[0;36m<listcomp>\u001b[0;34m(.0)\u001b[0m\n\u001b[1;32m   1137\u001b[0m     ) -> Union[AgentFinish, List[Tuple[AgentAction, str]]]:\n\u001b[1;32m   1138\u001b[0m         return self._consume_next_step(\n\u001b[0;32m-> 1139\u001b[0;31m             [\n\u001b[0m\u001b[1;32m   1140\u001b[0m                 \u001b[0ma\u001b[0m\u001b[0;34m\u001b[0m\u001b[0;34m\u001b[0m\u001b[0m\n\u001b[1;32m   1141\u001b[0m                 for a in self._iter_next_step(\n",
            "\u001b[0;32m/usr/local/lib/python3.10/dist-packages/langchain/agents/agent.py\u001b[0m in \u001b[0;36m_iter_next_step\u001b[0;34m(self, name_to_tool_map, color_mapping, inputs, intermediate_steps, run_manager)\u001b[0m\n\u001b[1;32m   1165\u001b[0m \u001b[0;34m\u001b[0m\u001b[0m\n\u001b[1;32m   1166\u001b[0m             \u001b[0;31m# Call the LLM to see what to do.\u001b[0m\u001b[0;34m\u001b[0m\u001b[0;34m\u001b[0m\u001b[0m\n\u001b[0;32m-> 1167\u001b[0;31m             output = self.agent.plan(\n\u001b[0m\u001b[1;32m   1168\u001b[0m                 \u001b[0mintermediate_steps\u001b[0m\u001b[0;34m,\u001b[0m\u001b[0;34m\u001b[0m\u001b[0;34m\u001b[0m\u001b[0m\n\u001b[1;32m   1169\u001b[0m                 \u001b[0mcallbacks\u001b[0m\u001b[0;34m=\u001b[0m\u001b[0mrun_manager\u001b[0m\u001b[0;34m.\u001b[0m\u001b[0mget_child\u001b[0m\u001b[0;34m(\u001b[0m\u001b[0;34m)\u001b[0m \u001b[0;32mif\u001b[0m \u001b[0mrun_manager\u001b[0m \u001b[0;32melse\u001b[0m \u001b[0;32mNone\u001b[0m\u001b[0;34m,\u001b[0m\u001b[0;34m\u001b[0m\u001b[0;34m\u001b[0m\u001b[0m\n",
            "\u001b[0;32m/usr/local/lib/python3.10/dist-packages/langchain/agents/agent.py\u001b[0m in \u001b[0;36mplan\u001b[0;34m(self, intermediate_steps, callbacks, **kwargs)\u001b[0m\n\u001b[1;32m    513\u001b[0m             \u001b[0;31m# Because the response from the plan is not a generator, we need to\u001b[0m\u001b[0;34m\u001b[0m\u001b[0;34m\u001b[0m\u001b[0m\n\u001b[1;32m    514\u001b[0m             \u001b[0;31m# accumulate the output into final output and return that.\u001b[0m\u001b[0;34m\u001b[0m\u001b[0;34m\u001b[0m\u001b[0m\n\u001b[0;32m--> 515\u001b[0;31m             \u001b[0;32mfor\u001b[0m \u001b[0mchunk\u001b[0m \u001b[0;32min\u001b[0m \u001b[0mself\u001b[0m\u001b[0;34m.\u001b[0m\u001b[0mrunnable\u001b[0m\u001b[0;34m.\u001b[0m\u001b[0mstream\u001b[0m\u001b[0;34m(\u001b[0m\u001b[0minputs\u001b[0m\u001b[0;34m,\u001b[0m \u001b[0mconfig\u001b[0m\u001b[0;34m=\u001b[0m\u001b[0;34m{\u001b[0m\u001b[0;34m\"callbacks\"\u001b[0m\u001b[0;34m:\u001b[0m \u001b[0mcallbacks\u001b[0m\u001b[0;34m}\u001b[0m\u001b[0;34m)\u001b[0m\u001b[0;34m:\u001b[0m\u001b[0;34m\u001b[0m\u001b[0;34m\u001b[0m\u001b[0m\n\u001b[0m\u001b[1;32m    516\u001b[0m                 \u001b[0;32mif\u001b[0m \u001b[0mfinal_output\u001b[0m \u001b[0;32mis\u001b[0m \u001b[0;32mNone\u001b[0m\u001b[0;34m:\u001b[0m\u001b[0;34m\u001b[0m\u001b[0;34m\u001b[0m\u001b[0m\n\u001b[1;32m    517\u001b[0m                     \u001b[0mfinal_output\u001b[0m \u001b[0;34m=\u001b[0m \u001b[0mchunk\u001b[0m\u001b[0;34m\u001b[0m\u001b[0;34m\u001b[0m\u001b[0m\n",
            "\u001b[0;32m/usr/local/lib/python3.10/dist-packages/langchain_core/runnables/base.py\u001b[0m in \u001b[0;36mstream\u001b[0;34m(self, input, config, **kwargs)\u001b[0m\n\u001b[1;32m   2773\u001b[0m         \u001b[0;34m**\u001b[0m\u001b[0mkwargs\u001b[0m\u001b[0;34m:\u001b[0m \u001b[0mOptional\u001b[0m\u001b[0;34m[\u001b[0m\u001b[0mAny\u001b[0m\u001b[0;34m]\u001b[0m\u001b[0;34m,\u001b[0m\u001b[0;34m\u001b[0m\u001b[0;34m\u001b[0m\u001b[0m\n\u001b[1;32m   2774\u001b[0m     ) -> Iterator[Output]:\n\u001b[0;32m-> 2775\u001b[0;31m         \u001b[0;32myield\u001b[0m \u001b[0;32mfrom\u001b[0m \u001b[0mself\u001b[0m\u001b[0;34m.\u001b[0m\u001b[0mtransform\u001b[0m\u001b[0;34m(\u001b[0m\u001b[0miter\u001b[0m\u001b[0;34m(\u001b[0m\u001b[0;34m[\u001b[0m\u001b[0minput\u001b[0m\u001b[0;34m]\u001b[0m\u001b[0;34m)\u001b[0m\u001b[0;34m,\u001b[0m \u001b[0mconfig\u001b[0m\u001b[0;34m,\u001b[0m \u001b[0;34m**\u001b[0m\u001b[0mkwargs\u001b[0m\u001b[0;34m)\u001b[0m\u001b[0;34m\u001b[0m\u001b[0;34m\u001b[0m\u001b[0m\n\u001b[0m\u001b[1;32m   2776\u001b[0m \u001b[0;34m\u001b[0m\u001b[0m\n\u001b[1;32m   2777\u001b[0m     async def atransform(\n",
            "\u001b[0;32m/usr/local/lib/python3.10/dist-packages/langchain_core/runnables/base.py\u001b[0m in \u001b[0;36mtransform\u001b[0;34m(self, input, config, **kwargs)\u001b[0m\n\u001b[1;32m   2760\u001b[0m         \u001b[0;34m**\u001b[0m\u001b[0mkwargs\u001b[0m\u001b[0;34m:\u001b[0m \u001b[0mOptional\u001b[0m\u001b[0;34m[\u001b[0m\u001b[0mAny\u001b[0m\u001b[0;34m]\u001b[0m\u001b[0;34m,\u001b[0m\u001b[0;34m\u001b[0m\u001b[0;34m\u001b[0m\u001b[0m\n\u001b[1;32m   2761\u001b[0m     ) -> Iterator[Output]:\n\u001b[0;32m-> 2762\u001b[0;31m         yield from self._transform_stream_with_config(\n\u001b[0m\u001b[1;32m   2763\u001b[0m             \u001b[0minput\u001b[0m\u001b[0;34m,\u001b[0m\u001b[0;34m\u001b[0m\u001b[0;34m\u001b[0m\u001b[0m\n\u001b[1;32m   2764\u001b[0m             \u001b[0mself\u001b[0m\u001b[0;34m.\u001b[0m\u001b[0m_transform\u001b[0m\u001b[0;34m,\u001b[0m\u001b[0;34m\u001b[0m\u001b[0;34m\u001b[0m\u001b[0m\n",
            "\u001b[0;32m/usr/local/lib/python3.10/dist-packages/langchain_core/runnables/base.py\u001b[0m in \u001b[0;36m_transform_stream_with_config\u001b[0;34m(self, input, transformer, config, run_type, **kwargs)\u001b[0m\n\u001b[1;32m   1776\u001b[0m             \u001b[0;32mtry\u001b[0m\u001b[0;34m:\u001b[0m\u001b[0;34m\u001b[0m\u001b[0;34m\u001b[0m\u001b[0m\n\u001b[1;32m   1777\u001b[0m                 \u001b[0;32mwhile\u001b[0m \u001b[0;32mTrue\u001b[0m\u001b[0;34m:\u001b[0m\u001b[0;34m\u001b[0m\u001b[0;34m\u001b[0m\u001b[0m\n\u001b[0;32m-> 1778\u001b[0;31m                     \u001b[0mchunk\u001b[0m\u001b[0;34m:\u001b[0m \u001b[0mOutput\u001b[0m \u001b[0;34m=\u001b[0m \u001b[0mcontext\u001b[0m\u001b[0;34m.\u001b[0m\u001b[0mrun\u001b[0m\u001b[0;34m(\u001b[0m\u001b[0mnext\u001b[0m\u001b[0;34m,\u001b[0m \u001b[0miterator\u001b[0m\u001b[0;34m)\u001b[0m  \u001b[0;31m# type: ignore\u001b[0m\u001b[0;34m\u001b[0m\u001b[0;34m\u001b[0m\u001b[0m\n\u001b[0m\u001b[1;32m   1779\u001b[0m                     \u001b[0;32myield\u001b[0m \u001b[0mchunk\u001b[0m\u001b[0;34m\u001b[0m\u001b[0;34m\u001b[0m\u001b[0m\n\u001b[1;32m   1780\u001b[0m                     \u001b[0;32mif\u001b[0m \u001b[0mfinal_output_supported\u001b[0m\u001b[0;34m:\u001b[0m\u001b[0;34m\u001b[0m\u001b[0;34m\u001b[0m\u001b[0m\n",
            "\u001b[0;32m/usr/local/lib/python3.10/dist-packages/langchain_core/runnables/base.py\u001b[0m in \u001b[0;36m_transform\u001b[0;34m(self, input, run_manager, config)\u001b[0m\n\u001b[1;32m   2724\u001b[0m             )\n\u001b[1;32m   2725\u001b[0m \u001b[0;34m\u001b[0m\u001b[0m\n\u001b[0;32m-> 2726\u001b[0;31m         \u001b[0;32mfor\u001b[0m \u001b[0moutput\u001b[0m \u001b[0;32min\u001b[0m \u001b[0mfinal_pipeline\u001b[0m\u001b[0;34m:\u001b[0m\u001b[0;34m\u001b[0m\u001b[0;34m\u001b[0m\u001b[0m\n\u001b[0m\u001b[1;32m   2727\u001b[0m             \u001b[0;32myield\u001b[0m \u001b[0moutput\u001b[0m\u001b[0;34m\u001b[0m\u001b[0;34m\u001b[0m\u001b[0m\n\u001b[1;32m   2728\u001b[0m \u001b[0;34m\u001b[0m\u001b[0m\n",
            "\u001b[0;32m/usr/local/lib/python3.10/dist-packages/langchain_core/runnables/base.py\u001b[0m in \u001b[0;36mtransform\u001b[0;34m(self, input, config, **kwargs)\u001b[0m\n\u001b[1;32m   1152\u001b[0m         \u001b[0mgot_first_val\u001b[0m \u001b[0;34m=\u001b[0m \u001b[0;32mFalse\u001b[0m\u001b[0;34m\u001b[0m\u001b[0;34m\u001b[0m\u001b[0m\n\u001b[1;32m   1153\u001b[0m \u001b[0;34m\u001b[0m\u001b[0m\n\u001b[0;32m-> 1154\u001b[0;31m         \u001b[0;32mfor\u001b[0m \u001b[0michunk\u001b[0m \u001b[0;32min\u001b[0m \u001b[0minput\u001b[0m\u001b[0;34m:\u001b[0m\u001b[0;34m\u001b[0m\u001b[0;34m\u001b[0m\u001b[0m\n\u001b[0m\u001b[1;32m   1155\u001b[0m             \u001b[0;31m# The default implementation of transform is to buffer input and\u001b[0m\u001b[0;34m\u001b[0m\u001b[0;34m\u001b[0m\u001b[0m\n\u001b[1;32m   1156\u001b[0m             \u001b[0;31m# then call stream.\u001b[0m\u001b[0;34m\u001b[0m\u001b[0;34m\u001b[0m\u001b[0m\n",
            "\u001b[0;32m/usr/local/lib/python3.10/dist-packages/langchain_core/runnables/base.py\u001b[0m in \u001b[0;36mtransform\u001b[0;34m(self, input, config, **kwargs)\u001b[0m\n\u001b[1;32m   4642\u001b[0m         \u001b[0;34m**\u001b[0m\u001b[0mkwargs\u001b[0m\u001b[0;34m:\u001b[0m \u001b[0mAny\u001b[0m\u001b[0;34m,\u001b[0m\u001b[0;34m\u001b[0m\u001b[0;34m\u001b[0m\u001b[0m\n\u001b[1;32m   4643\u001b[0m     ) -> Iterator[Output]:\n\u001b[0;32m-> 4644\u001b[0;31m         yield from self.bound.transform(\n\u001b[0m\u001b[1;32m   4645\u001b[0m             \u001b[0minput\u001b[0m\u001b[0;34m,\u001b[0m\u001b[0;34m\u001b[0m\u001b[0;34m\u001b[0m\u001b[0m\n\u001b[1;32m   4646\u001b[0m             \u001b[0mself\u001b[0m\u001b[0;34m.\u001b[0m\u001b[0m_merge_configs\u001b[0m\u001b[0;34m(\u001b[0m\u001b[0mconfig\u001b[0m\u001b[0;34m)\u001b[0m\u001b[0;34m,\u001b[0m\u001b[0;34m\u001b[0m\u001b[0;34m\u001b[0m\u001b[0m\n",
            "\u001b[0;32m/usr/local/lib/python3.10/dist-packages/langchain_core/runnables/base.py\u001b[0m in \u001b[0;36mtransform\u001b[0;34m(self, input, config, **kwargs)\u001b[0m\n\u001b[1;32m   1170\u001b[0m \u001b[0;34m\u001b[0m\u001b[0m\n\u001b[1;32m   1171\u001b[0m         \u001b[0;32mif\u001b[0m \u001b[0mgot_first_val\u001b[0m\u001b[0;34m:\u001b[0m\u001b[0;34m\u001b[0m\u001b[0;34m\u001b[0m\u001b[0m\n\u001b[0;32m-> 1172\u001b[0;31m             \u001b[0;32myield\u001b[0m \u001b[0;32mfrom\u001b[0m \u001b[0mself\u001b[0m\u001b[0;34m.\u001b[0m\u001b[0mstream\u001b[0m\u001b[0;34m(\u001b[0m\u001b[0mfinal\u001b[0m\u001b[0;34m,\u001b[0m \u001b[0mconfig\u001b[0m\u001b[0;34m,\u001b[0m \u001b[0;34m**\u001b[0m\u001b[0mkwargs\u001b[0m\u001b[0;34m)\u001b[0m\u001b[0;34m\u001b[0m\u001b[0;34m\u001b[0m\u001b[0m\n\u001b[0m\u001b[1;32m   1173\u001b[0m \u001b[0;34m\u001b[0m\u001b[0m\n\u001b[1;32m   1174\u001b[0m     async def atransform(\n",
            "\u001b[0;32m/usr/local/lib/python3.10/dist-packages/langchain_core/language_models/chat_models.py\u001b[0m in \u001b[0;36mstream\u001b[0;34m(self, input, config, stop, **kwargs)\u001b[0m\n\u001b[1;32m    263\u001b[0m                     ),\n\u001b[1;32m    264\u001b[0m                 )\n\u001b[0;32m--> 265\u001b[0;31m                 \u001b[0;32mraise\u001b[0m \u001b[0me\u001b[0m\u001b[0;34m\u001b[0m\u001b[0;34m\u001b[0m\u001b[0m\n\u001b[0m\u001b[1;32m    266\u001b[0m             \u001b[0;32melse\u001b[0m\u001b[0;34m:\u001b[0m\u001b[0;34m\u001b[0m\u001b[0;34m\u001b[0m\u001b[0m\n\u001b[1;32m    267\u001b[0m                 \u001b[0mrun_manager\u001b[0m\u001b[0;34m.\u001b[0m\u001b[0mon_llm_end\u001b[0m\u001b[0;34m(\u001b[0m\u001b[0mLLMResult\u001b[0m\u001b[0;34m(\u001b[0m\u001b[0mgenerations\u001b[0m\u001b[0;34m=\u001b[0m\u001b[0;34m[\u001b[0m\u001b[0;34m[\u001b[0m\u001b[0mgeneration\u001b[0m\u001b[0;34m]\u001b[0m\u001b[0;34m]\u001b[0m\u001b[0;34m)\u001b[0m\u001b[0;34m)\u001b[0m\u001b[0;34m\u001b[0m\u001b[0;34m\u001b[0m\u001b[0m\n",
            "\u001b[0;32m/usr/local/lib/python3.10/dist-packages/langchain_core/language_models/chat_models.py\u001b[0m in \u001b[0;36mstream\u001b[0;34m(self, input, config, stop, **kwargs)\u001b[0m\n\u001b[1;32m    243\u001b[0m             \u001b[0mgeneration\u001b[0m\u001b[0;34m:\u001b[0m \u001b[0mOptional\u001b[0m\u001b[0;34m[\u001b[0m\u001b[0mChatGenerationChunk\u001b[0m\u001b[0;34m]\u001b[0m \u001b[0;34m=\u001b[0m \u001b[0;32mNone\u001b[0m\u001b[0;34m\u001b[0m\u001b[0;34m\u001b[0m\u001b[0m\n\u001b[1;32m    244\u001b[0m             \u001b[0;32mtry\u001b[0m\u001b[0;34m:\u001b[0m\u001b[0;34m\u001b[0m\u001b[0;34m\u001b[0m\u001b[0m\n\u001b[0;32m--> 245\u001b[0;31m                 \u001b[0;32mfor\u001b[0m \u001b[0mchunk\u001b[0m \u001b[0;32min\u001b[0m \u001b[0mself\u001b[0m\u001b[0;34m.\u001b[0m\u001b[0m_stream\u001b[0m\u001b[0;34m(\u001b[0m\u001b[0mmessages\u001b[0m\u001b[0;34m,\u001b[0m \u001b[0mstop\u001b[0m\u001b[0;34m=\u001b[0m\u001b[0mstop\u001b[0m\u001b[0;34m,\u001b[0m \u001b[0;34m**\u001b[0m\u001b[0mkwargs\u001b[0m\u001b[0;34m)\u001b[0m\u001b[0;34m:\u001b[0m\u001b[0;34m\u001b[0m\u001b[0;34m\u001b[0m\u001b[0m\n\u001b[0m\u001b[1;32m    246\u001b[0m                     \u001b[0;32mif\u001b[0m \u001b[0mchunk\u001b[0m\u001b[0;34m.\u001b[0m\u001b[0mmessage\u001b[0m\u001b[0;34m.\u001b[0m\u001b[0mid\u001b[0m \u001b[0;32mis\u001b[0m \u001b[0;32mNone\u001b[0m\u001b[0;34m:\u001b[0m\u001b[0;34m\u001b[0m\u001b[0;34m\u001b[0m\u001b[0m\n\u001b[1;32m    247\u001b[0m                         \u001b[0mchunk\u001b[0m\u001b[0;34m.\u001b[0m\u001b[0mmessage\u001b[0m\u001b[0;34m.\u001b[0m\u001b[0mid\u001b[0m \u001b[0;34m=\u001b[0m \u001b[0;34mf\"run-{run_manager.run_id}\"\u001b[0m\u001b[0;34m\u001b[0m\u001b[0;34m\u001b[0m\u001b[0m\n",
            "\u001b[0;32m/usr/local/lib/python3.10/dist-packages/langchain_groq/chat_models.py\u001b[0m in \u001b[0;36m_stream\u001b[0;34m(self, messages, stop, run_manager, **kwargs)\u001b[0m\n\u001b[1;32m    283\u001b[0m                 \u001b[0mmessages\u001b[0m\u001b[0;34m=\u001b[0m\u001b[0mmessage_dicts\u001b[0m\u001b[0;34m,\u001b[0m \u001b[0;34m**\u001b[0m\u001b[0;34m{\u001b[0m\u001b[0;34m**\u001b[0m\u001b[0mparams\u001b[0m\u001b[0;34m,\u001b[0m \u001b[0;34m**\u001b[0m\u001b[0mkwargs\u001b[0m\u001b[0;34m}\u001b[0m\u001b[0;34m\u001b[0m\u001b[0;34m\u001b[0m\u001b[0m\n\u001b[1;32m    284\u001b[0m             )\n\u001b[0;32m--> 285\u001b[0;31m             \u001b[0mchat_result\u001b[0m \u001b[0;34m=\u001b[0m \u001b[0mself\u001b[0m\u001b[0;34m.\u001b[0m\u001b[0m_create_chat_result\u001b[0m\u001b[0;34m(\u001b[0m\u001b[0mresponse\u001b[0m\u001b[0;34m)\u001b[0m\u001b[0;34m\u001b[0m\u001b[0;34m\u001b[0m\u001b[0m\n\u001b[0m\u001b[1;32m    286\u001b[0m             \u001b[0mgeneration\u001b[0m \u001b[0;34m=\u001b[0m \u001b[0mchat_result\u001b[0m\u001b[0;34m.\u001b[0m\u001b[0mgenerations\u001b[0m\u001b[0;34m[\u001b[0m\u001b[0;36m0\u001b[0m\u001b[0;34m]\u001b[0m\u001b[0;34m\u001b[0m\u001b[0;34m\u001b[0m\u001b[0m\n\u001b[1;32m    287\u001b[0m             \u001b[0mmessage\u001b[0m \u001b[0;34m=\u001b[0m \u001b[0mgeneration\u001b[0m\u001b[0;34m.\u001b[0m\u001b[0mmessage\u001b[0m\u001b[0;34m\u001b[0m\u001b[0;34m\u001b[0m\u001b[0m\n",
            "\u001b[0;32m/usr/local/lib/python3.10/dist-packages/langchain_groq/chat_models.py\u001b[0m in \u001b[0;36m_create_chat_result\u001b[0;34m(self, response)\u001b[0m\n\u001b[1;32m    435\u001b[0m         \u001b[0mgenerations\u001b[0m \u001b[0;34m=\u001b[0m \u001b[0;34m[\u001b[0m\u001b[0;34m]\u001b[0m\u001b[0;34m\u001b[0m\u001b[0;34m\u001b[0m\u001b[0m\n\u001b[1;32m    436\u001b[0m         \u001b[0;32mif\u001b[0m \u001b[0;32mnot\u001b[0m \u001b[0misinstance\u001b[0m\u001b[0;34m(\u001b[0m\u001b[0mresponse\u001b[0m\u001b[0;34m,\u001b[0m \u001b[0mdict\u001b[0m\u001b[0;34m)\u001b[0m\u001b[0;34m:\u001b[0m\u001b[0;34m\u001b[0m\u001b[0;34m\u001b[0m\u001b[0m\n\u001b[0;32m--> 437\u001b[0;31m             \u001b[0mresponse\u001b[0m \u001b[0;34m=\u001b[0m \u001b[0mresponse\u001b[0m\u001b[0;34m.\u001b[0m\u001b[0mdict\u001b[0m\u001b[0;34m(\u001b[0m\u001b[0;34m)\u001b[0m\u001b[0;34m\u001b[0m\u001b[0;34m\u001b[0m\u001b[0m\n\u001b[0m\u001b[1;32m    438\u001b[0m         \u001b[0;32mfor\u001b[0m \u001b[0mres\u001b[0m \u001b[0;32min\u001b[0m \u001b[0mresponse\u001b[0m\u001b[0;34m[\u001b[0m\u001b[0;34m\"choices\"\u001b[0m\u001b[0;34m]\u001b[0m\u001b[0;34m:\u001b[0m\u001b[0;34m\u001b[0m\u001b[0;34m\u001b[0m\u001b[0m\n\u001b[1;32m    439\u001b[0m             \u001b[0mmessage\u001b[0m \u001b[0;34m=\u001b[0m \u001b[0m_convert_dict_to_message\u001b[0m\u001b[0;34m(\u001b[0m\u001b[0mres\u001b[0m\u001b[0;34m[\u001b[0m\u001b[0;34m\"message\"\u001b[0m\u001b[0;34m]\u001b[0m\u001b[0;34m)\u001b[0m\u001b[0;34m\u001b[0m\u001b[0;34m\u001b[0m\u001b[0m\n",
            "\u001b[0;31mAttributeError\u001b[0m: 'Stream' object has no attribute 'dict'"
          ]
        }
      ]
    },
    {
      "cell_type": "code",
      "source": [
        "prompt = ChatPromptTemplate.from_messages(\n",
        "        [\n",
        "            (\n",
        "                \"system\",\n",
        "                \"\"\"You are given a list of company names, find the stock symbol(s) for them.\n",
        "                   You have access to the search tool tavily_search_results_json\n",
        "                   You can use the tool if you do not know the symbol, if you know then there is no need to search\n",
        "                   Return list of stock symbols corresponding to the company\\n\n",
        "                   input: list of company names\n",
        "                \"\"\",\n",
        "            ),\n",
        "            MessagesPlaceholder(variable_name=\"input\"),\n",
        "            MessagesPlaceholder(variable_name=\"agent_scratchpad\"),\n",
        "        ]\n",
        "    )"
      ],
      "metadata": {
        "id": "RKnfUbyqWKoO"
      },
      "execution_count": null,
      "outputs": []
    },
    {
      "cell_type": "code",
      "source": [
        "os.environ['COHERE_API_KEY'] = userdata.get('COHERE_KEY')"
      ],
      "metadata": {
        "id": "YdNUsVaKYUXo"
      },
      "execution_count": null,
      "outputs": []
    },
    {
      "cell_type": "code",
      "source": [
        "from langchain_core.output_parsers import StrOutputParser\n",
        "from langchain_core.prompts import ChatPromptTemplate\n",
        "from langchain_cohere import ChatCohere\n",
        "\n",
        "model = ChatCohere(model='command-r-plus', streaming=True)\n",
        "\n",
        "prompt = ChatPromptTemplate.from_template(\n",
        "    \"You are and finance expert AI Assistant. \\n\"\n",
        "    \"Your are provided a json string consisting of meaningful data about {topic} of \"\n",
        "    \"{symbol}.\"\n",
        "    \"Your task is to create a meaningful report using it, so that the report can be used by a supervisor as context \"\n",
        "    \"for final decision.\\n\"\n",
        "    \"json string: {json}\"\n",
        ")\n",
        "\n",
        "output_parser = StrOutputParser()\n",
        "\n",
        "chain = prompt | model | output_parser"
      ],
      "metadata": {
        "id": "f7j_iiLT2EBl"
      },
      "execution_count": null,
      "outputs": []
    },
    {
      "cell_type": "code",
      "source": [
        "av_key = userdata.get('AV_KEY')"
      ],
      "metadata": {
        "id": "fPJLi70g2kS5"
      },
      "execution_count": null,
      "outputs": []
    },
    {
      "cell_type": "code",
      "source": [
        "from datetime import date, timedelta\n",
        "from datetime import datetime\n",
        "import requests\n",
        "import json\n",
        "\n",
        "def get_news_search(symbol):\n",
        "    \"\"\"\n",
        "        get outsider sentiment\n",
        "        get news with sentiment score about company with stock symbol passed as input. \\n\n",
        "        news will be used for sentiment analysis for finance & stock trade decisions\n",
        "        output: json containing the metadata and news\n",
        "        \"\"\"\n",
        "    now = datetime.now() - timedelta(days=30)\n",
        "    formatted_time = now.strftime(\"%Y%m%dT%H%M\")\n",
        "    url = f'https://www.alphavantage.co/query?function=NEWS_SENTIMENT&time_from={formatted_time}&tickers={symbol}&sort=LATEST&apikey={av_key}'\n",
        "    r = requests.get(url)\n",
        "    data = r.json()\n",
        "\n",
        "    return json.dumps(data)"
      ],
      "metadata": {
        "id": "7bJA0IcC2SmK"
      },
      "execution_count": null,
      "outputs": []
    },
    {
      "cell_type": "code",
      "source": [
        "info = get_news_search(\"TSLA\")"
      ],
      "metadata": {
        "id": "5Qxz_fTx3L1G"
      },
      "execution_count": null,
      "outputs": []
    },
    {
      "cell_type": "code",
      "source": [
        "info"
      ],
      "metadata": {
        "colab": {
          "base_uri": "https://localhost:8080/",
          "height": 137
        },
        "id": "skz9wSNj3fc_",
        "outputId": "d1f8f23c-2bb6-4e5a-cb80-04735eb8469d"
      },
      "execution_count": null,
      "outputs": [
        {
          "output_type": "execute_result",
          "data": {
            "text/plain": [
              "'{\"items\": \"50\", \"sentiment_score_definition\": \"x <= -0.35: Bearish; -0.35 < x <= -0.15: Somewhat-Bearish; -0.15 < x < 0.15: Neutral; 0.15 <= x < 0.35: Somewhat_Bullish; x >= 0.35: Bullish\", \"relevance_score_definition\": \"0 < x <= 1, with a higher score indicating higher relevance.\", \"feed\": [{\"title\": \"World\\'s Smartest Banker Says \\\\\"Could Be Hell To Pay\\\\\" If Wall Street\\'s Craze Goes Wrong - iShares 20+ Year Treasury Bond ETF  ( NASDAQ:TLT ) \", \"url\": \"https://www.benzinga.com/markets/24/05/39092931/worlds-smartest-banker-says-could-be-hell-to-pay-if-wall-streets-craze-goes-wrong\", \"time_published\": \"20240530T165243\", \"authors\": [\"The Arora Report\"], \"summary\": \"To gain an edge, this is what you need to know today. Please click here for an enlarged chart of iShares 20+ Year Treasury Bond ETF TLT. High yield: 4.650% ( When-Issued: 4.637% ) GDP - second estimate for Q1 came at 1.3% vs. 1.3% consensus. You may recall that the advance report showed a ...\", \"banner_image\": \"https://cdn.benzinga.com/files/finance-800x360_13.jpg?width=1200&height=800&fit=crop\", \"source\": \"Benzinga\", \"category_within_source\": \"General\", \"source_domain\": \"www.benzinga.com\", \"topics\": [{\"topic\": \"Economy - Monetary\", \"relevance_score\": \"0.158519\"}, {\"topic\": \"Financial Markets\", \"relevance_score\": \"0.999986\"}, {\"topic\": \"Manufacturing\", \"relevance_score\": \"0.25\"}, {\"topic\": \"Real Estate & Construction\", \"relevance_score\": \"0.25\"}, {\"topic\": \"Technology\", \"relevance_score\": \"0.25\"}, {\"topic\": \"Finance\", \"relevance_score\": \"0.25\"}], \"overall_sentiment_score\": 0.134261, \"overall_sentiment_label\": \"Neutral\", \"ticker_sentiment\": [{\"ticker\": \"MSFT\", \"relevance_score\": \"0.080593\", \"ticker_sentiment_score\": \"-0.14678\", \"ticker_sentiment_label\": \"Neutral\"}, {\"ticker\": \"GOOG\", \"relevance_score\": \"0.080593\", \"ticker_sentiment_score\": \"-0.14678\", \"ticker_sentiment_label\": \"Neutral\"}, {\"ticker\": \"META\", \"relevance_score\": \"0.080593\", \"ticker_sentiment_score\": \"-0.14678\", \"ticker_sentiment_label\": \"Neutral\"}, {\"ticker\": \"NVDA\", \"relevance_score\": \"0.080593\", \"ticker_sentiment_score\": \"0.221703\", \"ticker_sentiment_label\": \"Somewhat-Bullish\"}, {\"ticker\": \"AAPL\", \"relevance_score\": \"0.080593\", \"ticker_sentiment_score\": \"0.221703\", \"ticker_sentiment_label\": \"Somewhat-Bullish\"}, {\"ticker\": \"TSLA\", \"relevance_score\": \"0.080593\", \"ticker_sentiment_score\": \"-0.14678\", \"ticker_sentiment_label\": \"Neutral\"}, {\"ticker\": \"APG\", \"relevance_score\": \"0.040348\", \"ticker_sentiment_score\": \"-0.16724\", \"ticker_sentiment_label\": \"Somewhat-Bearish\"}, {\"ticker\": \"IVZ\", \"relevance_score\": \"0.040348\", \"ticker_sentiment_score\": \"0.098916\", \"ticker_sentiment_label\": \"Neutral\"}]}, {\"title\": \"Elon Musk has been getting Trumpier. A direct line to Trump may be next | Business\", \"url\": \"https://www.cnn.com/2024/05/30/tech/elon-musk-donald-trump/index.html\", \"time_published\": \"20240530T155915\", \"authors\": [\"Clare Duffy\", \"Brian Fung\"], \"summary\": \"Elon Musk has been getting Trumpier. A direct line to Trump may be next ...\", \"banner_image\": \"https://media.cnn.com/api/v1/images/stellar/prod/gettyimages-2147786463-1-copy.jpg?q=w_1110,c_fill\", \"source\": \"CNN\", \"category_within_source\": \"Economy\", \"source_domain\": \"www.cnn.com\", \"topics\": [{\"topic\": \"Earnings\", \"relevance_score\": \"0.108179\"}, {\"topic\": \"Financial Markets\", \"relevance_score\": \"0.158519\"}, {\"topic\": \"Manufacturing\", \"relevance_score\": \"1.0\"}], \"overall_sentiment_score\": 0.007351, \"overall_sentiment_label\": \"Neutral\", \"ticker_sentiment\": [{\"ticker\": \"TSLA\", \"relevance_score\": \"0.027763\", \"ticker_sentiment_score\": \"0.126807\", \"ticker_sentiment_label\": \"Neutral\"}]}, {\"title\": \"Tesla accuses advisory firm of \\'scaremongering\\' after it urged investors to vote against Musk\\'s pay package\", \"url\": \"https://www.businessinsider.com/tesla-response-glass-lewis-urged-shareholders-vote-against-musk-pay-2024-5\", \"time_published\": \"20240530T155300\", \"authors\": [\"Grace Kay\"], \"summary\": \"Tesla slams firm that urged vote against Musk pay plan - Business Insider ...\", \"banner_image\": null, \"source\": \"Business Insider\", \"category_within_source\": \"GoogleRSS\", \"source_domain\": \"www.businessinsider.com\", \"topics\": [{\"topic\": \"Financial Markets\", \"relevance_score\": \"0.158519\"}, {\"topic\": \"Manufacturing\", \"relevance_score\": \"1.0\"}], \"overall_sentiment_score\": 0.062732, \"overall_sentiment_label\": \"Neutral\", \"ticker_sentiment\": [{\"ticker\": \"TSLA\", \"relevance_score\": \"0.85246\", \"ticker_sentiment_score\": \"0.107841\", \"ticker_sentiment_label\": \"Neutral\"}]}, {\"title\": \"Bitcoin Meme Coins Surge as DOG\\'s 85% Jump Calms Fears That \\'Runes Are Dead\\'\", \"url\": \"https://decrypt.co/233027/bitcoin-meme-coins-surge-calms-fears-runes-dead\", \"time_published\": \"20240530T154248\", \"authors\": [\"Andr\\\\u00e9 Beganski\"], \"summary\": \"As some Bitcoin-based meme coins glitter with gains, a dog-themed token pushes back on claims that Runes hype has faded.\", \"banner_image\": \"https://cdn.decrypt.co/resize/1024/height/512/wp-content/uploads/2024/04/dog-dog-dog-bitcoin-gID_7.png\", \"source\": \"Decrypt.co\", \"category_within_source\": \"n/a\", \"source_domain\": \"decrypt.co\", \"topics\": [{\"topic\": \"Blockchain\", \"relevance_score\": \"0.158519\"}, {\"topic\": \"Financial Markets\", \"relevance_score\": \"0.161647\"}, {\"topic\": \"Manufacturing\", \"relevance_score\": \"1.0\"}], \"overall_sentiment_score\": 0.251942, \"overall_sentiment_label\": \"Somewhat-Bullish\", \"ticker_sentiment\": [{\"ticker\": \"TSLA\", \"relevance_score\": \"0.056011\", \"ticker_sentiment_score\": \"0.258999\", \"ticker_sentiment_label\": \"Somewhat-Bullish\"}, {\"ticker\": \"CRYPTO:BTC\", \"relevance_score\": \"0.560379\", \"ticker_sentiment_score\": \"0.367663\", \"ticker_sentiment_label\": \"Bullish\"}, {\"ticker\": \"CRYPTO:ETH\", \"relevance_score\": \"0.166935\", \"ticker_sentiment_score\": \"0.208267\", \"ticker_sentiment_label\": \"Somewhat-Bullish\"}]}, {\"title\": \"Here\\'s How Much Cathie Wood, Ark Invest Missed Out On By Selling Nvidia Early - NVIDIA  ( NASDAQ:NVDA ) \", \"url\": \"https://www.benzinga.com/general/education/24/05/39091154/heres-how-much-cathie-wood-ark-invest-missed-out-on-by-selling-nvidia-early\", \"time_published\": \"20240530T153932\", \"authors\": [\"Chris Katje\"], \"summary\": \"Ark Invest CEO Cathie Wood has gained fame for her ability to identify innovative companies poised for significant growth over the next five years. Recognizing the potential in artificial intelligence, Ark Invest made an early investment in NVIDIA Corp NVDA.\", \"banner_image\": \"https://cdn.benzinga.com/files/images/story/2024/05/30/untitled_1.jpeg?width=1200&height=800&fit=crop\", \"source\": \"Benzinga\", \"category_within_source\": \"Trading\", \"source_domain\": \"www.benzinga.com\", \"topics\": [{\"topic\": \"Technology\", \"relevance_score\": \"0.5\"}, {\"topic\": \"Financial Markets\", \"relevance_score\": \"0.9996\"}, {\"topic\": \"Manufacturing\", \"relevance_score\": \"0.5\"}], \"overall_sentiment_score\": 0.401292, \"overall_sentiment_label\": \"Bullish\", \"ticker_sentiment\": [{\"ticker\": \"PATH\", \"relevance_score\": \"0.108466\", \"ticker_sentiment_score\": \"0.095605\", \"ticker_sentiment_label\": \"Neutral\"}, {\"ticker\": \"NVDA\", \"relevance_score\": \"0.724687\", \"ticker_sentiment_score\": \"0.618928\", \"ticker_sentiment_label\": \"Bullish\"}, {\"ticker\": \"SSTK\", \"relevance_score\": \"0.054359\", \"ticker_sentiment_score\": \"0.199865\", \"ticker_sentiment_label\": \"Somewhat-Bullish\"}, {\"ticker\": \"TSLA\", \"relevance_score\": \"0.162073\", \"ticker_sentiment_score\": \"0.350096\", \"ticker_sentiment_label\": \"Bullish\"}]}, {\"title\": \"Market Clubhouse Morning Memo - May 30th, 2024  ( Trade Strategy For SPY, QQQ, AAPL, MSFT, NVDA, GOOGL, META And TSLA )  - Invesco QQQ Trust, Series 1  ( NASDAQ:QQQ ) \", \"url\": \"https://www.benzinga.com/markets/24/05/39089177/market-clubhouse-morning-memo-may-30th-2024-trade-strategy-for-spy-qqq-aapl-msft-nvda-googl-meta-and\", \"time_published\": \"20240530T143432\", \"authors\": [\"RIPS\"], \"summary\": \"Good Morning Traders! In today\\'s Market Clubhouse Morning Memo, we will discuss SPY, QQQ, AAPL, MSFT, NVDA, GOOGL, META, and TSLA. Our proprietary formula, exclusive to Market Clubhouse, dictates these price levels. This dynamic equation takes into account price, volume, and options flow.\", \"banner_image\": \"https://cdn.benzinga.com/files/market-clubhouse-morning-memo_233.png?width=1200&height=800&fit=crop\", \"source\": \"Benzinga\", \"category_within_source\": \"General\", \"source_domain\": \"www.benzinga.com\", \"topics\": [{\"topic\": \"Economy - Monetary\", \"relevance_score\": \"0.928139\"}, {\"topic\": \"Economy - Fiscal\", \"relevance_score\": \"0.158519\"}, {\"topic\": \"Financial Markets\", \"relevance_score\": \"0.803643\"}, {\"topic\": \"Manufacturing\", \"relevance_score\": \"0.5\"}, {\"topic\": \"Technology\", \"relevance_score\": \"0.5\"}], \"overall_sentiment_score\": 0.117936, \"overall_sentiment_label\": \"Neutral\", \"ticker_sentiment\": [{\"ticker\": \"MSFT\", \"relevance_score\": \"0.141726\", \"ticker_sentiment_score\": \"-0.075249\", \"ticker_sentiment_label\": \"Neutral\"}, {\"ticker\": \"GOOG\", \"relevance_score\": \"0.02849\", \"ticker_sentiment_score\": \"0.073813\", \"ticker_sentiment_label\": \"Neutral\"}, {\"ticker\": \"NVDA\", \"relevance_score\": \"0.141726\", \"ticker_sentiment_score\": \"0.02202\", \"ticker_sentiment_label\": \"Neutral\"}, {\"ticker\": \"AAPL\", \"relevance_score\": \"0.141726\", \"ticker_sentiment_score\": \"0.006459\", \"ticker_sentiment_label\": \"Neutral\"}, {\"ticker\": \"TSLA\", \"relevance_score\": \"0.141726\", \"ticker_sentiment_score\": \"0.006474\", \"ticker_sentiment_label\": \"Neutral\"}]}, {\"title\": \"Uniswap CEO Claims Democrats Recognize Anti-Crypto Stance As Electoral Risk; GM, Stellantis Respond To Chinese EV Challenge With Budget-Friendly Electric Jeep And Revamped Bolt - Top Headlines Today While US Slept\", \"url\": \"https://www.benzinga.com/markets/cryptocurrency/24/05/39089163/uniswap-ceo-claims-democrats-recognize-anti-crypto-stance-as-electoral-risk-gm-stellantis-\", \"time_published\": \"20240530T143343\", \"authors\": [\"Akanksha Bakshi\"], \"summary\": \"Biden Campaign Engages Crypto Experts: \\'Democratic Establishment Finally Realized Being Anti-Crypto Will Lose Elections,\\' Says Uniswap CEO EXCLUSIVE: Will Trump\\'s Possible Return To Power Make Bitcoin, Ethereum Go Boom Or Bust? Experts Weigh In On Crypto\\'s Regulatory Future\", \"banner_image\": \"https://cdn.benzinga.com/files/images/story/2024/05/30/Background-Form-Crypto-Currency-Coins.jpeg?width=1200&height=800&fit=crop\", \"source\": \"Benzinga\", \"category_within_source\": \"News\", \"source_domain\": \"www.benzinga.com\", \"topics\": [{\"topic\": \"Economy - Monetary\", \"relevance_score\": \"0.158519\"}, {\"topic\": \"IPO\", \"relevance_score\": \"0.158519\"}, {\"topic\": \"Financial Markets\", \"relevance_score\": \"0.161647\"}, {\"topic\": \"Manufacturing\", \"relevance_score\": \"0.333333\"}, {\"topic\": \"Technology\", \"relevance_score\": \"0.333333\"}, {\"topic\": \"Finance\", \"relevance_score\": \"0.333333\"}], \"overall_sentiment_score\": 0.03449, \"overall_sentiment_label\": \"Neutral\", \"ticker_sentiment\": [{\"ticker\": \"BLK\", \"relevance_score\": \"0.06515\", \"ticker_sentiment_score\": \"0.162309\", \"ticker_sentiment_label\": \"Somewhat-Bullish\"}, {\"ticker\": \"LICY\", \"relevance_score\": \"0.06515\", \"ticker_sentiment_score\": \"0.169337\", \"ticker_sentiment_label\": \"Somewhat-Bullish\"}, {\"ticker\": \"NFLX\", \"relevance_score\": \"0.06515\", \"ticker_sentiment_score\": \"0.238685\", \"ticker_sentiment_label\": \"Somewhat-Bullish\"}, {\"ticker\": \"PATH\", \"relevance_score\": \"0.129866\", \"ticker_sentiment_score\": \"-0.122099\", \"ticker_sentiment_label\": \"Neutral\"}, {\"ticker\": \"GOOG\", \"relevance_score\": \"0.129866\", \"ticker_sentiment_score\": \"-0.151652\", \"ticker_sentiment_label\": \"Somewhat-Bearish\"}, {\"ticker\": \"PSTG\", \"relevance_score\": \"0.06515\", \"ticker_sentiment_score\": \"0.136219\", \"ticker_sentiment_label\": \"Neutral\"}, {\"ticker\": \"TSLA\", \"relevance_score\": \"0.129866\", \"ticker_sentiment_score\": \"0.015508\", \"ticker_sentiment_label\": \"Neutral\"}, {\"ticker\": \"CRYPTO:BTC\", \"relevance_score\": \"0.256314\", \"ticker_sentiment_score\": \"-0.075289\", \"ticker_sentiment_label\": \"Neutral\"}, {\"ticker\": \"CRYPTO:ETH\", \"relevance_score\": \"0.193723\", \"ticker_sentiment_score\": \"-0.05961\", \"ticker_sentiment_label\": \"Neutral\"}, {\"ticker\": \"CRYPTO:DOGE\", \"relevance_score\": \"0.06515\", \"ticker_sentiment_score\": \"-0.115976\", \"ticker_sentiment_label\": \"Neutral\"}, {\"ticker\": \"CRYPTO:UNI\", \"relevance_score\": \"0.06515\", \"ticker_sentiment_score\": \"-0.035453\", \"ticker_sentiment_label\": \"Neutral\"}, {\"ticker\": \"CRYPTO:WDC\", \"relevance_score\": \"0.06515\", \"ticker_sentiment_score\": \"0.007225\", \"ticker_sentiment_label\": \"Neutral\"}]}, {\"title\": \"Elon Musk, Tesla, Lash Out As Some Institutional Investors Reject CEO Pay Package\", \"url\": \"https://www.investors.com/news/tesla-stock-elon-musk-institutional-investors-pay-package/\", \"time_published\": \"20240530T141600\", \"authors\": [\"KIT NORTON\", \"Investor\\'s Business Daily\"], \"summary\": \"Tesla ( TSLA ) and its Chief Executive Elon Musk each fired their own salvos at institutional investors apparently reluctant to give the nod to a disputed $58 billion compensation package for the head of the electric-vehicle giant. Musk himself said one key Tesla stock investor had \\\\\"no honor.\\\\\"\", \"banner_image\": \"https://www.investors.com/wp-content/uploads/2021/06/Stock-elonmusk-02-shutt.jpg\", \"source\": \"Investors Business Daily\", \"category_within_source\": \"n/a\", \"source_domain\": \"www.investors.com\", \"topics\": [{\"topic\": \"Financial Markets\", \"relevance_score\": \"0.54554\"}, {\"topic\": \"Manufacturing\", \"relevance_score\": \"0.5\"}, {\"topic\": \"Earnings\", \"relevance_score\": \"0.538269\"}, {\"topic\": \"Finance\", \"relevance_score\": \"0.5\"}], \"overall_sentiment_score\": 0.004808, \"overall_sentiment_label\": \"Neutral\", \"ticker_sentiment\": [{\"ticker\": \"BLK\", \"relevance_score\": \"0.045054\", \"ticker_sentiment_score\": \"0.091338\", \"ticker_sentiment_label\": \"Neutral\"}, {\"ticker\": \"TSLA\", \"relevance_score\": \"0.872847\", \"ticker_sentiment_score\": \"0.070735\", \"ticker_sentiment_label\": \"Neutral\"}]}, {\"title\": \"Dow Slumps 380 Points As Salesforce Stock Suffers Worst Loss Since 2008\", \"url\": \"https://www.forbes.com/sites/dereksaul/2024/05/30/dow-slumps-380-points-as-salesforce-stock-suffers-worst-loss-since-2008/\", \"time_published\": \"20240530T141109\", \"authors\": [\"Derek Saul\"], \"summary\": \"The Dow Jones Industrial Average faltered Thursday thanks in large part to a massive selloff for software giant Salesforce, as rosy artificial intelligence dreams have proven unable to support the blue chip stock index\\'s record highs.\", \"banner_image\": \"https://imageio.forbes.com/specials-images/imageserve/6658888329a4096cd9bef51b/0x0.jpg?format=jpg&crop=2692,1515,x0,y27,safe&height=900&width=1600&fit=bounds\", \"source\": \"Forbes\", \"category_within_source\": \"n/a\", \"source_domain\": \"www.forbes.com\", \"topics\": [{\"topic\": \"Financial Markets\", \"relevance_score\": \"0.918141\"}, {\"topic\": \"Manufacturing\", \"relevance_score\": \"0.5\"}, {\"topic\": \"Earnings\", \"relevance_score\": \"0.714479\"}, {\"topic\": \"Technology\", \"relevance_score\": \"0.5\"}], \"overall_sentiment_score\": 0.002463, \"overall_sentiment_label\": \"Neutral\", \"ticker_sentiment\": [{\"ticker\": \"MSFT\", \"relevance_score\": \"0.088147\", \"ticker_sentiment_score\": \"0.056085\", \"ticker_sentiment_label\": \"Neutral\"}, {\"ticker\": \"NVDA\", \"relevance_score\": \"0.175221\", \"ticker_sentiment_score\": \"0.132027\", \"ticker_sentiment_label\": \"Neutral\"}, {\"ticker\": \"TSLA\", \"relevance_score\": \"0.088147\", \"ticker_sentiment_score\": \"0.050659\", \"ticker_sentiment_label\": \"Neutral\"}]}, {\"title\": \"Joe Rogan And Duncan Trussell Don Tesla Optimus Robot Costumes In Latest Show To Deliver \\'A Message To AI:\\' Here\\'s Why\", \"url\": \"https://www.benzinga.com/general/social-media/24/05/39088372/joe-rogan-and-duncan-trussell-don-tesla-optimus-robot-costumes-in-latest-show-to-deliver-a-m\", \"time_published\": \"20240530T140556\", \"authors\": [\"Shomik Sen Bhattacharjee\"], \"summary\": \"Joe Rogan and Duncan Trussell wore Tesla Optimus outfits and donned them throughout the entirety of a podcast episode to satirically highlight the increasingly scary mix of AI and robotics.\", \"banner_image\": \"https://cdn.benzinga.com/files/images/story/2024/05/30/joe-Rogan-dressed-as-Tesla-Optimus-in-an.jpeg?width=1200&height=800&fit=crop\", \"source\": \"Benzinga\", \"category_within_source\": \"General\", \"source_domain\": \"www.benzinga.com\", \"topics\": [{\"topic\": \"Manufacturing\", \"relevance_score\": \"1.0\"}], \"overall_sentiment_score\": 0.161193, \"overall_sentiment_label\": \"Somewhat-Bullish\", \"ticker_sentiment\": [{\"ticker\": \"OPTGF\", \"relevance_score\": \"0.360752\", \"ticker_sentiment_score\": \"0.149862\", \"ticker_sentiment_label\": \"Neutral\"}, {\"ticker\": \"TSLA\", \"relevance_score\": \"0.245339\", \"ticker_sentiment_score\": \"-0.009544\", \"ticker_sentiment_label\": \"Neutral\"}]}, {\"title\": \"The S&P 500 Just Hit an All-Time High, but These 3 Vanguard ETFs Have Performed Even Better Over the Last 5 Years\", \"url\": \"https://www.fool.com/investing/2024/05/30/sp-500-all-time-high-stock-buy-vanguard-etf/\", \"time_published\": \"20240530T134500\", \"authors\": [\"Daniel Foelber\"], \"summary\": \"Growth-oriented ETFs continue to crush the major indices.\", \"banner_image\": \"https://g.foolcdn.com/image/?url=https%3A%2F%2Fg.foolcdn.com%2Feditorial%2Fimages%2F778519%2Fgettyimages-1491890797-1200x800-5b2df79.jpg&op=resize&w=700\", \"source\": \"Motley Fool\", \"category_within_source\": \"n/a\", \"source_domain\": \"www.fool.com\", \"topics\": [{\"topic\": \"Retail & Wholesale\", \"relevance_score\": \"0.333333\"}, {\"topic\": \"Financial Markets\", \"relevance_score\": \"1.0\"}, {\"topic\": \"Manufacturing\", \"relevance_score\": \"0.333333\"}, {\"topic\": \"Technology\", \"relevance_score\": \"0.333333\"}], \"overall_sentiment_score\": 0.366149, \"overall_sentiment_label\": \"Bullish\", \"ticker_sentiment\": [{\"ticker\": \"MSFT\", \"relevance_score\": \"0.155702\", \"ticker_sentiment_score\": \"0.258168\", \"ticker_sentiment_label\": \"Somewhat-Bullish\"}, {\"ticker\": \"NFLX\", \"relevance_score\": \"0.03916\", \"ticker_sentiment_score\": \"0.095753\", \"ticker_sentiment_label\": \"Neutral\"}, {\"ticker\": \"META\", \"relevance_score\": \"0.078226\", \"ticker_sentiment_score\": \"0.094816\", \"ticker_sentiment_label\": \"Neutral\"}, {\"ticker\": \"NVDA\", \"relevance_score\": \"0.155702\", \"ticker_sentiment_score\": \"0.258168\", \"ticker_sentiment_label\": \"Somewhat-Bullish\"}, {\"ticker\": \"COST\", \"relevance_score\": \"0.03916\", \"ticker_sentiment_score\": \"0.095753\", \"ticker_sentiment_label\": \"Neutral\"}, {\"ticker\": \"AVGO\", \"relevance_score\": \"0.03916\", \"ticker_sentiment_score\": \"0.117849\", \"ticker_sentiment_label\": \"Neutral\"}, {\"ticker\": \"CSCO\", \"relevance_score\": \"0.03916\", \"ticker_sentiment_score\": \"0.117849\", \"ticker_sentiment_label\": \"Neutral\"}, {\"ticker\": \"TSLA\", \"relevance_score\": \"0.078226\", \"ticker_sentiment_score\": \"0.094816\", \"ticker_sentiment_label\": \"Neutral\"}, {\"ticker\": \"MA\", \"relevance_score\": \"0.078226\", \"ticker_sentiment_score\": \"0.227875\", \"ticker_sentiment_label\": \"Somewhat-Bullish\"}, {\"ticker\": \"MDNDF\", \"relevance_score\": \"0.03916\", \"ticker_sentiment_score\": \"0.264966\", \"ticker_sentiment_label\": \"Somewhat-Bullish\"}, {\"ticker\": \"AMD\", \"relevance_score\": \"0.03916\", \"ticker_sentiment_score\": \"0.095753\", \"ticker_sentiment_label\": \"Neutral\"}]}, {\"title\": \"Tesla Set To Register \\'Full Self-Driving\\' Software In China, Aiming To Roll Out Feature By Year-End: Report - Tesla  ( NASDAQ:TSLA ) \", \"url\": \"https://www.benzinga.com/markets/asia/24/05/39086643/tesla-set-to-register-full-self-driving-software-in-china-aiming-to-roll-out-feature-by-year-end-rep\", \"time_published\": \"20240530T131404\", \"authors\": [\"Benzinga Neuro\"], \"summary\": \"Tesla Inc. TSLA is reportedly gearing up to register its \\\\\"Full Self-Driving\\\\\" ( FSD ) software with Chinese authorities. What Happened: Elon Musk\\'s EV giant aims to roll out this advanced feature in China by the end of the year, as per three anonymous sources, Reuters reported on Thursday.\", \"banner_image\": \"https://cdn.benzinga.com/files/images/story/2024/05/30/Tesla-China--Photo-by-Koshiro-K-on-Shutt.jpeg?width=1200&height=800&fit=crop\", \"source\": \"Benzinga\", \"category_within_source\": \"General\", \"source_domain\": \"www.benzinga.com\", \"topics\": [{\"topic\": \"Financial Markets\", \"relevance_score\": \"0.108179\"}, {\"topic\": \"Manufacturing\", \"relevance_score\": \"1.0\"}], \"overall_sentiment_score\": 0.21133, \"overall_sentiment_label\": \"Somewhat-Bullish\", \"ticker_sentiment\": [{\"ticker\": \"XPEV\", \"relevance_score\": \"0.094762\", \"ticker_sentiment_score\": \"0.157616\", \"ticker_sentiment_label\": \"Somewhat-Bullish\"}, {\"ticker\": \"TSLA\", \"relevance_score\": \"0.716023\", \"ticker_sentiment_score\": \"0.226368\", \"ticker_sentiment_label\": \"Somewhat-Bullish\"}]}, {\"title\": \"Argentina\\'s \\'anarcho capitalist\\' Milei meets with Sam Altman, Tim Cook and Sundar Pichai in a bid to spur investment\", \"url\": \"https://www.cnbc.com/2024/05/30/argentinas-milei-meets-with-open-ais-sam-altman-and-apples-tim-cook.html\", \"time_published\": \"20240530T125536\", \"authors\": [\"Sam Meredith\"], \"summary\": \"Analysts say Milei\\'s Silicon Valley tour is likely designed to position Argentina as an attractive place to invest.\", \"banner_image\": \"https://image.cnbcfm.com/api/v1/image/107421503-17170079731717007971-34733618776-1080pnbcnews.jpg?v=1717007973&w=750&h=422&vtcrop=y\", \"source\": \"CNBC\", \"category_within_source\": \"Top News\", \"source_domain\": \"www.cnbc.com\", \"topics\": [{\"topic\": \"Financial Markets\", \"relevance_score\": \"0.108179\"}, {\"topic\": \"Manufacturing\", \"relevance_score\": \"1.0\"}], \"overall_sentiment_score\": 0.093715, \"overall_sentiment_label\": \"Neutral\", \"ticker_sentiment\": [{\"ticker\": \"BNXYF\", \"relevance_score\": \"0.060541\", \"ticker_sentiment_score\": \"0.111453\", \"ticker_sentiment_label\": \"Neutral\"}, {\"ticker\": \"MALRF\", \"relevance_score\": \"0.060541\", \"ticker_sentiment_score\": \"0.093176\", \"ticker_sentiment_label\": \"Neutral\"}, {\"ticker\": \"TSLA\", \"relevance_score\": \"0.060541\", \"ticker_sentiment_score\": \"0.0\", \"ticker_sentiment_label\": \"Neutral\"}]}, {\"title\": \"Elon Musk Mocks Steve Jobs, Agrees Apple Could Be \\'Light Years\\' Ahead Of Competition If It Embraced Open Source: \\'Cultural Legacy\\'\", \"url\": \"https://www.benzinga.com/news/24/05/39084577/elon-musk-mocks-steve-jobs-agrees-apple-could-be-light-years-ahead-of-competition-if-it-embraced-ope\", \"time_published\": \"20240530T122306\", \"authors\": [\"Rounak Jain\"], \"summary\": \"Tesla Inc. CEO Elon Musk mocked Apple Inc. co-founder Steve Jobs over the iPhone maker\\'s reluctance to open source its technologies. What Happened: On Thursday, Musk took to X, formerly Twitter, to express his views on Apple\\'s approach to open source.\", \"banner_image\": \"https://cdn.benzinga.com/files/images/story/2024/05/30/Elon-Musk-Steve-Jobs.jpeg?width=1200&height=800&fit=crop\", \"source\": \"Benzinga\", \"category_within_source\": \"News\", \"source_domain\": \"www.benzinga.com\", \"topics\": [{\"topic\": \"Technology\", \"relevance_score\": \"0.5\"}, {\"topic\": \"Manufacturing\", \"relevance_score\": \"0.5\"}], \"overall_sentiment_score\": 0.178705, \"overall_sentiment_label\": \"Somewhat-Bullish\", \"ticker_sentiment\": [{\"ticker\": \"AAPL\", \"relevance_score\": \"0.108958\", \"ticker_sentiment_score\": \"-0.238119\", \"ticker_sentiment_label\": \"Somewhat-Bearish\"}, {\"ticker\": \"TSLA\", \"relevance_score\": \"0.215894\", \"ticker_sentiment_score\": \"-0.080636\", \"ticker_sentiment_label\": \"Neutral\"}]}, {\"title\": \"Tesla Board Slams Glass Lewis After It Recommends Shareholders To Vote Against Elon Musk\\'s $56B Pay Package - Tesla  ( NASDAQ:TSLA ) \", \"url\": \"https://www.benzinga.com/news/24/05/39084543/tesla-board-slams-glass-lewis-after-it-recommends-shareholders-to-vote-against-elon-musks-56b-pay-pa\", \"time_published\": \"20240530T122038\", \"authors\": [\"Anan Ashraf\"], \"summary\": \"Tesla Inc TSLA board of directors slammed proxy advisory firm Glass Lewis on Wednesday after it urged shareholders to vote against CEO Elon Musk\\'s rescinded 2018 pay package. The findings of the firm, the board alleged, are based on \\\\\"faulty logic\\\\\" and \\\\\"speculation.\\\\\"\", \"banner_image\": \"https://cdn.benzinga.com/files/images/story/2024/05/30/Tesla-Shutterstock.jpeg?width=1200&height=800&fit=crop\", \"source\": \"Benzinga\", \"category_within_source\": \"News\", \"source_domain\": \"www.benzinga.com\", \"topics\": [{\"topic\": \"Technology\", \"relevance_score\": \"0.5\"}, {\"topic\": \"Manufacturing\", \"relevance_score\": \"0.5\"}], \"overall_sentiment_score\": 0.124194, \"overall_sentiment_label\": \"Neutral\", \"ticker_sentiment\": [{\"ticker\": \"MSFT\", \"relevance_score\": \"0.099476\", \"ticker_sentiment_score\": \"0.08375\", \"ticker_sentiment_label\": \"Neutral\"}, {\"ticker\": \"TSLA\", \"relevance_score\": \"0.546745\", \"ticker_sentiment_score\": \"0.098781\", \"ticker_sentiment_label\": \"Neutral\"}]}, {\"title\": \"Missed Bitcoin\\'s Run Up To $75,000? Here\\'s Why You Probably Shouldn\\'t Worry - BlackRock  ( NYSE:BLK ) , Tesla  ( NASDAQ:TSLA ) \", \"url\": \"https://www.benzinga.com/partner/cryptocurrency/24/05/39084332/missed-bitcoins-run-up-to-75-000-heres-why-you-probably-shouldnt-worry\", \"time_published\": \"20240530T121326\", \"authors\": [\"Kyle Anthony\"], \"summary\": \"Bitcoin\\'s recent surge in value, a topic that has caught the attention of both investors and casual observers, might have left some wondering if they missed out on a golden opportunity.\", \"banner_image\": \"https://cdn.benzinga.com/files/images/story/2024/05/30/Screenshot-2024-05-30-at-5-39-05PM.png?width=1200&height=800&fit=crop\", \"source\": \"Benzinga\", \"category_within_source\": \"Markets\", \"source_domain\": \"www.benzinga.com\", \"topics\": [{\"topic\": \"Economy - Monetary\", \"relevance_score\": \"0.310843\"}, {\"topic\": \"Financial Markets\", \"relevance_score\": \"0.980716\"}, {\"topic\": \"Manufacturing\", \"relevance_score\": \"0.5\"}, {\"topic\": \"Finance\", \"relevance_score\": \"0.5\"}, {\"topic\": \"Blockchain\", \"relevance_score\": \"0.838487\"}], \"overall_sentiment_score\": 0.132308, \"overall_sentiment_label\": \"Neutral\", \"ticker_sentiment\": [{\"ticker\": \"BLK\", \"relevance_score\": \"0.067727\", \"ticker_sentiment_score\": \"0.184791\", \"ticker_sentiment_label\": \"Somewhat-Bullish\"}, {\"ticker\": \"TSLA\", \"relevance_score\": \"0.067727\", \"ticker_sentiment_score\": \"0.205888\", \"ticker_sentiment_label\": \"Somewhat-Bullish\"}, {\"ticker\": \"CRYPTO:BTC\", \"relevance_score\": \"0.765876\", \"ticker_sentiment_score\": \"0.14728\", \"ticker_sentiment_label\": \"Neutral\"}]}, {\"title\": \"Futures Drop Ahead Of Jobless Claims, GDP\", \"url\": \"https://www.investors.com/market-trend/stock-market-today/dow-jones-sp500-nasdaq-salesforce-stock-crm/\", \"time_published\": \"20240530T121200\", \"authors\": [\"SCOTT LEHTONEN\", \"Investor\\'s Business Daily\"], \"summary\": \"Stock Market Today: Dow Jones Slides Ahead Of Jobless Claims. Salesforce Plunges On Earnings Investor\\'s Business Daily ...\", \"banner_image\": \"https://www.investors.com/wp-content/uploads/2017/02/stock-wallStreet-1-shutter.jpg\", \"source\": \"Investors Business Daily\", \"category_within_source\": \"n/a\", \"source_domain\": \"www.investors.com\", \"topics\": [{\"topic\": \"Retail & Wholesale\", \"relevance_score\": \"0.25\"}, {\"topic\": \"Financial Markets\", \"relevance_score\": \"1.0\"}, {\"topic\": \"Manufacturing\", \"relevance_score\": \"0.25\"}, {\"topic\": \"Earnings\", \"relevance_score\": \"0.875462\"}, {\"topic\": \"Technology\", \"relevance_score\": \"0.25\"}, {\"topic\": \"Finance\", \"relevance_score\": \"0.25\"}], \"overall_sentiment_score\": 0.066755, \"overall_sentiment_label\": \"Neutral\", \"ticker_sentiment\": [{\"ticker\": \"NFLX\", \"relevance_score\": \"0.144059\", \"ticker_sentiment_score\": \"0.097807\", \"ticker_sentiment_label\": \"Neutral\"}, {\"ticker\": \"PATH\", \"relevance_score\": \"0.108303\", \"ticker_sentiment_score\": \"0.052101\", \"ticker_sentiment_label\": \"Neutral\"}, {\"ticker\": \"NVDA\", \"relevance_score\": \"0.144059\", \"ticker_sentiment_score\": \"-0.03085\", \"ticker_sentiment_label\": \"Neutral\"}, {\"ticker\": \"AAPL\", \"relevance_score\": \"0.144059\", \"ticker_sentiment_score\": \"0.139053\", \"ticker_sentiment_label\": \"Neutral\"}, {\"ticker\": \"FL\", \"relevance_score\": \"0.108303\", \"ticker_sentiment_score\": \"0.052101\", \"ticker_sentiment_label\": \"Neutral\"}, {\"ticker\": \"CROX\", \"relevance_score\": \"0.144059\", \"ticker_sentiment_score\": \"0.079757\", \"ticker_sentiment_label\": \"Neutral\"}, {\"ticker\": \"KSS\", \"relevance_score\": \"0.108303\", \"ticker_sentiment_score\": \"0.052101\", \"ticker_sentiment_label\": \"Neutral\"}, {\"ticker\": \"IVZ\", \"relevance_score\": \"0.0362\", \"ticker_sentiment_score\": \"0.040409\", \"ticker_sentiment_label\": \"Neutral\"}, {\"ticker\": \"APOS\", \"relevance_score\": \"0.0362\", \"ticker_sentiment_score\": \"-0.070555\", \"ticker_sentiment_label\": \"Neutral\"}, {\"ticker\": \"MSFT\", \"relevance_score\": \"0.21462\", \"ticker_sentiment_score\": \"0.119899\", \"ticker_sentiment_label\": \"Neutral\"}, {\"ticker\": \"PSTG\", \"relevance_score\": \"0.108303\", \"ticker_sentiment_score\": \"0.052101\", \"ticker_sentiment_label\": \"Neutral\"}, {\"ticker\": \"TSLA\", \"relevance_score\": \"0.108303\", \"ticker_sentiment_score\": \"0.18473\", \"ticker_sentiment_label\": \"Somewhat-Bullish\"}, {\"ticker\": \"BBY\", \"relevance_score\": \"0.108303\", \"ticker_sentiment_score\": \"0.052101\", \"ticker_sentiment_label\": \"Neutral\"}]}, {\"title\": \"Fighting Off Nvidia, This Mag 7 Stock Looks To Break Out\", \"url\": \"https://www.investors.com/research/ibd-stock-analysis/apple-stock-nvidia-microsoft-market-cap/\", \"time_published\": \"20240530T120500\", \"authors\": [\"Investor\\'s Business Daily\", \"MATTHEW GALGANI\"], \"summary\": \"Apple Stock Eyes Breakout While Battling Nvidia For Market Cap Leadership Investor\\'s Business Daily ...\", \"banner_image\": \"https://www.investors.com/wp-content/uploads/2024/05/Stock-robotshake2-generatedai-03-adobe.jpg\", \"source\": \"Investors Business Daily\", \"category_within_source\": \"n/a\", \"source_domain\": \"www.investors.com\", \"topics\": [{\"topic\": \"Financial Markets\", \"relevance_score\": \"0.316726\"}, {\"topic\": \"Manufacturing\", \"relevance_score\": \"0.5\"}, {\"topic\": \"Earnings\", \"relevance_score\": \"0.158519\"}, {\"topic\": \"Technology\", \"relevance_score\": \"0.5\"}], \"overall_sentiment_score\": 0.250378, \"overall_sentiment_label\": \"Somewhat-Bullish\", \"ticker_sentiment\": [{\"ticker\": \"MSFT\", \"relevance_score\": \"0.370418\", \"ticker_sentiment_score\": \"0.390305\", \"ticker_sentiment_label\": \"Bullish\"}, {\"ticker\": \"META\", \"relevance_score\": \"0.152983\", \"ticker_sentiment_score\": \"-0.158114\", \"ticker_sentiment_label\": \"Somewhat-Bearish\"}, {\"ticker\": \"NVDA\", \"relevance_score\": \"0.66527\", \"ticker_sentiment_score\": \"0.443634\", \"ticker_sentiment_label\": \"Bullish\"}, {\"ticker\": \"AAPL\", \"relevance_score\": \"0.877268\", \"ticker_sentiment_score\": \"0.424526\", \"ticker_sentiment_label\": \"Bullish\"}, {\"ticker\": \"AVGO\", \"relevance_score\": \"0.152983\", \"ticker_sentiment_score\": \"-0.158114\", \"ticker_sentiment_label\": \"Somewhat-Bearish\"}, {\"ticker\": \"TSLA\", \"relevance_score\": \"0.227716\", \"ticker_sentiment_score\": \"-0.209849\", \"ticker_sentiment_label\": \"Somewhat-Bearish\"}]}, {\"title\": \"Stock splits: The strange exception where a lower stock price can be better for investors\", \"url\": \"https://apnews.com/article/stock-splits-markets-investments-wall-street-195a8a306de6d31e414022b1bfc0c35c\", \"time_published\": \"20240530T120000\", \"authors\": [\"STAN CHOE\"], \"summary\": \"NEW YORK ( AP ) - In some rare cases, a lower stock price can actually be a boon for investors. Consider Nvidia, the chip company whose stock price has soared well above $1,000 as Wall Street\\'s frenzy around artificial-intelligence technology keeps revving higher.\", \"banner_image\": \"https://dims.apnews.com/dims4/default/9f9a926/2147483647/strip/true/crop/5000x3331+0+1/resize/599x399!/quality/90/?url=https%3A%2F%2Fassets.apnews.com%2Fcf%2F40%2F367ac8f614eade51e0900709227e%2Fb061ec609fcb443d8bb61e2492374477\", \"source\": \"Associated Press\", \"category_within_source\": \"Markets\", \"source_domain\": \"apnews.com\", \"topics\": [{\"topic\": \"Retail & Wholesale\", \"relevance_score\": \"0.333333\"}, {\"topic\": \"Financial Markets\", \"relevance_score\": \"0.779048\"}, {\"topic\": \"Manufacturing\", \"relevance_score\": \"0.333333\"}, {\"topic\": \"Finance\", \"relevance_score\": \"0.333333\"}], \"overall_sentiment_score\": 0.03089, \"overall_sentiment_label\": \"Neutral\", \"ticker_sentiment\": [{\"ticker\": \"NVDA\", \"relevance_score\": \"0.319933\", \"ticker_sentiment_score\": \"0.03015\", \"ticker_sentiment_label\": \"Neutral\"}, {\"ticker\": \"TSLA\", \"relevance_score\": \"0.163354\", \"ticker_sentiment_score\": \"0.016904\", \"ticker_sentiment_label\": \"Neutral\"}, {\"ticker\": \"BAC\", \"relevance_score\": \"0.163354\", \"ticker_sentiment_score\": \"0.029295\", \"ticker_sentiment_label\": \"Neutral\"}, {\"ticker\": \"CMG\", \"relevance_score\": \"0.082111\", \"ticker_sentiment_score\": \"0.05399\", \"ticker_sentiment_label\": \"Neutral\"}, {\"ticker\": \"WMT\", \"relevance_score\": \"0.082111\", \"ticker_sentiment_score\": \"0.05399\", \"ticker_sentiment_label\": \"Neutral\"}]}, {\"title\": \"Should You Buy Sony Before Its Stock Split?\", \"url\": \"https://www.fool.com/investing/2024/05/30/should-you-buy-sony-before-its-stock-split/\", \"time_published\": \"20240530T115000\", \"authors\": [\"Adam Spatacco\"], \"summary\": \"Sony is the latest consumer goods company to announce a stock split.\", \"banner_image\": \"https://g.foolcdn.com/image/?url=https%3A%2F%2Fg.foolcdn.com%2Feditorial%2Fimages%2F778683%2Fgettyimages-1650775563.jpg&op=resize&w=700\", \"source\": \"Motley Fool\", \"category_within_source\": \"n/a\", \"source_domain\": \"www.fool.com\", \"topics\": [{\"topic\": \"Retail & Wholesale\", \"relevance_score\": \"0.5\"}, {\"topic\": \"Financial Markets\", \"relevance_score\": \"0.846708\"}, {\"topic\": \"Manufacturing\", \"relevance_score\": \"0.5\"}], \"overall_sentiment_score\": 0.159082, \"overall_sentiment_label\": \"Somewhat-Bullish\", \"ticker_sentiment\": [{\"ticker\": \"SNEJF\", \"relevance_score\": \"0.690276\", \"ticker_sentiment_score\": \"0.196063\", \"ticker_sentiment_label\": \"Somewhat-Bullish\"}, {\"ticker\": \"NVDA\", \"relevance_score\": \"0.053992\", \"ticker_sentiment_score\": \"-0.012001\", \"ticker_sentiment_label\": \"Neutral\"}, {\"ticker\": \"TSLA\", \"relevance_score\": \"0.053992\", \"ticker_sentiment_score\": \"-0.012001\", \"ticker_sentiment_label\": \"Neutral\"}, {\"ticker\": \"CMG\", \"relevance_score\": \"0.053992\", \"ticker_sentiment_score\": \"0.245901\", \"ticker_sentiment_label\": \"Somewhat-Bullish\"}, {\"ticker\": \"WMT\", \"relevance_score\": \"0.053992\", \"ticker_sentiment_score\": \"0.245901\", \"ticker_sentiment_label\": \"Somewhat-Bullish\"}]}, {\"title\": \"PodcastOne  ( Nasdaq: PODC )  Reports Record Fiscal Year 2024 Results - LiveOne  ( NASDAQ:LVO ) , PodcastOne  ( NASDAQ:PODC ) \", \"url\": \"https://www.benzinga.com/pressreleases/24/05/g39082819/podcastone-nasdaq-podc-reports-record-fiscal-year-2024-results\", \"time_published\": \"20240530T113000\", \"authors\": [\"Globe Newswire\"], \"summary\": \"Increased Shareholders\\' Equity by $9M from Prior Fiscal Year Reduced Liabilities by $13M from Prior Fiscal Year Extinguished All Debt, Repaying $3M in Cash and Converting $7M into Shares of Common Stock at $3 Per Share\", \"banner_image\": \"https://www.benzinga.com/next-assets/images/schema-image-default.png\", \"source\": \"Benzinga\", \"category_within_source\": \"News\", \"source_domain\": \"www.benzinga.com\", \"topics\": [{\"topic\": \"Retail & Wholesale\", \"relevance_score\": \"0.333333\"}, {\"topic\": \"Financial Markets\", \"relevance_score\": \"0.87644\"}, {\"topic\": \"Manufacturing\", \"relevance_score\": \"0.333333\"}, {\"topic\": \"Earnings\", \"relevance_score\": \"1.0\"}, {\"topic\": \"Technology\", \"relevance_score\": \"0.333333\"}], \"overall_sentiment_score\": 0.206703, \"overall_sentiment_label\": \"Somewhat-Bullish\", \"ticker_sentiment\": [{\"ticker\": \"SSNLF\", \"relevance_score\": \"0.034233\", \"ticker_sentiment_score\": \"0.06852\", \"ticker_sentiment_label\": \"Neutral\"}, {\"ticker\": \"GOOG\", \"relevance_score\": \"0.034233\", \"ticker_sentiment_score\": \"0.06852\", \"ticker_sentiment_label\": \"Neutral\"}, {\"ticker\": \"META\", \"relevance_score\": \"0.034233\", \"ticker_sentiment_score\": \"0.06852\", \"ticker_sentiment_label\": \"Neutral\"}, {\"ticker\": \"TSLA\", \"relevance_score\": \"0.034233\", \"ticker_sentiment_score\": \"0.06852\", \"ticker_sentiment_label\": \"Neutral\"}, {\"ticker\": \"LVO\", \"relevance_score\": \"0.169915\", \"ticker_sentiment_score\": \"0.082809\", \"ticker_sentiment_label\": \"Neutral\"}, {\"ticker\": \"SPOT\", \"relevance_score\": \"0.034233\", \"ticker_sentiment_score\": \"0.06852\", \"ticker_sentiment_label\": \"Neutral\"}, {\"ticker\": \"PODC\", \"relevance_score\": \"0.48028\", \"ticker_sentiment_score\": \"0.227877\", \"ticker_sentiment_label\": \"Somewhat-Bullish\"}]}, {\"title\": \"Elon Musk once mocked China\\'s BYD. Now it\\'s running circles around Tesla | Business\", \"url\": \"https://www.cnn.com/2024/05/30/tech/elon-musk-byd-china-nightcap/index.html\", \"time_published\": \"20240530T112000\", \"authors\": [\"Allison Morrow\"], \"summary\": \"Elon Musk once mocked China\\'s BYD. Now it\\'s running circles around Tesla ...\", \"banner_image\": \"https://media.cnn.com/api/v1/images/stellar/prod/gettyimages-1812475431.jpg?c=16x9&q=h_144,w_256,c_fill\", \"source\": \"CNN\", \"category_within_source\": \"Markets\", \"source_domain\": \"www.cnn.com\", \"topics\": [{\"topic\": \"Earnings\", \"relevance_score\": \"0.158519\"}, {\"topic\": \"Manufacturing\", \"relevance_score\": \"1.0\"}], \"overall_sentiment_score\": 0.153846, \"overall_sentiment_label\": \"Somewhat-Bullish\", \"ticker_sentiment\": [{\"ticker\": \"WBD\", \"relevance_score\": \"0.057628\", \"ticker_sentiment_score\": \"0.124977\", \"ticker_sentiment_label\": \"Neutral\"}, {\"ticker\": \"TSLA\", \"relevance_score\": \"0.38716\", \"ticker_sentiment_score\": \"0.334873\", \"ticker_sentiment_label\": \"Somewhat-Bullish\"}]}, {\"title\": \"Tesla, Ford Hit The Brakes In UK As Warren Buffett-Backed BYD Zooms Ahead With 2500% Jump In Registrations - BYD  ( OTC:BYDDF ) , BYD  ( OTC:BYDDY ) \", \"url\": \"https://www.benzinga.com/news/24/05/39081508/tesla-ford-hit-the-brakes-in-uk-as-warren-buffett-backed-byd-zooms-ahead-with-2500-jump-in-registrat\", \"time_published\": \"20240530T104033\", \"authors\": [\"Anan Ashraf\"], \"summary\": \"Chinese automakers are seemingly gaining ground in the United Kingdom as American automakers including EV giant Tesla Inc. TSLA falters. What Happened: As per data from the Society of Motor Manufacturers and Traders ( SMMT ) , 1,611 vehicles from Chinese EV maker BYD Co Ltd.\", \"banner_image\": \"https://cdn.benzinga.com/files/images/story/2024/05/30/BYD-EVs-in-China.jpeg?width=1200&height=800&fit=crop\", \"source\": \"Benzinga\", \"category_within_source\": \"News\", \"source_domain\": \"www.benzinga.com\", \"topics\": [{\"topic\": \"Manufacturing\", \"relevance_score\": \"1.0\"}], \"overall_sentiment_score\": 0.014501, \"overall_sentiment_label\": \"Neutral\", \"ticker_sentiment\": [{\"ticker\": \"BYDDF\", \"relevance_score\": \"0.247838\", \"ticker_sentiment_score\": \"0.0\", \"ticker_sentiment_label\": \"Neutral\"}, {\"ticker\": \"F\", \"relevance_score\": \"0.247838\", \"ticker_sentiment_score\": \"-0.41022\", \"ticker_sentiment_label\": \"Bearish\"}, {\"ticker\": \"TSLA\", \"relevance_score\": \"0.472338\", \"ticker_sentiment_score\": \"-0.12521\", \"ticker_sentiment_label\": \"Neutral\"}]}, {\"title\": \"Why Does Tesla Keep Lowering Prices?\", \"url\": \"https://www.fool.com/investing/2024/05/30/why-does-tesla-keep-lowering-prices/\", \"time_published\": \"20240530T091500\", \"authors\": [\"Travis Hoium\"], \"summary\": \"Lower prices are great for car buyers, but they\\'re not great for Tesla.\", \"banner_image\": \"https://g.foolcdn.com/editorial/images/778929/0x0-model3_rhd_03.jpg\", \"source\": \"Motley Fool\", \"category_within_source\": \"n/a\", \"source_domain\": \"www.fool.com\", \"topics\": [{\"topic\": \"Manufacturing\", \"relevance_score\": \"1.0\"}], \"overall_sentiment_score\": -0.047473, \"overall_sentiment_label\": \"Neutral\", \"ticker_sentiment\": [{\"ticker\": \"TSLA\", \"relevance_score\": \"0.751437\", \"ticker_sentiment_score\": \"-0.098305\", \"ticker_sentiment_label\": \"Neutral\"}]}, {\"title\": \"\\'Fair Chance\\' Elon Musk Will Leave Tesla If Shareholders Vote Against Compensation Package, Warns Gary Black - Tesla  ( NASDAQ:TSLA ) \", \"url\": \"https://www.benzinga.com/news/24/05/39079857/fair-chance-elon-musk-will-leave-tesla-if-shareholders-vote-against-compensation-package-warns-gary\", \"time_published\": \"20240530T091137\", \"authors\": [\"Benzinga Neuro\"], \"summary\": \"The Future Fund LLC Managing Partner and investor Gary Black expressed strong support for Elon Musk\\'s 2018 compensation package and warned that voting against it could have significant repercussions for Tesla Inc. TSLA.\", \"banner_image\": \"https://cdn.benzinga.com/files/images/story/2024/05/30/Tesla-CEO-Elon-Musk.jpeg?width=1200&height=800&fit=crop\", \"source\": \"Benzinga\", \"category_within_source\": \"General\", \"source_domain\": \"www.benzinga.com\", \"topics\": [{\"topic\": \"Financial Markets\", \"relevance_score\": \"0.161647\"}, {\"topic\": \"Manufacturing\", \"relevance_score\": \"1.0\"}], \"overall_sentiment_score\": -0.034323, \"overall_sentiment_label\": \"Neutral\", \"ticker_sentiment\": [{\"ticker\": \"TSLA\", \"relevance_score\": \"0.673559\", \"ticker_sentiment_score\": \"0.151879\", \"ticker_sentiment_label\": \"Somewhat-Bullish\"}]}, {\"title\": \"Columbia Law Professor With Small Tesla Stake \\'Inclined To Vote Against\\' Elon Musk\\'s Pay Plan As EV Giant Is \\'Sort Of Melting Ice Cube\\' - Tesla  ( NASDAQ:TSLA ) \", \"url\": \"https://www.benzinga.com/analyst-ratings/analyst-color/24/05/39079461/columbia-law-professor-with-small-tesla-stake-inclined-to-vote-against-elon-musks-p\", \"time_published\": \"20240530T084905\", \"authors\": [\"Shanthi Rexaline\"], \"summary\": \"With Tesla, Inc.\\'s TSLA all-important annual shareholder meeting just two weeks away, the buzz around the board\\'s quest to get CEO Elon Musk\\'s 2018 pay package ratified is getting louder. A legal expert weighed in on the issues in a media appearance.\", \"banner_image\": \"https://cdn.benzinga.com/files/images/story/2024/05/30/Tesla-CEO-Elon-Musk-pay.jpeg?width=1200&height=800&fit=crop\", \"source\": \"Benzinga\", \"category_within_source\": \"News\", \"source_domain\": \"www.benzinga.com\", \"topics\": [{\"topic\": \"Manufacturing\", \"relevance_score\": \"1.0\"}], \"overall_sentiment_score\": 0.106918, \"overall_sentiment_label\": \"Neutral\", \"ticker_sentiment\": [{\"ticker\": \"TSLA\", \"relevance_score\": \"0.560856\", \"ticker_sentiment_score\": \"0.201932\", \"ticker_sentiment_label\": \"Somewhat-Bullish\"}]}, {\"title\": \"Google Confirms Leaked And Highly-Secretive Search Documents Are Real, Detailing How It Collects User Data That Potentially Shapes The Web - Alphabet  ( NASDAQ:GOOG ) , Alphabet  ( NASDAQ:GOOGL ) \", \"url\": \"https://www.benzinga.com/news/24/05/39079415/google-confirms-leaked-and-highly-secretive-search-documents-are-real-detailing-how-it-collects-user\", \"time_published\": \"20240530T083929\", \"authors\": [\"Rounak Jain\"], \"summary\": \"Alphabet Inc.\\'s GOOG GOOGL Google has confirmed the authenticity of 2,500 leaked internal documents that provide insight into its data collection practices and search ranking algorithm. What Happened: Google confirmed the authenticity of the leaked documents, which it had previously declined to ...\", \"banner_image\": \"https://cdn.benzinga.com/files/images/story/2024/05/30/Google-Search.jpeg?width=1200&height=800&fit=crop\", \"source\": \"Benzinga\", \"category_within_source\": \"News\", \"source_domain\": \"www.benzinga.com\", \"topics\": [{\"topic\": \"Technology\", \"relevance_score\": \"0.5\"}, {\"topic\": \"Manufacturing\", \"relevance_score\": \"0.5\"}], \"overall_sentiment_score\": -0.082715, \"overall_sentiment_label\": \"Neutral\", \"ticker_sentiment\": [{\"ticker\": \"GOOG\", \"relevance_score\": \"0.743396\", \"ticker_sentiment_score\": \"-0.453446\", \"ticker_sentiment_label\": \"Bearish\"}, {\"ticker\": \"TSLA\", \"relevance_score\": \"0.100308\", \"ticker_sentiment_score\": \"0.051073\", \"ticker_sentiment_label\": \"Neutral\"}]}, {\"title\": \"2 Unstoppable Vanguard ETFs That Can Help You Beat the S&P 500 Over the Long Term\", \"url\": \"https://www.fool.com/investing/2024/05/30/2-unstoppable-vanguard-etfs-beat-sp-500-long-term/\", \"time_published\": \"20240530T083500\", \"authors\": [\"Anthony Di Pizio\"], \"summary\": \"Technology stocks are often the key ingredient for outperforming the broader market, but they come with risks.\", \"banner_image\": \"https://g.foolcdn.com/editorial/images/778699/a-person-smiling-while-leaning-on-their-kitchen-counter-and-dropping-money-into-a-piggy-bank.jpg\", \"source\": \"Motley Fool\", \"category_within_source\": \"n/a\", \"source_domain\": \"www.fool.com\", \"topics\": [{\"topic\": \"Financial Markets\", \"relevance_score\": \"0.999997\"}, {\"topic\": \"Manufacturing\", \"relevance_score\": \"0.5\"}, {\"topic\": \"Earnings\", \"relevance_score\": \"0.495866\"}, {\"topic\": \"Technology\", \"relevance_score\": \"0.5\"}], \"overall_sentiment_score\": 0.249158, \"overall_sentiment_label\": \"Somewhat-Bullish\", \"ticker_sentiment\": [{\"ticker\": \"MSFT\", \"relevance_score\": \"0.046724\", \"ticker_sentiment_score\": \"0.170683\", \"ticker_sentiment_label\": \"Somewhat-Bullish\"}, {\"ticker\": \"NFLX\", \"relevance_score\": \"0.046724\", \"ticker_sentiment_score\": \"0.041281\", \"ticker_sentiment_label\": \"Neutral\"}, {\"ticker\": \"NVDA\", \"relevance_score\": \"0.139534\", \"ticker_sentiment_score\": \"0.215636\", \"ticker_sentiment_label\": \"Somewhat-Bullish\"}, {\"ticker\": \"TSLA\", \"relevance_score\": \"0.046724\", \"ticker_sentiment_score\": \"0.041281\", \"ticker_sentiment_label\": \"Neutral\"}, {\"ticker\": \"KO\", \"relevance_score\": \"0.046724\", \"ticker_sentiment_score\": \"0.041281\", \"ticker_sentiment_label\": \"Neutral\"}, {\"ticker\": \"AMD\", \"relevance_score\": \"0.046724\", \"ticker_sentiment_score\": \"0.004\", \"ticker_sentiment_label\": \"Neutral\"}, {\"ticker\": \"MU\", \"relevance_score\": \"0.046724\", \"ticker_sentiment_score\": \"0.004\", \"ticker_sentiment_label\": \"Neutral\"}, {\"ticker\": \"PANW\", \"relevance_score\": \"0.046724\", \"ticker_sentiment_score\": \"0.004\", \"ticker_sentiment_label\": \"Neutral\"}]}, {\"title\": \"Legacy Auto Giants GM, Stellantis Plan To Fend Off Chinese EV Threat With $25K Electric Jeep, \\'Most Affordable\\' Revived Bolt - Stellantis  ( NYSE:STLA ) , General Motors  ( NYSE:GM ) \", \"url\": \"https://www.benzinga.com/news/24/05/39078641/legacy-auto-giants-gm-stellantis-plan-to-fend-off-chinese-ev-threat-with-25k-electric-jeep-most-affo\", \"time_published\": \"20240530T073040\", \"authors\": [\"Anan Ashraf\"], \"summary\": \"Electric vehicles are about to get a whole lot more affordable in the United States, as both Stellantis NV\\'s STLA iconic Jeep brand and Detroit-based General Motors GM prepare to shake up the market amid the impending Chinese threat closing in on American shores.\", \"banner_image\": \"https://cdn.benzinga.com/files/images/story/2024/05/30/Jeep-Avenger-Full-electric-Suv-Car-Showc.jpeg?width=1200&height=800&fit=crop\", \"source\": \"Benzinga\", \"category_within_source\": \"News\", \"source_domain\": \"www.benzinga.com\", \"topics\": [{\"topic\": \"Manufacturing\", \"relevance_score\": \"1.0\"}], \"overall_sentiment_score\": 0.171788, \"overall_sentiment_label\": \"Somewhat-Bullish\", \"ticker_sentiment\": [{\"ticker\": \"RIVN\", \"relevance_score\": \"0.151064\", \"ticker_sentiment_score\": \"0.090336\", \"ticker_sentiment_label\": \"Neutral\"}, {\"ticker\": \"TSLA\", \"relevance_score\": \"0.151064\", \"ticker_sentiment_score\": \"0.090336\", \"ticker_sentiment_label\": \"Neutral\"}, {\"ticker\": \"BYDDF\", \"relevance_score\": \"0.151064\", \"ticker_sentiment_score\": \"0.027615\", \"ticker_sentiment_label\": \"Neutral\"}, {\"ticker\": \"GM\", \"relevance_score\": \"0.296761\", \"ticker_sentiment_score\": \"-0.013644\", \"ticker_sentiment_label\": \"Neutral\"}, {\"ticker\": \"FOREX:EUR\", \"relevance_score\": \"0.075874\", \"ticker_sentiment_score\": \"0.0\", \"ticker_sentiment_label\": \"Neutral\"}]}, {\"title\": \"Meta AI Chief Yann LeCun Says Elon Musk Could Use This New Paper To Improve xAI\\'s Grok Amid Ongoing Feud With Tesla CEO - Meta Platforms  ( NASDAQ:META ) \", \"url\": \"https://www.benzinga.com/news/24/05/39078600/meta-ai-chief-yann-lecun-says-elon-musk-could-use-this-new-paper-to-improve-xais-grok-amid-ongoing-f\", \"time_published\": \"20240530T072108\", \"authors\": [\"Ananya Gairola\"], \"summary\": \"Meta Platforms, Inc.\\'s META AI chief Yann LeCun has proposed that Tesla and SpaceX CEO Elon Musk could leverage a new paper from Fundamenta AI Research or FAIR, a team at Meta, to enhance xAI\\'s Grok.\", \"banner_image\": \"https://cdn.benzinga.com/files/images/story/2024/05/30/30996687256-4c441e9b04-k.jpeg?width=1200&height=800&fit=crop\", \"source\": \"Benzinga\", \"category_within_source\": \"News\", \"source_domain\": \"www.benzinga.com\", \"topics\": [{\"topic\": \"Technology\", \"relevance_score\": \"0.5\"}, {\"topic\": \"Manufacturing\", \"relevance_score\": \"0.5\"}], \"overall_sentiment_score\": 0.188677, \"overall_sentiment_label\": \"Somewhat-Bullish\", \"ticker_sentiment\": [{\"ticker\": \"META\", \"relevance_score\": \"0.160633\", \"ticker_sentiment_score\": \"0.266222\", \"ticker_sentiment_label\": \"Somewhat-Bullish\"}, {\"ticker\": \"TSLA\", \"relevance_score\": \"0.080728\", \"ticker_sentiment_score\": \"0.205304\", \"ticker_sentiment_label\": \"Somewhat-Bullish\"}]}, {\"title\": \"Trump may appoint Elon Musk for White House advisory role if he wins\", \"url\": \"https://www.business-standard.com/world-news/trump-may-appoint-elon-musk-for-white-house-advisory-role-if-he-wins-124053000123_1.html\", \"time_published\": \"20240530T053836\", \"authors\": [\"ANI\"], \"summary\": \"The former President of the United States, Donald Trump is considering appointing Tesla CEO Elon Musk for the role of an advisor to him in the White House, as the 2024 Presidential elections draw close, New York Post reported on Thursday, citing The Wall Street Journal.\", \"banner_image\": \"https://bsmedia.business-standard.com/_media/bs/img/article/2024-05/26/full/1716689230-848.jpg?im=FeatureCrop,size=(826,465)\", \"source\": \"Business Standard\", \"category_within_source\": \"GoogleRSS\", \"source_domain\": \"www.business-standard.com\", \"topics\": [{\"topic\": \"Manufacturing\", \"relevance_score\": \"1.0\"}], \"overall_sentiment_score\": 0.092307, \"overall_sentiment_label\": \"Neutral\", \"ticker_sentiment\": [{\"ticker\": \"NYT\", \"relevance_score\": \"0.102888\", \"ticker_sentiment_score\": \"0.0\", \"ticker_sentiment_label\": \"Neutral\"}, {\"ticker\": \"TSLA\", \"relevance_score\": \"0.102888\", \"ticker_sentiment_score\": \"0.105005\", \"ticker_sentiment_label\": \"Neutral\"}]}, {\"title\": \"Impact investing vs ESG: which produces the better results?\", \"url\": \"https://www.ft.com/content/ab57ab8a-e1d6-4a71-baf8-431e0a25b682\", \"time_published\": \"20240530T040006\", \"authors\": [\"Sarah Murray\"], \"summary\": \"Some investors believe direct backing for enterprises is more positive than using a risk-focused fund manager ...\", \"banner_image\": \"https://www.ft.com/__origami/service/image/v2/images/raw/https%3A%2F%2Fwww.ft.com%2F__origami%2Fservice%2Fimage%2Fv2%2Fimages%2Fraw%2Fhttps%253A%252F%252Fd1e00ek4ebabms.cloudfront.net%252Fproduction%252F901dd023-cad7-425d-8f28-a11c77a55f75.jpg%3Fsource%3Dnext-article%26fit%3Dscale-down%26quality%3Dhighest%26width%3D700%26dpr%3D1?source=next&fit=scale-down&dpr=2&width=240\", \"source\": \"Financial Times\", \"category_within_source\": \"Markets\", \"source_domain\": \"www.ft.com\", \"topics\": [{\"topic\": \"Finance\", \"relevance_score\": \"0.5\"}, {\"topic\": \"Financial Markets\", \"relevance_score\": \"1.0\"}, {\"topic\": \"Manufacturing\", \"relevance_score\": \"0.5\"}], \"overall_sentiment_score\": 0.229192, \"overall_sentiment_label\": \"Somewhat-Bullish\", \"ticker_sentiment\": [{\"ticker\": \"BLK\", \"relevance_score\": \"0.033894\", \"ticker_sentiment_score\": \"0.100495\", \"ticker_sentiment_label\": \"Neutral\"}, {\"ticker\": \"TSLA\", \"relevance_score\": \"0.033894\", \"ticker_sentiment_score\": \"0.033747\", \"ticker_sentiment_label\": \"Neutral\"}]}, {\"title\": \"Let go of your passion if you want to get ahead financially\", \"url\": \"https://www.ft.com/content/f7de6e42-ac93-41c4-9c1d-58738c1f6f0b\", \"time_published\": \"20240530T030005\", \"authors\": [\"Chris Newlands\"], \"summary\": \"Imagine a world in which Elon Musk is a professional video gamer rather than co-founder and chief executive of electric-car maker Tesla. Or one in which Warren Buffett is a ukulele player instead of a revered investor and owner of holding company Berkshire Hathaway.\", \"banner_image\": \"https://www.ft.com/__origami/service/image/v2/images/raw/https%3A%2F%2Fd1e00ek4ebabms.cloudfront.net%2Fproduction%2F84cdb292-fc70-42df-92cf-8baa69195cf1.jpg?source=next-article&fit=scale-down&quality=highest&width=700&dpr=1\", \"source\": \"Financial Times\", \"category_within_source\": \"GoogleRSS\", \"source_domain\": \"www.ft.com\", \"topics\": [{\"topic\": \"Financial Markets\", \"relevance_score\": \"0.108179\"}, {\"topic\": \"Manufacturing\", \"relevance_score\": \"0.333333\"}, {\"topic\": \"Earnings\", \"relevance_score\": \"0.158519\"}, {\"topic\": \"Technology\", \"relevance_score\": \"0.333333\"}, {\"topic\": \"Finance\", \"relevance_score\": \"0.333333\"}], \"overall_sentiment_score\": 0.337942, \"overall_sentiment_label\": \"Somewhat-Bullish\", \"ticker_sentiment\": [{\"ticker\": \"MSFT\", \"relevance_score\": \"0.046363\", \"ticker_sentiment_score\": \"0.085725\", \"ticker_sentiment_label\": \"Neutral\"}, {\"ticker\": \"NYT\", \"relevance_score\": \"0.046363\", \"ticker_sentiment_score\": \"0.096542\", \"ticker_sentiment_label\": \"Neutral\"}, {\"ticker\": \"GOOG\", \"relevance_score\": \"0.046363\", \"ticker_sentiment_score\": \"0.030415\", \"ticker_sentiment_label\": \"Neutral\"}, {\"ticker\": \"TSLA\", \"relevance_score\": \"0.046363\", \"ticker_sentiment_score\": \"0.0\", \"ticker_sentiment_label\": \"Neutral\"}, {\"ticker\": \"BRK-A\", \"relevance_score\": \"0.046363\", \"ticker_sentiment_score\": \"0.14041\", \"ticker_sentiment_label\": \"Neutral\"}]}, {\"title\": \"Meta\\'s AI Chief Yann LeCun Reflects On The Time When He And Elon Musk Used To Be Friends: \\'Fun Memories\\'\", \"url\": \"https://www.benzinga.com/news/24/05/39077054/metas-ai-chief-yann-lecun-reflects-on-the-time-when-he-and-elon-musk-used-to-be-friends-fun-memories\", \"time_published\": \"20240530T013132\", \"authors\": [\"Ananya Gairola\"], \"summary\": \"Meta Platforms, Inc.\\'s AI chief Yann LeCun looked back on his previous camaraderie with Tesla and SpaceX CEO Elon Musk, as many people on social media urged the tech behemoths to end this feud.\", \"banner_image\": \"https://cdn.benzinga.com/files/images/story/2024/05/29/Yann-Lecun.jpeg?width=1200&height=800&fit=crop\", \"source\": \"Benzinga\", \"category_within_source\": \"News\", \"source_domain\": \"www.benzinga.com\", \"topics\": [{\"topic\": \"Technology\", \"relevance_score\": \"0.5\"}, {\"topic\": \"Manufacturing\", \"relevance_score\": \"0.5\"}], \"overall_sentiment_score\": 0.040712, \"overall_sentiment_label\": \"Neutral\", \"ticker_sentiment\": [{\"ticker\": \"GOOG\", \"relevance_score\": \"0.246582\", \"ticker_sentiment_score\": \"-0.104354\", \"ticker_sentiment_label\": \"Neutral\"}, {\"ticker\": \"META\", \"relevance_score\": \"0.124809\", \"ticker_sentiment_score\": \"-0.09089\", \"ticker_sentiment_label\": \"Neutral\"}, {\"ticker\": \"TSLA\", \"relevance_score\": \"0.246582\", \"ticker_sentiment_score\": \"-0.083523\", \"ticker_sentiment_label\": \"Neutral\"}]}, {\"title\": \"Stellantis CEO says low-cost electric Jeep will hit U.S. market \\'very soon\\' - .com\", \"url\": \"https://www.upi.com/Top_News/US/2024/05/29/stellantis-jeep-low-cost-electric-vehicle/6251717019269/\", \"time_published\": \"20240529T230720\", \"authors\": [], \"summary\": \"Stellantis CEO says low-cost electric Jeep will hit U.S. market \\'very soon\\' UPI News ...\", \"banner_image\": \"https://cdnph.upi.com/sv/ph/og/upi/6251717019269/2024/1/96ef42057bbc5340a4dcfad31f7ee1ca/v1.5/Stellantis-CEO-says-low-cost-electric-Jeep-will-hit-US-market-very-soon.jpg\", \"source\": \"UPI Business\", \"category_within_source\": \"n/a\", \"source_domain\": \"www.upi.com\", \"topics\": [{\"topic\": \"Manufacturing\", \"relevance_score\": \"1.0\"}], \"overall_sentiment_score\": 0.073169, \"overall_sentiment_label\": \"Neutral\", \"ticker_sentiment\": [{\"ticker\": \"TSLA\", \"relevance_score\": \"0.175859\", \"ticker_sentiment_score\": \"0.05431\", \"ticker_sentiment_label\": \"Neutral\"}, {\"ticker\": \"FOREX:EUR\", \"relevance_score\": \"0.088472\", \"ticker_sentiment_score\": \"0.0\", \"ticker_sentiment_label\": \"Neutral\"}]}, {\"title\": \"Tesla Owners Could Soon Play Video Games At Supercharger Stations - Tesla  ( NASDAQ:TSLA ) \", \"url\": \"https://www.benzinga.com/general/gaming/24/05/39076303/tesla-owners-could-soon-play-video-games-at-supercharger-stations\", \"time_published\": \"20240529T230243\", \"authors\": [\"Chris Katje\"], \"summary\": \"Electric vehicle leader Tesla Inc TSLA launched several video game initiatives over the years, which shouldn\\'t be a surprise given CEO Elon Musk\\'s love of video games. Tesla owners could have a new competitive video game feature. What Happened: Tesla is one of the leaders in electric vehicle ...\", \"banner_image\": \"https://cdn.benzinga.com/files/images/story/2024/05/29/Kettleman-City--Ca---Jan-29--2022-Many-C.jpeg?width=1200&height=800&fit=crop\", \"source\": \"Benzinga\", \"category_within_source\": \"News\", \"source_domain\": \"www.benzinga.com\", \"topics\": [{\"topic\": \"Manufacturing\", \"relevance_score\": \"1.0\"}], \"overall_sentiment_score\": 0.248342, \"overall_sentiment_label\": \"Somewhat-Bullish\", \"ticker_sentiment\": [{\"ticker\": \"BNXYF\", \"relevance_score\": \"0.102888\", \"ticker_sentiment_score\": \"0.060928\", \"ticker_sentiment_label\": \"Neutral\"}, {\"ticker\": \"TSLA\", \"relevance_score\": \"0.879272\", \"ticker_sentiment_score\": \"0.287838\", \"ticker_sentiment_label\": \"Somewhat-Bullish\"}]}, {\"title\": \"Elon Musk\\'s $55 billion Tesla pay package seems to be getting mounting pushback\", \"url\": \"https://www.businessinsider.com/musks-55-billion-tesla-pay-gets-more-pushback-2024-5\", \"time_published\": \"20240529T221000\", \"authors\": [\"Grace Kay\"], \"summary\": \"Musk\\'s $55 billion Tesla pay gets more pushback - Business Insider ...\", \"banner_image\": null, \"source\": \"Business Insider\", \"category_within_source\": \"GoogleRSS\", \"source_domain\": \"www.businessinsider.com\", \"topics\": [{\"topic\": \"Financial Markets\", \"relevance_score\": \"0.684621\"}, {\"topic\": \"Manufacturing\", \"relevance_score\": \"1.0\"}], \"overall_sentiment_score\": 0.06639, \"overall_sentiment_label\": \"Neutral\", \"ticker_sentiment\": [{\"ticker\": \"TSLA\", \"relevance_score\": \"0.688096\", \"ticker_sentiment_score\": \"0.097874\", \"ticker_sentiment_label\": \"Neutral\"}]}, {\"title\": \"The Phrase I Learned in 1998 Predicts Next Month\\'s Market Direction\", \"url\": \"https://moneymorning.com/2024/05/29/the-phrase-i-learned-in-1998-predicts-next-months-market-direction/\", \"time_published\": \"20240529T210106\", \"authors\": [\"Chris Johnson\"], \"summary\": \"\\\\\"The cost of living is a problem to a lot of people\\\\u2026\\\\\" Is This Just a Good Old Fashioned \\\\\"Wall of Worry\\\\\"?\", \"banner_image\": \"https://moneymorning.com/wp-content/blogs.dir/1/files/2024/05/golddd.png\", \"source\": \"Money Morning\", \"category_within_source\": \"RSS\", \"source_domain\": \"moneymorning.com\", \"topics\": [{\"topic\": \"Financial Markets\", \"relevance_score\": \"0.962106\"}, {\"topic\": \"Manufacturing\", \"relevance_score\": \"0.5\"}, {\"topic\": \"Earnings\", \"relevance_score\": \"0.576289\"}, {\"topic\": \"Technology\", \"relevance_score\": \"0.5\"}], \"overall_sentiment_score\": 0.106006, \"overall_sentiment_label\": \"Neutral\", \"ticker_sentiment\": [{\"ticker\": \"CSCO\", \"relevance_score\": \"0.097655\", \"ticker_sentiment_score\": \"0.014328\", \"ticker_sentiment_label\": \"Neutral\"}, {\"ticker\": \"TSLA\", \"relevance_score\": \"0.193852\", \"ticker_sentiment_score\": \"0.138611\", \"ticker_sentiment_label\": \"Neutral\"}]}, {\"title\": \"EXCLUSIVE: Can BRETT Become The Shiba Inu Of The Base Blockchain?\", \"url\": \"https://www.benzinga.com/markets/cryptocurrency/24/05/39072128/exclusive-can-brett-become-the-shiba-inu-of-the-base-blockchain\", \"time_published\": \"20240529T192002\", \"authors\": [\"Murtuza Merchant\"], \"summary\": \"BRETT BRETT/USD, a meme coin inspired by the character of the same name from the popular comic series \\\\\"Boys Club,\\\\\" is aiming to become the dominant meme coin on the Base blockchain, according to Crash, a representative of the BRETT community.\", \"banner_image\": \"https://cdn.benzinga.com/files/images/story/2024/05/29/brett-memecoin.png?width=1200&height=800&fit=crop\", \"source\": \"Benzinga\", \"category_within_source\": \"News\", \"source_domain\": \"www.benzinga.com\", \"topics\": [{\"topic\": \"Blockchain\", \"relevance_score\": \"0.451494\"}, {\"topic\": \"Financial Markets\", \"relevance_score\": \"0.77141\"}, {\"topic\": \"Manufacturing\", \"relevance_score\": \"1.0\"}], \"overall_sentiment_score\": 0.192461, \"overall_sentiment_label\": \"Somewhat-Bullish\", \"ticker_sentiment\": [{\"ticker\": \"TSLA\", \"relevance_score\": \"0.059341\", \"ticker_sentiment_score\": \"0.286151\", \"ticker_sentiment_label\": \"Somewhat-Bullish\"}, {\"ticker\": \"CRYPTO:BTC\", \"relevance_score\": \"0.118354\", \"ticker_sentiment_score\": \"0.133004\", \"ticker_sentiment_label\": \"Neutral\"}, {\"ticker\": \"CRYPTO:ETH\", \"relevance_score\": \"0.118354\", \"ticker_sentiment_score\": \"-0.021886\", \"ticker_sentiment_label\": \"Neutral\"}, {\"ticker\": \"CRYPTO:SHIB\", \"relevance_score\": \"0.344872\", \"ticker_sentiment_score\": \"0.104715\", \"ticker_sentiment_label\": \"Neutral\"}, {\"ticker\": \"CRYPTO:DOGE\", \"relevance_score\": \"0.176717\", \"ticker_sentiment_score\": \"0.035144\", \"ticker_sentiment_label\": \"Neutral\"}]}, {\"title\": \"BIOGEN ALERT: BFA Law Announces Biogen Inc.  ( Nasdaq: BIIB )  Sued for Securities Fraud after Significant Stock Drops - Contact the Firm if You Suffered Losses - Biogen  ( NASDAQ:BIIB ) \", \"url\": \"https://www.benzinga.com/pressreleases/24/05/g39072032/biogen-alert-bfa-law-announces-biogen-inc-nasdaq-biib-sued-for-securities-fraud-after-significant-\", \"time_published\": \"20240529T191600\", \"authors\": [\"Globe Newswire\"], \"summary\": \"NEW YORK, May 29, 2024 ( GLOBE NEWSWIRE ) -- Leading law firm Bleichmar Fonti & Auld LLP announces the upcoming July 22, 2024, deadline in the Biogen Inc. BIIB Securities Class Action Lawsuit.\", \"banner_image\": \"https://www.benzinga.com/next-assets/images/schema-image-default.png\", \"source\": \"Benzinga\", \"category_within_source\": \"News\", \"source_domain\": \"www.benzinga.com\", \"topics\": [{\"topic\": \"Life Sciences\", \"relevance_score\": \"0.5\"}, {\"topic\": \"Financial Markets\", \"relevance_score\": \"0.77141\"}, {\"topic\": \"Manufacturing\", \"relevance_score\": \"0.5\"}], \"overall_sentiment_score\": 0.111169, \"overall_sentiment_label\": \"Neutral\", \"ticker_sentiment\": [{\"ticker\": \"BIIB\", \"relevance_score\": \"0.688777\", \"ticker_sentiment_score\": \"-0.003861\", \"ticker_sentiment_label\": \"Neutral\"}, {\"ticker\": \"TSLA\", \"relevance_score\": \"0.100729\", \"ticker_sentiment_score\": \"0.170053\", \"ticker_sentiment_label\": \"Somewhat-Bullish\"}]}, {\"title\": \"Trump weighs White House advisory role for Elon Musk: report\", \"url\": \"https://www.foxbusiness.com/politics/trump-weighs-white-house-advisory-role-elon-musk-report\", \"time_published\": \"20240529T183700\", \"authors\": [\"Eric Revell\"], \"summary\": \"Former President Trump is considering offering an advisory role in the White House if Trump reclaims the presidency in this fall\\'s election, according to a report.\", \"banner_image\": \"https://cf-images.us-east-1.prod.boltdns.net/v1/static/854081161001/47356c78-864a-40dd-b9c5-c59883d774e5/58bd03fa-1f62-4331-ac5d-0cd2f473d3c8/1280x720/match/image.jpg\", \"source\": \"Fox Business News\", \"category_within_source\": \"n/a\", \"source_domain\": \"www.foxbusiness.com\", \"topics\": [{\"topic\": \"Manufacturing\", \"relevance_score\": \"1.0\"}], \"overall_sentiment_score\": -0.031493, \"overall_sentiment_label\": \"Neutral\", \"ticker_sentiment\": [{\"ticker\": \"TSLA\", \"relevance_score\": \"0.197413\", \"ticker_sentiment_score\": \"0.142332\", \"ticker_sentiment_label\": \"Neutral\"}]}, {\"title\": \"Musk Said Tesla Will Build 50,000 Semi Trucks In 2024 - Guess How Many They Actually Made\", \"url\": \"https://www.benzinga.com/general/24/05/39071175/musk-said-tesla-will-build-50-000-semi-trucks-in-2024-guess-how-many-they-actually-made\", \"time_published\": \"20240529T183017\", \"authors\": [\"Adrian Volenik\"], \"summary\": \"In a bold prediction in October 2022, Elon Musk assured investors that Tesla would produce 50,000 Tesla Semi trucks by 2024. However, the reality has unfolded quite differently as the production of the Tesla Semi has been affected by delays and setbacks, much to the frustration of eager customers.\", \"banner_image\": \"https://cdn.benzinga.com/files/images/story/2024/05/29/Tesla-CEO-Elon-Musk_0.jpeg?width=1200&height=800&fit=crop\", \"source\": \"Benzinga\", \"category_within_source\": \"General\", \"source_domain\": \"www.benzinga.com\", \"topics\": [{\"topic\": \"Retail & Wholesale\", \"relevance_score\": \"0.333333\"}, {\"topic\": \"Financial Markets\", \"relevance_score\": \"0.161647\"}, {\"topic\": \"Manufacturing\", \"relevance_score\": \"0.333333\"}, {\"topic\": \"Earnings\", \"relevance_score\": \"0.158519\"}, {\"topic\": \"Energy & Transportation\", \"relevance_score\": \"0.333333\"}], \"overall_sentiment_score\": 0.131615, \"overall_sentiment_label\": \"Neutral\", \"ticker_sentiment\": [{\"ticker\": \"PEP\", \"relevance_score\": \"0.279653\", \"ticker_sentiment_score\": \"0.175196\", \"ticker_sentiment_label\": \"Somewhat-Bullish\"}, {\"ticker\": \"SYY\", \"relevance_score\": \"0.057079\", \"ticker_sentiment_score\": \"0.0\", \"ticker_sentiment_label\": \"Neutral\"}, {\"ticker\": \"TSLA\", \"relevance_score\": \"0.648037\", \"ticker_sentiment_score\": \"0.05847\", \"ticker_sentiment_label\": \"Neutral\"}, {\"ticker\": \"SNDR\", \"relevance_score\": \"0.057079\", \"ticker_sentiment_score\": \"0.0\", \"ticker_sentiment_label\": \"Neutral\"}, {\"ticker\": \"WMT\", \"relevance_score\": \"0.057079\", \"ticker_sentiment_score\": \"0.0\", \"ticker_sentiment_label\": \"Neutral\"}]}, {\"title\": \"How to tell if your older vehicle has a potentially dangerous Takata air bag under recall\", \"url\": \"https://apnews.com/article/takata-air-bag-inflator-explode-shrapnel-killed-injured-nissan-c031b0951b610019267dd94456b7bdd8\", \"time_published\": \"20240529T175900\", \"authors\": [\"TOM KRISHER\"], \"summary\": \"DETROIT ( AP ) - Despite a long string of recalls that began more than two decades ago, about 6.2 million vehicles with potentially dangerous Takata air bag inflators remain on U.S. roads today.\", \"banner_image\": \"https://dims.apnews.com/dims4/default/d6f49f2/2147483647/strip/true/crop/2774x1848+0+1/resize/599x399!/quality/90/?url=https%3A%2F%2Fassets.apnews.com%2F34%2F5c%2Fc58461643b1de7106311a121db78%2F459c3099e8b34e9c98dfcbd36be81c74\", \"source\": \"Associated Press\", \"category_within_source\": \"Markets\", \"source_domain\": \"apnews.com\", \"topics\": [{\"topic\": \"Manufacturing\", \"relevance_score\": \"1.0\"}], \"overall_sentiment_score\": -0.268821, \"overall_sentiment_label\": \"Somewhat-Bearish\", \"ticker_sentiment\": [{\"ticker\": \"MSBHF\", \"relevance_score\": \"0.072876\", \"ticker_sentiment_score\": \"-0.034195\", \"ticker_sentiment_label\": \"Neutral\"}, {\"ticker\": \"FUJHF\", \"relevance_score\": \"0.072876\", \"ticker_sentiment_score\": \"-0.034195\", \"ticker_sentiment_label\": \"Neutral\"}, {\"ticker\": \"TSLA\", \"relevance_score\": \"0.072876\", \"ticker_sentiment_score\": \"-0.034195\", \"ticker_sentiment_label\": \"Neutral\"}]}, {\"title\": \"Donald Trump is reportedly considering an advisory role for Elon Musk\", \"url\": \"https://www.businessinsider.com/elon-musk-could-be-donald-trump-advisor-wsj-reports-2024-5\", \"time_published\": \"20240529T175600\", \"authors\": [\"Jordan Hart\"], \"summary\": \"\\\\u2022 Elon Musk and Donald Trump are discussing a role for him in the White House, the WSJ reported. \\\\u2022 Musk and Trump have had a hot-and-cold relationship over the years. \\\\u2022 In March, Musk said the US is need of a \\\\\"red wave\\\\\" to save it.\", \"banner_image\": null, \"source\": \"Business Insider\", \"category_within_source\": \"GoogleRSS\", \"source_domain\": \"www.businessinsider.com\", \"topics\": [{\"topic\": \"Manufacturing\", \"relevance_score\": \"1.0\"}], \"overall_sentiment_score\": 0.21709, \"overall_sentiment_label\": \"Somewhat-Bullish\", \"ticker_sentiment\": [{\"ticker\": \"TSLA\", \"relevance_score\": \"0.114137\", \"ticker_sentiment_score\": \"0.10007\", \"ticker_sentiment_label\": \"Neutral\"}]}, {\"title\": \"Hyundai Continues To Expand Its EV Lineup - General Motors  ( NYSE:GM ) \", \"url\": \"https://www.benzinga.com/markets/penny-stocks/24/05/39070152/hyundai-continues-to-expand-its-ev-lineup\", \"time_published\": \"20240529T173007\", \"authors\": [\"Upwallstreet\"], \"summary\": \"While legacy automakers General Motors GM and Ford Motor F continue to scale down and reassess their EV ambitions, Hyundai Motor Company HYMTF is growing its EV portfolio.\", \"banner_image\": \"https://cdn.benzinga.com/files/electric-cars-are-being-charged-vehicle-parking-with-solar-panel-energy.jpg?width=1200&height=800&fit=crop\", \"source\": \"Benzinga\", \"category_within_source\": \"General\", \"source_domain\": \"www.benzinga.com\", \"topics\": [{\"topic\": \"Financial Markets\", \"relevance_score\": \"0.360215\"}, {\"topic\": \"Manufacturing\", \"relevance_score\": \"1.0\"}], \"overall_sentiment_score\": 0.308491, \"overall_sentiment_label\": \"Somewhat-Bullish\", \"ticker_sentiment\": [{\"ticker\": \"FSLR\", \"relevance_score\": \"0.144275\", \"ticker_sentiment_score\": \"0.210522\", \"ticker_sentiment_label\": \"Somewhat-Bullish\"}, {\"ticker\": \"TSLA\", \"relevance_score\": \"0.350564\", \"ticker_sentiment_score\": \"0.224609\", \"ticker_sentiment_label\": \"Somewhat-Bullish\"}, {\"ticker\": \"F\", \"relevance_score\": \"0.214937\", \"ticker_sentiment_score\": \"0.252683\", \"ticker_sentiment_label\": \"Somewhat-Bullish\"}, {\"ticker\": \"GM\", \"relevance_score\": \"0.214937\", \"ticker_sentiment_score\": \"0.180268\", \"ticker_sentiment_label\": \"Somewhat-Bullish\"}, {\"ticker\": \"HYMLF\", \"relevance_score\": \"0.072435\", \"ticker_sentiment_score\": \"0.140057\", \"ticker_sentiment_label\": \"Neutral\"}, {\"ticker\": \"RIVN\", \"relevance_score\": \"0.28387\", \"ticker_sentiment_score\": \"0.285729\", \"ticker_sentiment_label\": \"Somewhat-Bullish\"}, {\"ticker\": \"WKSP\", \"relevance_score\": \"0.414559\", \"ticker_sentiment_score\": \"0.437279\", \"ticker_sentiment_label\": \"Bullish\"}]}, {\"title\": \"Magnificent 7 Hits 31% Weighting for S&P 500, Top 5 Holdings Hit 27% Weighting: Will Investors Look Elsewhere? - SPDR S&P 500  ( ARCA:SPY ) \", \"url\": \"https://www.benzinga.com/etfs/broad-u-s-equity-etfs/24/05/39069969/magnificent-7-hits-31-weighting-for-s-p-500-top-5-holdings-hit-27-weighting-will-inves\", \"time_published\": \"20240529T171541\", \"authors\": [\"Chris Katje\"], \"summary\": \"Semiconductor giant NVIDIA Corporation NVDA has been surging in value and could soon be the most valuable company in the world. The strong gains for Nvidia and other Magnificent 7 stocks have helped boost several major stock indexes, but also show significant weighting for a small basket of stocks.\", \"banner_image\": \"https://cdn.benzinga.com/files/images/story/2024/05/29/magnificent-7.jpeg?width=1200&height=800&fit=crop\", \"source\": \"Benzinga\", \"category_within_source\": \"Trading\", \"source_domain\": \"www.benzinga.com\", \"topics\": [{\"topic\": \"Financial Markets\", \"relevance_score\": \"0.999763\"}, {\"topic\": \"Manufacturing\", \"relevance_score\": \"0.333333\"}, {\"topic\": \"Technology\", \"relevance_score\": \"0.333333\"}, {\"topic\": \"Finance\", \"relevance_score\": \"0.333333\"}], \"overall_sentiment_score\": 0.416781, \"overall_sentiment_label\": \"Bullish\", \"ticker_sentiment\": [{\"ticker\": \"MSFT\", \"relevance_score\": \"0.211806\", \"ticker_sentiment_score\": \"0.284005\", \"ticker_sentiment_label\": \"Somewhat-Bullish\"}, {\"ticker\": \"GOOG\", \"relevance_score\": \"0.071357\", \"ticker_sentiment_score\": \"0.232948\", \"ticker_sentiment_label\": \"Somewhat-Bullish\"}, {\"ticker\": \"NVDA\", \"relevance_score\": \"0.57974\", \"ticker_sentiment_score\": \"0.724047\", \"ticker_sentiment_label\": \"Bullish\"}, {\"ticker\": \"AAPL\", \"relevance_score\": \"0.279813\", \"ticker_sentiment_score\": \"0.226258\", \"ticker_sentiment_label\": \"Somewhat-Bullish\"}, {\"ticker\": \"TSLA\", \"relevance_score\": \"0.211806\", \"ticker_sentiment_score\": \"-0.074285\", \"ticker_sentiment_label\": \"Neutral\"}, {\"ticker\": \"IVZ\", \"relevance_score\": \"0.142144\", \"ticker_sentiment_score\": \"0.227\", \"ticker_sentiment_label\": \"Somewhat-Bullish\"}]}, {\"title\": \"Tesla\\'s $56 bn pay package for Elon Musk opposed by Calpers CEO Frost\", \"url\": \"https://www.business-standard.com/companies/news/tesla-s-56-bn-pay-package-for-elon-musk-opposed-by-calpers-ceo-frost-124052901830_1.html\", \"time_published\": \"20240529T165328\", \"authors\": [\"Bloomberg\"], \"summary\": \"Calpers, the largest state public pension fund in the US, tentatively plans to vote against a proposed $56 billion pay package for Tesla Inc. Chief Executive Officer Elon Musk, a sign of opposition from a major investor.\", \"banner_image\": \"https://bsmedia.business-standard.com/_media/bs/img/article/2024-05/16/full/1715837215-7533.JPG?im=FeatureCrop,size=(826,465)\", \"source\": \"Business Standard\", \"category_within_source\": \"GoogleRSS\", \"source_domain\": \"www.business-standard.com\", \"topics\": [{\"topic\": \"Manufacturing\", \"relevance_score\": \"1.0\"}], \"overall_sentiment_score\": -0.176698, \"overall_sentiment_label\": \"Somewhat-Bearish\", \"ticker_sentiment\": [{\"ticker\": \"TSLA\", \"relevance_score\": \"0.622414\", \"ticker_sentiment_score\": \"-0.201275\", \"ticker_sentiment_label\": \"Somewhat-Bearish\"}]}, {\"title\": \"Nvidia  ( NVDA )  Q1 2025 Earnings Call Transcript\", \"url\": \"https://www.fool.com/earnings/call-transcripts/2024/05/29/nvidia-nvda-q1-2025-earnings-call-transcript/\", \"time_published\": \"20240529T164513\", \"authors\": [\"Motley Fool Transcribing\"], \"summary\": \"NVDA earnings call for the period ending March 31, 2024.\", \"banner_image\": \"https://g.foolcdn.com/misc-assets/fool-transcripts-logo.png\", \"source\": \"Motley Fool\", \"category_within_source\": \"n/a\", \"source_domain\": \"www.fool.com\", \"topics\": [{\"topic\": \"Technology\", \"relevance_score\": \"0.25\"}, {\"topic\": \"Finance\", \"relevance_score\": \"0.25\"}, {\"topic\": \"Economy - Monetary\", \"relevance_score\": \"0.158519\"}, {\"topic\": \"Financial Markets\", \"relevance_score\": \"0.938793\"}, {\"topic\": \"Manufacturing\", \"relevance_score\": \"0.25\"}, {\"topic\": \"Earnings\", \"relevance_score\": \"1.0\"}, {\"topic\": \"Real Estate & Construction\", \"relevance_score\": \"0.25\"}], \"overall_sentiment_score\": 0.256157, \"overall_sentiment_label\": \"Somewhat-Bullish\", \"ticker_sentiment\": [{\"ticker\": \"EVR\", \"relevance_score\": \"0.005029\", \"ticker_sentiment_score\": \"0.100015\", \"ticker_sentiment_label\": \"Neutral\"}, {\"ticker\": \"XPEV\", \"relevance_score\": \"0.005029\", \"ticker_sentiment_score\": \"0.00498\", \"ticker_sentiment_label\": \"Neutral\"}, {\"ticker\": \"GOOG\", \"relevance_score\": \"0.010057\", \"ticker_sentiment_score\": \"0.102538\", \"ticker_sentiment_label\": \"Neutral\"}, {\"ticker\": \"META\", \"relevance_score\": \"0.005029\", \"ticker_sentiment_score\": \"0.118901\", \"ticker_sentiment_label\": \"Neutral\"}, {\"ticker\": \"NRHI\", \"relevance_score\": \"0.005029\", \"ticker_sentiment_score\": \"0.04116\", \"ticker_sentiment_label\": \"Neutral\"}, {\"ticker\": \"NVDA\", \"relevance_score\": \"0.203904\", \"ticker_sentiment_score\": \"0.20968\", \"ticker_sentiment_label\": \"Somewhat-Bullish\"}, {\"ticker\": \"GETY\", \"relevance_score\": \"0.005029\", \"ticker_sentiment_score\": \"0.098323\", \"ticker_sentiment_label\": \"Neutral\"}, {\"ticker\": \"BAC\", \"relevance_score\": \"0.010057\", \"ticker_sentiment_score\": \"0.082631\", \"ticker_sentiment_label\": \"Neutral\"}, {\"ticker\": \"SKURF\", \"relevance_score\": \"0.005029\", \"ticker_sentiment_score\": \"0.032673\", \"ticker_sentiment_label\": \"Neutral\"}, {\"ticker\": \"MS\", \"relevance_score\": \"0.005029\", \"ticker_sentiment_score\": \"0.105964\", \"ticker_sentiment_label\": \"Neutral\"}, {\"ticker\": \"GS\", \"relevance_score\": \"0.005029\", \"ticker_sentiment_score\": \"0.105964\", \"ticker_sentiment_label\": \"Neutral\"}, {\"ticker\": \"ASCCF\", \"relevance_score\": \"0.005029\", \"ticker_sentiment_score\": \"0.248804\", \"ticker_sentiment_label\": \"Somewhat-Bullish\"}, {\"ticker\": \"TCTZF\", \"relevance_score\": \"0.005029\", \"ticker_sentiment_score\": \"0.120573\", \"ticker_sentiment_label\": \"Neutral\"}, {\"ticker\": \"MSFT\", \"relevance_score\": \"0.020113\", \"ticker_sentiment_score\": \"0.09363\", \"ticker_sentiment_label\": \"Neutral\"}, {\"ticker\": \"NTES\", \"relevance_score\": \"0.005029\", \"ticker_sentiment_score\": \"0.120573\", \"ticker_sentiment_label\": \"Neutral\"}, {\"ticker\": \"SSTK\", \"relevance_score\": \"0.005029\", \"ticker_sentiment_score\": \"0.098323\", \"ticker_sentiment_label\": \"Neutral\"}, {\"ticker\": \"ANSS\", \"relevance_score\": \"0.005029\", \"ticker_sentiment_score\": \"0.019832\", \"ticker_sentiment_label\": \"Neutral\"}, {\"ticker\": \"TSLA\", \"relevance_score\": \"0.010057\", \"ticker_sentiment_score\": \"0.09297\", \"ticker_sentiment_label\": \"Neutral\"}, {\"ticker\": \"SFTBF\", \"relevance_score\": \"0.005029\", \"ticker_sentiment_score\": \"0.032673\", \"ticker_sentiment_label\": \"Neutral\"}, {\"ticker\": \"APG\", \"relevance_score\": \"0.005029\", \"ticker_sentiment_score\": \"0.080747\", \"ticker_sentiment_label\": \"Neutral\"}, {\"ticker\": \"XIACY\", \"relevance_score\": \"0.005029\", \"ticker_sentiment_score\": \"0.16662\", \"ticker_sentiment_label\": \"Somewhat-Bullish\"}]}, {\"title\": \"Tesla owner says his Cybertruck delivery got bloody and he ended up in the hospital after accidentally cutting his wrist on the EV\", \"url\": \"https://www.businessinsider.com/tesla-cybertruck-owner-says-cut-wrist-injury-accident-2024-5\", \"time_published\": \"20240529T162200\", \"authors\": [\"Ana Altchek\"], \"summary\": \"Cybertruck owner says he accidentally cut wrist, ended up in hospital - Business Insider ...\", \"banner_image\": null, \"source\": \"Business Insider\", \"category_within_source\": \"GoogleRSS\", \"source_domain\": \"www.businessinsider.com\", \"topics\": [{\"topic\": \"Manufacturing\", \"relevance_score\": \"1.0\"}], \"overall_sentiment_score\": -0.026555, \"overall_sentiment_label\": \"Neutral\", \"ticker_sentiment\": [{\"ticker\": \"TSLA\", \"relevance_score\": \"0.232996\", \"ticker_sentiment_score\": \"-0.240571\", \"ticker_sentiment_label\": \"Somewhat-Bearish\"}]}, {\"title\": \"Stellantis CEO says $25,000 Jeep EV coming to the U.S. \\'very soon\\'\", \"url\": \"https://www.cnbc.com/2024/05/29/stellantis-affordable-jeep-ev.html\", \"time_published\": \"20240529T155006\", \"authors\": [\"Michael Wayland\"], \"summary\": \"The importance of an affordable EV has grown more apparent as Chinese automakers like BYD and Nio grow their sales outside of China.\", \"banner_image\": \"https://image.cnbcfm.com/api/v1/image/107135599-1666009091005-gettyimages-1244035825-FRANCE_MOTOR_SHOW.jpeg?v=1716991332&w=1920&h=1080\", \"source\": \"CNBC\", \"category_within_source\": \"Business\", \"source_domain\": \"www.cnbc.com\", \"topics\": [{\"topic\": \"Manufacturing\", \"relevance_score\": \"1.0\"}], \"overall_sentiment_score\": 0.073187, \"overall_sentiment_label\": \"Neutral\", \"ticker_sentiment\": [{\"ticker\": \"TSLA\", \"relevance_score\": \"0.070517\", \"ticker_sentiment_score\": \"-0.00404\", \"ticker_sentiment_label\": \"Neutral\"}, {\"ticker\": \"FOREX:EUR\", \"relevance_score\": \"0.070517\", \"ticker_sentiment_score\": \"0.0\", \"ticker_sentiment_label\": \"Neutral\"}]}]}'"
            ],
            "application/vnd.google.colaboratory.intrinsic+json": {
              "type": "string"
            }
          },
          "metadata": {},
          "execution_count": 17
        }
      ]
    },
    {
      "cell_type": "code",
      "source": [
        "chain.invoke({\"topic\": \"company news with sentiment score\", \"symbol\": \"TSLA\", \"json\": info})"
      ],
      "metadata": {
        "colab": {
          "base_uri": "https://localhost:8080/",
          "height": 137
        },
        "id": "0DRx6arb2iyG",
        "outputId": "1a19ade4-a61c-4ab5-be5f-326a451f3283"
      },
      "execution_count": null,
      "outputs": [
        {
          "output_type": "execute_result",
          "data": {
            "text/plain": [
              "\"Here is a report on Tesla (TSLA) based on the provided JSON data: \\n\\n## Summary: \\nThe report provides an analysis of recent news and sentiment surrounding Tesla, Inc. (TSLA) as of May 30, 2024. The data includes articles from various sources, such as Benzinga, Motley Fool, Business Insider, and more. Overall, the sentiment towards TSLA is mostly neutral, with a few articles leaning slightly bullish or bearish. The topics discussed include Tesla's pricing strategies, Elon Musk's compensation package, and the development of electric vehicles (EVs) by legacy automakers. \\n\\n## Details: \\n- **Pricing Strategies**: There is discussion about Tesla's strategy of lowering prices, which is great for car buyers but may not be beneficial for the company's profits. \\n- **Elon Musk's Compensation**: There are differing opinions on Elon Musk's 2018 compensation package, with some investors and experts expressing support while others plan to vote against it. \\n- **Electric Vehicle Competition**: Legacy automakers, such as GM and Stellantis, are planning to launch more affordable EVs to compete with Chinese EV makers and Tesla. \\n- **AI Developments**: Elon Musk's new AI startup, xAI, has received attention, with some articles discussing its potential competition with OpenAI. \\n- **Political Connections**: There are speculations about Elon Musk potentially advising Donald Trump if he wins the 2024 Presidential election. \\n- **Production Delays**: There is news about delays in the production of the Tesla Semi, with Musk initially predicting 50,000 trucks by 2024, but the reality falling short. \\n\\n## Sentiment Analysis: \\n- **Overall Sentiment**: The overall sentiment score for TSLA-related news is mostly neutral, with a few articles leaning slightly bullish or bearish. \\n- **Bullish Sentiment**: Some articles with a more positive sentiment include discussions about Tesla owners potentially playing video games at Supercharger stations and Hyundai expanding its EV lineup. \\n- **Bearish Sentiment**: Articles with a more negative sentiment include discussions about Tesla's lowering of prices and Jim Chanos being sued, with a mention of Tesla in the article. \\n\\n## Conclusion: \\nThe report provides a snapshot of the current news and sentiment surrounding Tesla, Inc. (TSLA). While the overall sentiment is mostly neutral, there are a variety of topics being discussed, including pricing strategies, Elon Musk's compensation and political connections, and the development of EVs by legacy automakers. The data suggests a mixed outlook for TSLA, with some potential concerns and opportunities highlighted in the recent news. The supervisor can use this report as context for further analysis and decision-making regarding TSLA.\""
            ],
            "application/vnd.google.colaboratory.intrinsic+json": {
              "type": "string"
            }
          },
          "metadata": {},
          "execution_count": 24
        }
      ]
    },
    {
      "cell_type": "code",
      "source": [
        "from langchain_core.prompts import ChatPromptTemplate, MessagesPlaceholder\n",
        "from langchain.agents import AgentExecutor, create_tool_calling_agent\n",
        "\n",
        "agent_tools = [TavilySearchResults(max_results=3)]\n",
        "\n",
        "agent_llm = ChatGroq(model=\"llama3-70b-8192\", temperature=0, streaming=True)\n",
        "\n",
        "\n",
        "def create_agent(llm, tools: list):\n",
        "    # Each worker node will be given a name and some tools.\n",
        "    prompt = ChatPromptTemplate.from_messages(\n",
        "        [\n",
        "            (\n",
        "                \"system\",\n",
        "                \"\"\"You are given a list of company names, find the stock symbol(s) for them.\n",
        "                   You have access to the search tool tavily_search_results_json\n",
        "                   You can use the tool if you do not know the symbol, if you know then there is no need to search\n",
        "                   input: list of company names\n",
        "                   output: Return only the symbols separated by spaces. Don't add any type of punctuantion.\n",
        "                \"\"\",\n",
        "            ),\n",
        "            MessagesPlaceholder(variable_name=\"input\"),\n",
        "            MessagesPlaceholder(variable_name=\"agent_scratchpad\"),\n",
        "        ]\n",
        "    )\n",
        "    agent = create_tool_calling_agent(llm, tools, prompt)\n",
        "    executor = AgentExecutor(agent=agent, tools=tools)\n",
        "    return executor\n",
        "\n",
        "\n",
        "agent_chain = create_agent(agent_llm, agent_tools)"
      ],
      "metadata": {
        "id": "ww2SeMxpfMWl"
      },
      "execution_count": null,
      "outputs": []
    },
    {
      "cell_type": "code",
      "source": [
        "from langchain_core.messages import HumanMessage\n",
        "\n",
        "await agent_chain.ainvoke({\"input\": [HumanMessage(content=\"Tesla\")]})"
      ],
      "metadata": {
        "colab": {
          "base_uri": "https://localhost:8080/",
          "height": 316
        },
        "id": "LZXTRB1xgT0t",
        "outputId": "56100713-b9a9-4320-ab6a-d46cdf58051b"
      },
      "execution_count": null,
      "outputs": [
        {
          "output_type": "error",
          "ename": "AttributeError",
          "evalue": "'AsyncStream' object has no attribute 'dict'",
          "traceback": [
            "\u001b[0;31m---------------------------------------------------------------------------\u001b[0m",
            "\u001b[0;31mAttributeError\u001b[0m                            Traceback (most recent call last)",
            "\u001b[0;32m<ipython-input-47-1e03d3547c07>\u001b[0m in \u001b[0;36m<cell line: 3>\u001b[0;34m()\u001b[0m\n\u001b[1;32m      1\u001b[0m \u001b[0;32mfrom\u001b[0m \u001b[0mlangchain_core\u001b[0m\u001b[0;34m.\u001b[0m\u001b[0mmessages\u001b[0m \u001b[0;32mimport\u001b[0m \u001b[0mHumanMessage\u001b[0m\u001b[0;34m\u001b[0m\u001b[0;34m\u001b[0m\u001b[0m\n\u001b[1;32m      2\u001b[0m \u001b[0;34m\u001b[0m\u001b[0m\n\u001b[0;32m----> 3\u001b[0;31m \u001b[0;32mawait\u001b[0m \u001b[0magent_chain\u001b[0m\u001b[0;34m.\u001b[0m\u001b[0mainvoke\u001b[0m\u001b[0;34m(\u001b[0m\u001b[0;34m{\u001b[0m\u001b[0;34m\"input\"\u001b[0m\u001b[0;34m:\u001b[0m \u001b[0;34m[\u001b[0m\u001b[0mHumanMessage\u001b[0m\u001b[0;34m(\u001b[0m\u001b[0mcontent\u001b[0m\u001b[0;34m=\u001b[0m\u001b[0;34m\"Tesla\"\u001b[0m\u001b[0;34m)\u001b[0m\u001b[0;34m]\u001b[0m\u001b[0;34m}\u001b[0m\u001b[0;34m)\u001b[0m\u001b[0;34m\u001b[0m\u001b[0;34m\u001b[0m\u001b[0m\n\u001b[0m",
            "\u001b[0;32m/usr/local/lib/python3.10/dist-packages/langchain/chains/base.py\u001b[0m in \u001b[0;36mainvoke\u001b[0;34m(self, input, config, **kwargs)\u001b[0m\n\u001b[1;32m    215\u001b[0m         \u001b[0;32mexcept\u001b[0m \u001b[0mBaseException\u001b[0m \u001b[0;32mas\u001b[0m \u001b[0me\u001b[0m\u001b[0;34m:\u001b[0m\u001b[0;34m\u001b[0m\u001b[0;34m\u001b[0m\u001b[0m\n\u001b[1;32m    216\u001b[0m             \u001b[0;32mawait\u001b[0m \u001b[0mrun_manager\u001b[0m\u001b[0;34m.\u001b[0m\u001b[0mon_chain_error\u001b[0m\u001b[0;34m(\u001b[0m\u001b[0me\u001b[0m\u001b[0;34m)\u001b[0m\u001b[0;34m\u001b[0m\u001b[0;34m\u001b[0m\u001b[0m\n\u001b[0;32m--> 217\u001b[0;31m             \u001b[0;32mraise\u001b[0m \u001b[0me\u001b[0m\u001b[0;34m\u001b[0m\u001b[0;34m\u001b[0m\u001b[0m\n\u001b[0m\u001b[1;32m    218\u001b[0m         \u001b[0;32mawait\u001b[0m \u001b[0mrun_manager\u001b[0m\u001b[0;34m.\u001b[0m\u001b[0mon_chain_end\u001b[0m\u001b[0;34m(\u001b[0m\u001b[0moutputs\u001b[0m\u001b[0;34m)\u001b[0m\u001b[0;34m\u001b[0m\u001b[0;34m\u001b[0m\u001b[0m\n\u001b[1;32m    219\u001b[0m \u001b[0;34m\u001b[0m\u001b[0m\n",
            "\u001b[0;32m/usr/local/lib/python3.10/dist-packages/langchain/chains/base.py\u001b[0m in \u001b[0;36mainvoke\u001b[0;34m(self, input, config, **kwargs)\u001b[0m\n\u001b[1;32m    206\u001b[0m             \u001b[0mself\u001b[0m\u001b[0;34m.\u001b[0m\u001b[0m_validate_inputs\u001b[0m\u001b[0;34m(\u001b[0m\u001b[0minputs\u001b[0m\u001b[0;34m)\u001b[0m\u001b[0;34m\u001b[0m\u001b[0;34m\u001b[0m\u001b[0m\n\u001b[1;32m    207\u001b[0m             outputs = (\n\u001b[0;32m--> 208\u001b[0;31m                 \u001b[0;32mawait\u001b[0m \u001b[0mself\u001b[0m\u001b[0;34m.\u001b[0m\u001b[0m_acall\u001b[0m\u001b[0;34m(\u001b[0m\u001b[0minputs\u001b[0m\u001b[0;34m,\u001b[0m \u001b[0mrun_manager\u001b[0m\u001b[0;34m=\u001b[0m\u001b[0mrun_manager\u001b[0m\u001b[0;34m)\u001b[0m\u001b[0;34m\u001b[0m\u001b[0;34m\u001b[0m\u001b[0m\n\u001b[0m\u001b[1;32m    209\u001b[0m                 \u001b[0;32mif\u001b[0m \u001b[0mnew_arg_supported\u001b[0m\u001b[0;34m\u001b[0m\u001b[0;34m\u001b[0m\u001b[0m\n\u001b[1;32m    210\u001b[0m                 \u001b[0;32melse\u001b[0m \u001b[0;32mawait\u001b[0m \u001b[0mself\u001b[0m\u001b[0;34m.\u001b[0m\u001b[0m_acall\u001b[0m\u001b[0;34m(\u001b[0m\u001b[0minputs\u001b[0m\u001b[0;34m)\u001b[0m\u001b[0;34m\u001b[0m\u001b[0;34m\u001b[0m\u001b[0m\n",
            "\u001b[0;32m/usr/local/lib/python3.10/dist-packages/langchain/agents/agent.py\u001b[0m in \u001b[0;36m_acall\u001b[0;34m(self, inputs, run_manager)\u001b[0m\n\u001b[1;32m   1480\u001b[0m             \u001b[0;32masync\u001b[0m \u001b[0;32mwith\u001b[0m \u001b[0masyncio_timeout\u001b[0m\u001b[0;34m(\u001b[0m\u001b[0mself\u001b[0m\u001b[0;34m.\u001b[0m\u001b[0mmax_execution_time\u001b[0m\u001b[0;34m)\u001b[0m\u001b[0;34m:\u001b[0m\u001b[0;34m\u001b[0m\u001b[0;34m\u001b[0m\u001b[0m\n\u001b[1;32m   1481\u001b[0m                 \u001b[0;32mwhile\u001b[0m \u001b[0mself\u001b[0m\u001b[0;34m.\u001b[0m\u001b[0m_should_continue\u001b[0m\u001b[0;34m(\u001b[0m\u001b[0miterations\u001b[0m\u001b[0;34m,\u001b[0m \u001b[0mtime_elapsed\u001b[0m\u001b[0;34m)\u001b[0m\u001b[0;34m:\u001b[0m\u001b[0;34m\u001b[0m\u001b[0;34m\u001b[0m\u001b[0m\n\u001b[0;32m-> 1482\u001b[0;31m                     next_step_output = await self._atake_next_step(\n\u001b[0m\u001b[1;32m   1483\u001b[0m                         \u001b[0mname_to_tool_map\u001b[0m\u001b[0;34m,\u001b[0m\u001b[0;34m\u001b[0m\u001b[0;34m\u001b[0m\u001b[0m\n\u001b[1;32m   1484\u001b[0m                         \u001b[0mcolor_mapping\u001b[0m\u001b[0;34m,\u001b[0m\u001b[0;34m\u001b[0m\u001b[0;34m\u001b[0m\u001b[0m\n",
            "\u001b[0;32m/usr/local/lib/python3.10/dist-packages/langchain/agents/agent.py\u001b[0m in \u001b[0;36m_atake_next_step\u001b[0;34m(self, name_to_tool_map, color_mapping, inputs, intermediate_steps, run_manager)\u001b[0m\n\u001b[1;32m   1274\u001b[0m     ) -> Union[AgentFinish, List[Tuple[AgentAction, str]]]:\n\u001b[1;32m   1275\u001b[0m         return self._consume_next_step(\n\u001b[0;32m-> 1276\u001b[0;31m             [\n\u001b[0m\u001b[1;32m   1277\u001b[0m                 \u001b[0ma\u001b[0m\u001b[0;34m\u001b[0m\u001b[0;34m\u001b[0m\u001b[0m\n\u001b[1;32m   1278\u001b[0m                 async for a in self._aiter_next_step(\n",
            "\u001b[0;32m/usr/local/lib/python3.10/dist-packages/langchain/agents/agent.py\u001b[0m in \u001b[0;36m<listcomp>\u001b[0;34m(.0)\u001b[0m\n\u001b[1;32m   1274\u001b[0m     ) -> Union[AgentFinish, List[Tuple[AgentAction, str]]]:\n\u001b[1;32m   1275\u001b[0m         return self._consume_next_step(\n\u001b[0;32m-> 1276\u001b[0;31m             [\n\u001b[0m\u001b[1;32m   1277\u001b[0m                 \u001b[0ma\u001b[0m\u001b[0;34m\u001b[0m\u001b[0;34m\u001b[0m\u001b[0m\n\u001b[1;32m   1278\u001b[0m                 async for a in self._aiter_next_step(\n",
            "\u001b[0;32m/usr/local/lib/python3.10/dist-packages/langchain/agents/agent.py\u001b[0m in \u001b[0;36m_aiter_next_step\u001b[0;34m(self, name_to_tool_map, color_mapping, inputs, intermediate_steps, run_manager)\u001b[0m\n\u001b[1;32m   1302\u001b[0m \u001b[0;34m\u001b[0m\u001b[0m\n\u001b[1;32m   1303\u001b[0m             \u001b[0;31m# Call the LLM to see what to do.\u001b[0m\u001b[0;34m\u001b[0m\u001b[0;34m\u001b[0m\u001b[0m\n\u001b[0;32m-> 1304\u001b[0;31m             output = await self.agent.aplan(\n\u001b[0m\u001b[1;32m   1305\u001b[0m                 \u001b[0mintermediate_steps\u001b[0m\u001b[0;34m,\u001b[0m\u001b[0;34m\u001b[0m\u001b[0;34m\u001b[0m\u001b[0m\n\u001b[1;32m   1306\u001b[0m                 \u001b[0mcallbacks\u001b[0m\u001b[0;34m=\u001b[0m\u001b[0mrun_manager\u001b[0m\u001b[0;34m.\u001b[0m\u001b[0mget_child\u001b[0m\u001b[0;34m(\u001b[0m\u001b[0;34m)\u001b[0m \u001b[0;32mif\u001b[0m \u001b[0mrun_manager\u001b[0m \u001b[0;32melse\u001b[0m \u001b[0;32mNone\u001b[0m\u001b[0;34m,\u001b[0m\u001b[0;34m\u001b[0m\u001b[0;34m\u001b[0m\u001b[0m\n",
            "\u001b[0;32m/usr/local/lib/python3.10/dist-packages/langchain/agents/agent.py\u001b[0m in \u001b[0;36maplan\u001b[0;34m(self, intermediate_steps, callbacks, **kwargs)\u001b[0m\n\u001b[1;32m    552\u001b[0m             \u001b[0;31m# Because the response from the plan is not a generator, we need to\u001b[0m\u001b[0;34m\u001b[0m\u001b[0;34m\u001b[0m\u001b[0m\n\u001b[1;32m    553\u001b[0m             \u001b[0;31m# accumulate the output into final output and return that.\u001b[0m\u001b[0;34m\u001b[0m\u001b[0;34m\u001b[0m\u001b[0m\n\u001b[0;32m--> 554\u001b[0;31m             async for chunk in self.runnable.astream(\n\u001b[0m\u001b[1;32m    555\u001b[0m                 \u001b[0minputs\u001b[0m\u001b[0;34m,\u001b[0m \u001b[0mconfig\u001b[0m\u001b[0;34m=\u001b[0m\u001b[0;34m{\u001b[0m\u001b[0;34m\"callbacks\"\u001b[0m\u001b[0;34m:\u001b[0m \u001b[0mcallbacks\u001b[0m\u001b[0;34m}\u001b[0m\u001b[0;34m\u001b[0m\u001b[0;34m\u001b[0m\u001b[0m\n\u001b[1;32m    556\u001b[0m             ):\n",
            "\u001b[0;32m/usr/local/lib/python3.10/dist-packages/langchain_core/runnables/base.py\u001b[0m in \u001b[0;36mastream\u001b[0;34m(self, input, config, **kwargs)\u001b[0m\n\u001b[1;32m   2798\u001b[0m             \u001b[0;32myield\u001b[0m \u001b[0minput\u001b[0m\u001b[0;34m\u001b[0m\u001b[0;34m\u001b[0m\u001b[0m\n\u001b[1;32m   2799\u001b[0m \u001b[0;34m\u001b[0m\u001b[0m\n\u001b[0;32m-> 2800\u001b[0;31m         \u001b[0;32masync\u001b[0m \u001b[0;32mfor\u001b[0m \u001b[0mchunk\u001b[0m \u001b[0;32min\u001b[0m \u001b[0mself\u001b[0m\u001b[0;34m.\u001b[0m\u001b[0matransform\u001b[0m\u001b[0;34m(\u001b[0m\u001b[0minput_aiter\u001b[0m\u001b[0;34m(\u001b[0m\u001b[0;34m)\u001b[0m\u001b[0;34m,\u001b[0m \u001b[0mconfig\u001b[0m\u001b[0;34m,\u001b[0m \u001b[0;34m**\u001b[0m\u001b[0mkwargs\u001b[0m\u001b[0;34m)\u001b[0m\u001b[0;34m:\u001b[0m\u001b[0;34m\u001b[0m\u001b[0;34m\u001b[0m\u001b[0m\n\u001b[0m\u001b[1;32m   2801\u001b[0m             \u001b[0;32myield\u001b[0m \u001b[0mchunk\u001b[0m\u001b[0;34m\u001b[0m\u001b[0;34m\u001b[0m\u001b[0m\n\u001b[1;32m   2802\u001b[0m \u001b[0;34m\u001b[0m\u001b[0m\n",
            "\u001b[0;32m/usr/local/lib/python3.10/dist-packages/langchain_core/runnables/base.py\u001b[0m in \u001b[0;36matransform\u001b[0;34m(self, input, config, **kwargs)\u001b[0m\n\u001b[1;32m   2781\u001b[0m         \u001b[0;34m**\u001b[0m\u001b[0mkwargs\u001b[0m\u001b[0;34m:\u001b[0m \u001b[0mOptional\u001b[0m\u001b[0;34m[\u001b[0m\u001b[0mAny\u001b[0m\u001b[0;34m]\u001b[0m\u001b[0;34m,\u001b[0m\u001b[0;34m\u001b[0m\u001b[0;34m\u001b[0m\u001b[0m\n\u001b[1;32m   2782\u001b[0m     ) -> AsyncIterator[Output]:\n\u001b[0;32m-> 2783\u001b[0;31m         async for chunk in self._atransform_stream_with_config(\n\u001b[0m\u001b[1;32m   2784\u001b[0m             \u001b[0minput\u001b[0m\u001b[0;34m,\u001b[0m\u001b[0;34m\u001b[0m\u001b[0;34m\u001b[0m\u001b[0m\n\u001b[1;32m   2785\u001b[0m             \u001b[0mself\u001b[0m\u001b[0;34m.\u001b[0m\u001b[0m_atransform\u001b[0m\u001b[0;34m,\u001b[0m\u001b[0;34m\u001b[0m\u001b[0;34m\u001b[0m\u001b[0m\n",
            "\u001b[0;32m/usr/local/lib/python3.10/dist-packages/langchain_core/runnables/base.py\u001b[0m in \u001b[0;36m_atransform_stream_with_config\u001b[0;34m(self, input, transformer, config, run_type, **kwargs)\u001b[0m\n\u001b[1;32m   1883\u001b[0m                         )\n\u001b[1;32m   1884\u001b[0m                     \u001b[0;32melse\u001b[0m\u001b[0;34m:\u001b[0m\u001b[0;34m\u001b[0m\u001b[0;34m\u001b[0m\u001b[0m\n\u001b[0;32m-> 1885\u001b[0;31m                         \u001b[0mchunk\u001b[0m \u001b[0;34m=\u001b[0m \u001b[0mcast\u001b[0m\u001b[0;34m(\u001b[0m\u001b[0mOutput\u001b[0m\u001b[0;34m,\u001b[0m \u001b[0;32mawait\u001b[0m \u001b[0mpy_anext\u001b[0m\u001b[0;34m(\u001b[0m\u001b[0miterator\u001b[0m\u001b[0;34m)\u001b[0m\u001b[0;34m)\u001b[0m\u001b[0;34m\u001b[0m\u001b[0;34m\u001b[0m\u001b[0m\n\u001b[0m\u001b[1;32m   1886\u001b[0m                     \u001b[0;32myield\u001b[0m \u001b[0mchunk\u001b[0m\u001b[0;34m\u001b[0m\u001b[0;34m\u001b[0m\u001b[0m\n\u001b[1;32m   1887\u001b[0m                     \u001b[0;32mif\u001b[0m \u001b[0mfinal_output_supported\u001b[0m\u001b[0;34m:\u001b[0m\u001b[0;34m\u001b[0m\u001b[0;34m\u001b[0m\u001b[0m\n",
            "\u001b[0;32m/usr/local/lib/python3.10/dist-packages/langchain_core/runnables/base.py\u001b[0m in \u001b[0;36m_atransform\u001b[0;34m(self, input, run_manager, config)\u001b[0m\n\u001b[1;32m   2751\u001b[0m                 ),\n\u001b[1;32m   2752\u001b[0m             )\n\u001b[0;32m-> 2753\u001b[0;31m         \u001b[0;32masync\u001b[0m \u001b[0;32mfor\u001b[0m \u001b[0moutput\u001b[0m \u001b[0;32min\u001b[0m \u001b[0mfinal_pipeline\u001b[0m\u001b[0;34m:\u001b[0m\u001b[0;34m\u001b[0m\u001b[0;34m\u001b[0m\u001b[0m\n\u001b[0m\u001b[1;32m   2754\u001b[0m             \u001b[0;32myield\u001b[0m \u001b[0moutput\u001b[0m\u001b[0;34m\u001b[0m\u001b[0;34m\u001b[0m\u001b[0m\n\u001b[1;32m   2755\u001b[0m \u001b[0;34m\u001b[0m\u001b[0m\n",
            "\u001b[0;32m/usr/local/lib/python3.10/dist-packages/langchain_core/runnables/base.py\u001b[0m in \u001b[0;36matransform\u001b[0;34m(self, input, config, **kwargs)\u001b[0m\n\u001b[1;32m   1186\u001b[0m         \u001b[0mgot_first_val\u001b[0m \u001b[0;34m=\u001b[0m \u001b[0;32mFalse\u001b[0m\u001b[0;34m\u001b[0m\u001b[0;34m\u001b[0m\u001b[0m\n\u001b[1;32m   1187\u001b[0m \u001b[0;34m\u001b[0m\u001b[0m\n\u001b[0;32m-> 1188\u001b[0;31m         \u001b[0;32masync\u001b[0m \u001b[0;32mfor\u001b[0m \u001b[0michunk\u001b[0m \u001b[0;32min\u001b[0m \u001b[0minput\u001b[0m\u001b[0;34m:\u001b[0m\u001b[0;34m\u001b[0m\u001b[0;34m\u001b[0m\u001b[0m\n\u001b[0m\u001b[1;32m   1189\u001b[0m             \u001b[0;31m# The default implementation of transform is to buffer input and\u001b[0m\u001b[0;34m\u001b[0m\u001b[0;34m\u001b[0m\u001b[0m\n\u001b[1;32m   1190\u001b[0m             \u001b[0;31m# then call stream.\u001b[0m\u001b[0;34m\u001b[0m\u001b[0;34m\u001b[0m\u001b[0m\n",
            "\u001b[0;32m/usr/local/lib/python3.10/dist-packages/langchain_core/runnables/base.py\u001b[0m in \u001b[0;36matransform\u001b[0;34m(self, input, config, **kwargs)\u001b[0m\n\u001b[1;32m   4654\u001b[0m         \u001b[0;34m**\u001b[0m\u001b[0mkwargs\u001b[0m\u001b[0;34m:\u001b[0m \u001b[0mAny\u001b[0m\u001b[0;34m,\u001b[0m\u001b[0;34m\u001b[0m\u001b[0;34m\u001b[0m\u001b[0m\n\u001b[1;32m   4655\u001b[0m     ) -> AsyncIterator[Output]:\n\u001b[0;32m-> 4656\u001b[0;31m         async for item in self.bound.atransform(\n\u001b[0m\u001b[1;32m   4657\u001b[0m             \u001b[0minput\u001b[0m\u001b[0;34m,\u001b[0m\u001b[0;34m\u001b[0m\u001b[0;34m\u001b[0m\u001b[0m\n\u001b[1;32m   4658\u001b[0m             \u001b[0mself\u001b[0m\u001b[0;34m.\u001b[0m\u001b[0m_merge_configs\u001b[0m\u001b[0;34m(\u001b[0m\u001b[0mconfig\u001b[0m\u001b[0;34m)\u001b[0m\u001b[0;34m,\u001b[0m\u001b[0;34m\u001b[0m\u001b[0;34m\u001b[0m\u001b[0m\n",
            "\u001b[0;32m/usr/local/lib/python3.10/dist-packages/langchain_core/runnables/base.py\u001b[0m in \u001b[0;36matransform\u001b[0;34m(self, input, config, **kwargs)\u001b[0m\n\u001b[1;32m   1204\u001b[0m \u001b[0;34m\u001b[0m\u001b[0m\n\u001b[1;32m   1205\u001b[0m         \u001b[0;32mif\u001b[0m \u001b[0mgot_first_val\u001b[0m\u001b[0;34m:\u001b[0m\u001b[0;34m\u001b[0m\u001b[0;34m\u001b[0m\u001b[0m\n\u001b[0;32m-> 1206\u001b[0;31m             \u001b[0;32masync\u001b[0m \u001b[0;32mfor\u001b[0m \u001b[0moutput\u001b[0m \u001b[0;32min\u001b[0m \u001b[0mself\u001b[0m\u001b[0;34m.\u001b[0m\u001b[0mastream\u001b[0m\u001b[0;34m(\u001b[0m\u001b[0mfinal\u001b[0m\u001b[0;34m,\u001b[0m \u001b[0mconfig\u001b[0m\u001b[0;34m,\u001b[0m \u001b[0;34m**\u001b[0m\u001b[0mkwargs\u001b[0m\u001b[0;34m)\u001b[0m\u001b[0;34m:\u001b[0m\u001b[0;34m\u001b[0m\u001b[0;34m\u001b[0m\u001b[0m\n\u001b[0m\u001b[1;32m   1207\u001b[0m                 \u001b[0;32myield\u001b[0m \u001b[0moutput\u001b[0m\u001b[0;34m\u001b[0m\u001b[0;34m\u001b[0m\u001b[0m\n\u001b[1;32m   1208\u001b[0m \u001b[0;34m\u001b[0m\u001b[0m\n",
            "\u001b[0;32m/usr/local/lib/python3.10/dist-packages/langchain_core/language_models/chat_models.py\u001b[0m in \u001b[0;36mastream\u001b[0;34m(self, input, config, stop, **kwargs)\u001b[0m\n\u001b[1;32m    337\u001b[0m                 \u001b[0mresponse\u001b[0m\u001b[0;34m=\u001b[0m\u001b[0mLLMResult\u001b[0m\u001b[0;34m(\u001b[0m\u001b[0mgenerations\u001b[0m\u001b[0;34m=\u001b[0m\u001b[0;34m[\u001b[0m\u001b[0;34m[\u001b[0m\u001b[0mgeneration\u001b[0m\u001b[0;34m]\u001b[0m\u001b[0;34m]\u001b[0m \u001b[0;32mif\u001b[0m \u001b[0mgeneration\u001b[0m \u001b[0;32melse\u001b[0m \u001b[0;34m[\u001b[0m\u001b[0;34m]\u001b[0m\u001b[0;34m)\u001b[0m\u001b[0;34m,\u001b[0m\u001b[0;34m\u001b[0m\u001b[0;34m\u001b[0m\u001b[0m\n\u001b[1;32m    338\u001b[0m             )\n\u001b[0;32m--> 339\u001b[0;31m             \u001b[0;32mraise\u001b[0m \u001b[0me\u001b[0m\u001b[0;34m\u001b[0m\u001b[0;34m\u001b[0m\u001b[0m\n\u001b[0m\u001b[1;32m    340\u001b[0m         \u001b[0;32melse\u001b[0m\u001b[0;34m:\u001b[0m\u001b[0;34m\u001b[0m\u001b[0;34m\u001b[0m\u001b[0m\n\u001b[1;32m    341\u001b[0m             await run_manager.on_llm_end(\n",
            "\u001b[0;32m/usr/local/lib/python3.10/dist-packages/langchain_core/language_models/chat_models.py\u001b[0m in \u001b[0;36mastream\u001b[0;34m(self, input, config, stop, **kwargs)\u001b[0m\n\u001b[1;32m    315\u001b[0m         \u001b[0mgeneration\u001b[0m\u001b[0;34m:\u001b[0m \u001b[0mOptional\u001b[0m\u001b[0;34m[\u001b[0m\u001b[0mChatGenerationChunk\u001b[0m\u001b[0;34m]\u001b[0m \u001b[0;34m=\u001b[0m \u001b[0;32mNone\u001b[0m\u001b[0;34m\u001b[0m\u001b[0;34m\u001b[0m\u001b[0m\n\u001b[1;32m    316\u001b[0m         \u001b[0;32mtry\u001b[0m\u001b[0;34m:\u001b[0m\u001b[0;34m\u001b[0m\u001b[0;34m\u001b[0m\u001b[0m\n\u001b[0;32m--> 317\u001b[0;31m             async for chunk in self._astream(\n\u001b[0m\u001b[1;32m    318\u001b[0m                 \u001b[0mmessages\u001b[0m\u001b[0;34m,\u001b[0m\u001b[0;34m\u001b[0m\u001b[0;34m\u001b[0m\u001b[0m\n\u001b[1;32m    319\u001b[0m                 \u001b[0mstop\u001b[0m\u001b[0;34m=\u001b[0m\u001b[0mstop\u001b[0m\u001b[0;34m,\u001b[0m\u001b[0;34m\u001b[0m\u001b[0;34m\u001b[0m\u001b[0m\n",
            "\u001b[0;32m/usr/local/lib/python3.10/dist-packages/langchain_groq/chat_models.py\u001b[0m in \u001b[0;36m_astream\u001b[0;34m(self, messages, stop, run_manager, **kwargs)\u001b[0m\n\u001b[1;32m    354\u001b[0m                 \u001b[0mmessages\u001b[0m\u001b[0;34m=\u001b[0m\u001b[0mmessage_dicts\u001b[0m\u001b[0;34m,\u001b[0m \u001b[0;34m**\u001b[0m\u001b[0;34m{\u001b[0m\u001b[0;34m**\u001b[0m\u001b[0mparams\u001b[0m\u001b[0;34m,\u001b[0m \u001b[0;34m**\u001b[0m\u001b[0mkwargs\u001b[0m\u001b[0;34m}\u001b[0m\u001b[0;34m\u001b[0m\u001b[0;34m\u001b[0m\u001b[0m\n\u001b[1;32m    355\u001b[0m             )\n\u001b[0;32m--> 356\u001b[0;31m             \u001b[0mchat_result\u001b[0m \u001b[0;34m=\u001b[0m \u001b[0mself\u001b[0m\u001b[0;34m.\u001b[0m\u001b[0m_create_chat_result\u001b[0m\u001b[0;34m(\u001b[0m\u001b[0mresponse\u001b[0m\u001b[0;34m)\u001b[0m\u001b[0;34m\u001b[0m\u001b[0;34m\u001b[0m\u001b[0m\n\u001b[0m\u001b[1;32m    357\u001b[0m             \u001b[0mgeneration\u001b[0m \u001b[0;34m=\u001b[0m \u001b[0mchat_result\u001b[0m\u001b[0;34m.\u001b[0m\u001b[0mgenerations\u001b[0m\u001b[0;34m[\u001b[0m\u001b[0;36m0\u001b[0m\u001b[0;34m]\u001b[0m\u001b[0;34m\u001b[0m\u001b[0;34m\u001b[0m\u001b[0m\n\u001b[1;32m    358\u001b[0m             \u001b[0mmessage\u001b[0m \u001b[0;34m=\u001b[0m \u001b[0mgeneration\u001b[0m\u001b[0;34m.\u001b[0m\u001b[0mmessage\u001b[0m\u001b[0;34m\u001b[0m\u001b[0;34m\u001b[0m\u001b[0m\n",
            "\u001b[0;32m/usr/local/lib/python3.10/dist-packages/langchain_groq/chat_models.py\u001b[0m in \u001b[0;36m_create_chat_result\u001b[0;34m(self, response)\u001b[0m\n\u001b[1;32m    435\u001b[0m         \u001b[0mgenerations\u001b[0m \u001b[0;34m=\u001b[0m \u001b[0;34m[\u001b[0m\u001b[0;34m]\u001b[0m\u001b[0;34m\u001b[0m\u001b[0;34m\u001b[0m\u001b[0m\n\u001b[1;32m    436\u001b[0m         \u001b[0;32mif\u001b[0m \u001b[0;32mnot\u001b[0m \u001b[0misinstance\u001b[0m\u001b[0;34m(\u001b[0m\u001b[0mresponse\u001b[0m\u001b[0;34m,\u001b[0m \u001b[0mdict\u001b[0m\u001b[0;34m)\u001b[0m\u001b[0;34m:\u001b[0m\u001b[0;34m\u001b[0m\u001b[0;34m\u001b[0m\u001b[0m\n\u001b[0;32m--> 437\u001b[0;31m             \u001b[0mresponse\u001b[0m \u001b[0;34m=\u001b[0m \u001b[0mresponse\u001b[0m\u001b[0;34m.\u001b[0m\u001b[0mdict\u001b[0m\u001b[0;34m(\u001b[0m\u001b[0;34m)\u001b[0m\u001b[0;34m\u001b[0m\u001b[0;34m\u001b[0m\u001b[0m\n\u001b[0m\u001b[1;32m    438\u001b[0m         \u001b[0;32mfor\u001b[0m \u001b[0mres\u001b[0m \u001b[0;32min\u001b[0m \u001b[0mresponse\u001b[0m\u001b[0;34m[\u001b[0m\u001b[0;34m\"choices\"\u001b[0m\u001b[0;34m]\u001b[0m\u001b[0;34m:\u001b[0m\u001b[0;34m\u001b[0m\u001b[0;34m\u001b[0m\u001b[0m\n\u001b[1;32m    439\u001b[0m             \u001b[0mmessage\u001b[0m \u001b[0;34m=\u001b[0m \u001b[0m_convert_dict_to_message\u001b[0m\u001b[0;34m(\u001b[0m\u001b[0mres\u001b[0m\u001b[0;34m[\u001b[0m\u001b[0;34m\"message\"\u001b[0m\u001b[0;34m]\u001b[0m\u001b[0;34m)\u001b[0m\u001b[0;34m\u001b[0m\u001b[0;34m\u001b[0m\u001b[0m\n",
            "\u001b[0;31mAttributeError\u001b[0m: 'AsyncStream' object has no attribute 'dict'"
          ]
        }
      ]
    },
    {
      "cell_type": "code",
      "source": [
        "!pip install yahooquery"
      ],
      "metadata": {
        "colab": {
          "base_uri": "https://localhost:8080/"
        },
        "id": "c4cMdRz408gT",
        "outputId": "c49ae79b-1d39-45f3-af64-b09b6c9c0235"
      },
      "execution_count": null,
      "outputs": [
        {
          "output_type": "stream",
          "name": "stdout",
          "text": [
            "Collecting yahooquery\n",
            "  Downloading yahooquery-2.3.7-py3-none-any.whl (52 kB)\n",
            "\u001b[?25l     \u001b[90m━━━━━━━━━━━━━━━━━━━━━━━━━━━━━━━━━━━━━━━━\u001b[0m \u001b[32m0.0/52.7 kB\u001b[0m \u001b[31m?\u001b[0m eta \u001b[36m-:--:--\u001b[0m\r\u001b[2K     \u001b[90m━━━━━━━━━━━━━━━━━━━━━━━━━━━━━━━━━━━━━━━━\u001b[0m \u001b[32m52.7/52.7 kB\u001b[0m \u001b[31m2.2 MB/s\u001b[0m eta \u001b[36m0:00:00\u001b[0m\n",
            "\u001b[?25hRequirement already satisfied: beautifulsoup4<5.0.0,>=4.12.2 in /usr/local/lib/python3.10/dist-packages (from yahooquery) (4.12.3)\n",
            "Requirement already satisfied: lxml<5.0.0,>=4.9.3 in /usr/local/lib/python3.10/dist-packages (from yahooquery) (4.9.4)\n",
            "Requirement already satisfied: pandas<3.0.0,>=2.0.3 in /usr/local/lib/python3.10/dist-packages (from yahooquery) (2.0.3)\n",
            "Requirement already satisfied: requests<3.0.0,>=2.31.0 in /usr/local/lib/python3.10/dist-packages (from yahooquery) (2.31.0)\n",
            "Collecting requests-futures<2.0.0,>=1.0.1 (from yahooquery)\n",
            "  Downloading requests_futures-1.0.1-py2.py3-none-any.whl (7.6 kB)\n",
            "Requirement already satisfied: tqdm<5.0.0,>=4.65.0 in /usr/local/lib/python3.10/dist-packages (from yahooquery) (4.66.4)\n",
            "Requirement already satisfied: soupsieve>1.2 in /usr/local/lib/python3.10/dist-packages (from beautifulsoup4<5.0.0,>=4.12.2->yahooquery) (2.5)\n",
            "Requirement already satisfied: python-dateutil>=2.8.2 in /usr/local/lib/python3.10/dist-packages (from pandas<3.0.0,>=2.0.3->yahooquery) (2.8.2)\n",
            "Requirement already satisfied: pytz>=2020.1 in /usr/local/lib/python3.10/dist-packages (from pandas<3.0.0,>=2.0.3->yahooquery) (2023.4)\n",
            "Requirement already satisfied: tzdata>=2022.1 in /usr/local/lib/python3.10/dist-packages (from pandas<3.0.0,>=2.0.3->yahooquery) (2024.1)\n",
            "Requirement already satisfied: numpy>=1.21.0 in /usr/local/lib/python3.10/dist-packages (from pandas<3.0.0,>=2.0.3->yahooquery) (1.25.2)\n",
            "Requirement already satisfied: charset-normalizer<4,>=2 in /usr/local/lib/python3.10/dist-packages (from requests<3.0.0,>=2.31.0->yahooquery) (3.3.2)\n",
            "Requirement already satisfied: idna<4,>=2.5 in /usr/local/lib/python3.10/dist-packages (from requests<3.0.0,>=2.31.0->yahooquery) (3.7)\n",
            "Requirement already satisfied: urllib3<3,>=1.21.1 in /usr/local/lib/python3.10/dist-packages (from requests<3.0.0,>=2.31.0->yahooquery) (2.0.7)\n",
            "Requirement already satisfied: certifi>=2017.4.17 in /usr/local/lib/python3.10/dist-packages (from requests<3.0.0,>=2.31.0->yahooquery) (2024.2.2)\n",
            "Requirement already satisfied: six>=1.5 in /usr/local/lib/python3.10/dist-packages (from python-dateutil>=2.8.2->pandas<3.0.0,>=2.0.3->yahooquery) (1.16.0)\n",
            "Installing collected packages: requests-futures, yahooquery\n",
            "Successfully installed requests-futures-1.0.1 yahooquery-2.3.7\n"
          ]
        }
      ]
    },
    {
      "cell_type": "code",
      "source": [
        "from yahooquery import Ticker"
      ],
      "metadata": {
        "id": "yWaxmXgG04gH"
      },
      "execution_count": null,
      "outputs": []
    },
    {
      "cell_type": "code",
      "source": [
        "def get_fin_statements(symbol):\n",
        "    df = Ticker(symbol)\n",
        "    df1 = df.income_statement().reset_index(drop=True).transpose()\n",
        "    df2 = df.balance_sheet().reset_index(drop=True).transpose()\n",
        "    df3 = df.cash_flow().reset_index(drop=True).transpose()\n",
        "    return df1, df2, df3"
      ],
      "metadata": {
        "id": "9pEV9tytixxc"
      },
      "execution_count": null,
      "outputs": []
    },
    {
      "cell_type": "code",
      "source": [
        "income_stmt, balance_sheet, cash_flow = get_fin_statements('TSLA')"
      ],
      "metadata": {
        "id": "x1foAqwl0_Af"
      },
      "execution_count": null,
      "outputs": []
    },
    {
      "cell_type": "code",
      "source": [
        "income_stmt.to_csv('income_stmt.csv')\n",
        "\n",
        "\n",
        "balance_sheet.to_csv('balance_sheet.csv')\n",
        "\n",
        "\n",
        "cash_flow.to_csv('cash_flow.csv')"
      ],
      "metadata": {
        "id": "ZfyoEGF91aMQ"
      },
      "execution_count": null,
      "outputs": []
    },
    {
      "cell_type": "code",
      "source": [
        "!pip install -q langchain langchain-community"
      ],
      "metadata": {
        "colab": {
          "base_uri": "https://localhost:8080/"
        },
        "id": "SgTQwmX01kCa",
        "outputId": "05f64ed4-3f57-46bd-d763-aae0d341fbc1"
      },
      "execution_count": null,
      "outputs": [
        {
          "output_type": "stream",
          "name": "stdout",
          "text": [
            "\u001b[2K     \u001b[90m━━━━━━━━━━━━━━━━━━━━━━━━━━━━━━━━━━━━━━━━\u001b[0m \u001b[32m973.5/973.5 kB\u001b[0m \u001b[31m7.2 MB/s\u001b[0m eta \u001b[36m0:00:00\u001b[0m\n",
            "\u001b[2K     \u001b[90m━━━━━━━━━━━━━━━━━━━━━━━━━━━━━━━━━━━━━━━━\u001b[0m \u001b[32m2.1/2.1 MB\u001b[0m \u001b[31m14.8 MB/s\u001b[0m eta \u001b[36m0:00:00\u001b[0m\n",
            "\u001b[2K     \u001b[90m━━━━━━━━━━━━━━━━━━━━━━━━━━━━━━━━━━━━━━━━\u001b[0m \u001b[32m310.2/310.2 kB\u001b[0m \u001b[31m15.3 MB/s\u001b[0m eta \u001b[36m0:00:00\u001b[0m\n",
            "\u001b[2K     \u001b[90m━━━━━━━━━━━━━━━━━━━━━━━━━━━━━━━━━━━━━━━━\u001b[0m \u001b[32m124.3/124.3 kB\u001b[0m \u001b[31m12.2 MB/s\u001b[0m eta \u001b[36m0:00:00\u001b[0m\n",
            "\u001b[2K     \u001b[90m━━━━━━━━━━━━━━━━━━━━━━━━━━━━━━━━━━━━━━━━\u001b[0m \u001b[32m49.3/49.3 kB\u001b[0m \u001b[31m5.8 MB/s\u001b[0m eta \u001b[36m0:00:00\u001b[0m\n",
            "\u001b[2K     \u001b[90m━━━━━━━━━━━━━━━━━━━━━━━━━━━━━━━━━━━━━━━━\u001b[0m \u001b[32m53.0/53.0 kB\u001b[0m \u001b[31m5.6 MB/s\u001b[0m eta \u001b[36m0:00:00\u001b[0m\n",
            "\u001b[2K     \u001b[90m━━━━━━━━━━━━━━━━━━━━━━━━━━━━━━━━━━━━━━━━\u001b[0m \u001b[32m142.5/142.5 kB\u001b[0m \u001b[31m15.4 MB/s\u001b[0m eta \u001b[36m0:00:00\u001b[0m\n",
            "\u001b[?25h"
          ]
        }
      ]
    },
    {
      "cell_type": "code",
      "source": [
        "from langchain_community.document_loaders.csv_loader import CSVLoader"
      ],
      "metadata": {
        "id": "i1iSbQNm1shN"
      },
      "execution_count": null,
      "outputs": []
    },
    {
      "cell_type": "code",
      "source": [
        "!pip install unstructured"
      ],
      "metadata": {
        "colab": {
          "base_uri": "https://localhost:8080/"
        },
        "id": "NiEtgQiR2APd",
        "outputId": "c46a5b8e-37c7-45a5-dc45-fef620ae4d1a"
      },
      "execution_count": null,
      "outputs": [
        {
          "output_type": "stream",
          "name": "stdout",
          "text": [
            "Collecting unstructured\n",
            "  Downloading unstructured-0.14.3-py3-none-any.whl (2.0 MB)\n",
            "\u001b[?25l     \u001b[90m━━━━━━━━━━━━━━━━━━━━━━━━━━━━━━━━━━━━━━━━\u001b[0m \u001b[32m0.0/2.0 MB\u001b[0m \u001b[31m?\u001b[0m eta \u001b[36m-:--:--\u001b[0m\r\u001b[2K     \u001b[91m━━━━\u001b[0m\u001b[91m╸\u001b[0m\u001b[90m━━━━━━━━━━━━━━━━━━━━━━━━━━━━━━━━━━━\u001b[0m \u001b[32m0.2/2.0 MB\u001b[0m \u001b[31m6.6 MB/s\u001b[0m eta \u001b[36m0:00:01\u001b[0m\r\u001b[2K     \u001b[91m━━━━━━━━━━━━━\u001b[0m\u001b[90m╺\u001b[0m\u001b[90m━━━━━━━━━━━━━━━━━━━━━━━━━━\u001b[0m \u001b[32m0.7/2.0 MB\u001b[0m \u001b[31m9.3 MB/s\u001b[0m eta \u001b[36m0:00:01\u001b[0m\r\u001b[2K     \u001b[91m━━━━━━━━━━━━━━━━━━━━━━\u001b[0m\u001b[90m╺\u001b[0m\u001b[90m━━━━━━━━━━━━━━━━━\u001b[0m \u001b[32m1.1/2.0 MB\u001b[0m \u001b[31m10.7 MB/s\u001b[0m eta \u001b[36m0:00:01\u001b[0m\r\u001b[2K     \u001b[91m━━━━━━━━━━━━━━━━━━━━━━━━━━━━━━━━━━\u001b[0m\u001b[91m╸\u001b[0m\u001b[90m━━━━━\u001b[0m \u001b[32m1.7/2.0 MB\u001b[0m \u001b[31m12.1 MB/s\u001b[0m eta \u001b[36m0:00:01\u001b[0m\r\u001b[2K     \u001b[90m━━━━━━━━━━━━━━━━━━━━━━━━━━━━━━━━━━━━━━━━\u001b[0m \u001b[32m2.0/2.0 MB\u001b[0m \u001b[31m11.2 MB/s\u001b[0m eta \u001b[36m0:00:00\u001b[0m\n",
            "\u001b[?25hRequirement already satisfied: chardet in /usr/local/lib/python3.10/dist-packages (from unstructured) (5.2.0)\n",
            "Collecting filetype (from unstructured)\n",
            "  Downloading filetype-1.2.0-py2.py3-none-any.whl (19 kB)\n",
            "Collecting python-magic (from unstructured)\n",
            "  Downloading python_magic-0.4.27-py2.py3-none-any.whl (13 kB)\n",
            "Requirement already satisfied: lxml in /usr/local/lib/python3.10/dist-packages (from unstructured) (4.9.4)\n",
            "Requirement already satisfied: nltk in /usr/local/lib/python3.10/dist-packages (from unstructured) (3.8.1)\n",
            "Requirement already satisfied: tabulate in /usr/local/lib/python3.10/dist-packages (from unstructured) (0.9.0)\n",
            "Requirement already satisfied: requests in /usr/local/lib/python3.10/dist-packages (from unstructured) (2.31.0)\n",
            "Requirement already satisfied: beautifulsoup4 in /usr/local/lib/python3.10/dist-packages (from unstructured) (4.12.3)\n",
            "Collecting emoji (from unstructured)\n",
            "  Downloading emoji-2.12.1-py3-none-any.whl (431 kB)\n",
            "\u001b[?25l     \u001b[90m━━━━━━━━━━━━━━━━━━━━━━━━━━━━━━━━━━━━━━━━\u001b[0m \u001b[32m0.0/431.4 kB\u001b[0m \u001b[31m?\u001b[0m eta \u001b[36m-:--:--\u001b[0m\r\u001b[2K     \u001b[90m━━━━━━━━━━━━━━━━━━━━━━━━━━━━━━━━━━━━━━━━\u001b[0m \u001b[32m431.4/431.4 kB\u001b[0m \u001b[31m15.9 MB/s\u001b[0m eta \u001b[36m0:00:00\u001b[0m\n",
            "\u001b[?25hRequirement already satisfied: dataclasses-json in /usr/local/lib/python3.10/dist-packages (from unstructured) (0.6.6)\n",
            "Collecting python-iso639 (from unstructured)\n",
            "  Downloading python_iso639-2024.4.27-py3-none-any.whl (274 kB)\n",
            "\u001b[?25l     \u001b[90m━━━━━━━━━━━━━━━━━━━━━━━━━━━━━━━━━━━━━━━━\u001b[0m \u001b[32m0.0/274.7 kB\u001b[0m \u001b[31m?\u001b[0m eta \u001b[36m-:--:--\u001b[0m\r\u001b[2K     \u001b[90m━━━━━━━━━━━━━━━━━━━━━━━━━━━━━━━━━━━━━━━━\u001b[0m \u001b[32m274.7/274.7 kB\u001b[0m \u001b[31m15.6 MB/s\u001b[0m eta \u001b[36m0:00:00\u001b[0m\n",
            "\u001b[?25hCollecting langdetect (from unstructured)\n",
            "  Downloading langdetect-1.0.9.tar.gz (981 kB)\n",
            "\u001b[?25l     \u001b[90m━━━━━━━━━━━━━━━━━━━━━━━━━━━━━━━━━━━━━━━━\u001b[0m \u001b[32m0.0/981.5 kB\u001b[0m \u001b[31m?\u001b[0m eta \u001b[36m-:--:--\u001b[0m\r\u001b[2K     \u001b[91m━━━━━━━━━━━━━━━━━━━━━━━━━━━━━━━━━━━━━━━\u001b[0m\u001b[91m╸\u001b[0m \u001b[32m972.8/981.5 kB\u001b[0m \u001b[31m30.4 MB/s\u001b[0m eta \u001b[36m0:00:01\u001b[0m\r\u001b[2K     \u001b[90m━━━━━━━━━━━━━━━━━━━━━━━━━━━━━━━━━━━━━━━━\u001b[0m \u001b[32m981.5/981.5 kB\u001b[0m \u001b[31m19.5 MB/s\u001b[0m eta \u001b[36m0:00:00\u001b[0m\n",
            "\u001b[?25h  Preparing metadata (setup.py) ... \u001b[?25l\u001b[?25hdone\n",
            "Requirement already satisfied: numpy in /usr/local/lib/python3.10/dist-packages (from unstructured) (1.25.2)\n",
            "Collecting rapidfuzz (from unstructured)\n",
            "  Downloading rapidfuzz-3.9.2-cp310-cp310-manylinux_2_17_x86_64.manylinux2014_x86_64.whl (3.4 MB)\n",
            "\u001b[2K     \u001b[90m━━━━━━━━━━━━━━━━━━━━━━━━━━━━━━━━━━━━━━━━\u001b[0m \u001b[32m3.4/3.4 MB\u001b[0m \u001b[31m30.6 MB/s\u001b[0m eta \u001b[36m0:00:00\u001b[0m\n",
            "\u001b[?25hCollecting backoff (from unstructured)\n",
            "  Downloading backoff-2.2.1-py3-none-any.whl (15 kB)\n",
            "Requirement already satisfied: typing-extensions in /usr/local/lib/python3.10/dist-packages (from unstructured) (4.11.0)\n",
            "Collecting unstructured-client (from unstructured)\n",
            "  Downloading unstructured_client-0.22.0-py3-none-any.whl (28 kB)\n",
            "Requirement already satisfied: wrapt in /usr/local/lib/python3.10/dist-packages (from unstructured) (1.14.1)\n",
            "Requirement already satisfied: soupsieve>1.2 in /usr/local/lib/python3.10/dist-packages (from beautifulsoup4->unstructured) (2.5)\n",
            "Requirement already satisfied: marshmallow<4.0.0,>=3.18.0 in /usr/local/lib/python3.10/dist-packages (from dataclasses-json->unstructured) (3.21.2)\n",
            "Requirement already satisfied: typing-inspect<1,>=0.4.0 in /usr/local/lib/python3.10/dist-packages (from dataclasses-json->unstructured) (0.9.0)\n",
            "Requirement already satisfied: six in /usr/local/lib/python3.10/dist-packages (from langdetect->unstructured) (1.16.0)\n",
            "Requirement already satisfied: click in /usr/local/lib/python3.10/dist-packages (from nltk->unstructured) (8.1.7)\n",
            "Requirement already satisfied: joblib in /usr/local/lib/python3.10/dist-packages (from nltk->unstructured) (1.4.2)\n",
            "Requirement already satisfied: regex>=2021.8.3 in /usr/local/lib/python3.10/dist-packages (from nltk->unstructured) (2024.5.15)\n",
            "Requirement already satisfied: tqdm in /usr/local/lib/python3.10/dist-packages (from nltk->unstructured) (4.66.4)\n",
            "Requirement already satisfied: charset-normalizer<4,>=2 in /usr/local/lib/python3.10/dist-packages (from requests->unstructured) (3.3.2)\n",
            "Requirement already satisfied: idna<4,>=2.5 in /usr/local/lib/python3.10/dist-packages (from requests->unstructured) (3.7)\n",
            "Requirement already satisfied: urllib3<3,>=1.21.1 in /usr/local/lib/python3.10/dist-packages (from requests->unstructured) (2.0.7)\n",
            "Requirement already satisfied: certifi>=2017.4.17 in /usr/local/lib/python3.10/dist-packages (from requests->unstructured) (2024.2.2)\n",
            "Collecting deepdiff>=6.0 (from unstructured-client->unstructured)\n",
            "  Downloading deepdiff-7.0.1-py3-none-any.whl (80 kB)\n",
            "\u001b[2K     \u001b[90m━━━━━━━━━━━━━━━━━━━━━━━━━━━━━━━━━━━━━━━━\u001b[0m \u001b[32m80.8/80.8 kB\u001b[0m \u001b[31m9.8 MB/s\u001b[0m eta \u001b[36m0:00:00\u001b[0m\n",
            "\u001b[?25hCollecting jsonpath-python>=1.0.6 (from unstructured-client->unstructured)\n",
            "  Downloading jsonpath_python-1.0.6-py3-none-any.whl (7.6 kB)\n",
            "Requirement already satisfied: mypy-extensions>=1.0.0 in /usr/local/lib/python3.10/dist-packages (from unstructured-client->unstructured) (1.0.0)\n",
            "Requirement already satisfied: packaging>=23.1 in /usr/local/lib/python3.10/dist-packages (from unstructured-client->unstructured) (23.2)\n",
            "Collecting pypdf>=4.0 (from unstructured-client->unstructured)\n",
            "  Downloading pypdf-4.2.0-py3-none-any.whl (290 kB)\n",
            "\u001b[2K     \u001b[90m━━━━━━━━━━━━━━━━━━━━━━━━━━━━━━━━━━━━━━━━\u001b[0m \u001b[32m290.4/290.4 kB\u001b[0m \u001b[31m32.4 MB/s\u001b[0m eta \u001b[36m0:00:00\u001b[0m\n",
            "\u001b[?25hRequirement already satisfied: python-dateutil>=2.8.2 in /usr/local/lib/python3.10/dist-packages (from unstructured-client->unstructured) (2.8.2)\n",
            "Collecting ordered-set<4.2.0,>=4.1.0 (from deepdiff>=6.0->unstructured-client->unstructured)\n",
            "  Downloading ordered_set-4.1.0-py3-none-any.whl (7.6 kB)\n",
            "Building wheels for collected packages: langdetect\n",
            "  Building wheel for langdetect (setup.py) ... \u001b[?25l\u001b[?25hdone\n",
            "  Created wheel for langdetect: filename=langdetect-1.0.9-py3-none-any.whl size=993227 sha256=987a6b509d21be6f7d8837f87327e53af7a233fa95bbaaf27994fd565ee1e500\n",
            "  Stored in directory: /root/.cache/pip/wheels/95/03/7d/59ea870c70ce4e5a370638b5462a7711ab78fba2f655d05106\n",
            "Successfully built langdetect\n",
            "Installing collected packages: filetype, rapidfuzz, python-magic, python-iso639, pypdf, ordered-set, langdetect, jsonpath-python, emoji, backoff, deepdiff, unstructured-client, unstructured\n",
            "Successfully installed backoff-2.2.1 deepdiff-7.0.1 emoji-2.12.1 filetype-1.2.0 jsonpath-python-1.0.6 langdetect-1.0.9 ordered-set-4.1.0 pypdf-4.2.0 python-iso639-2024.4.27 python-magic-0.4.27 rapidfuzz-3.9.2 unstructured-0.14.3 unstructured-client-0.22.0\n"
          ]
        }
      ]
    },
    {
      "cell_type": "code",
      "source": [
        "item"
      ],
      "metadata": {
        "colab": {
          "base_uri": "https://localhost:8080/"
        },
        "id": "Ao1Ol9HO1i5i",
        "outputId": "32d93209-adb5-4364-9c3c-3a335c9dbc84"
      },
      "execution_count": null,
      "outputs": [
        {
          "output_type": "execute_result",
          "data": {
            "text/plain": [
              "[Document(page_content='\\n\\n\\n\\n0\\n1\\n2\\n3\\n4\\n5\\n6\\n\\n\\nasOfDate\\n2020-12-31 00:00:00\\n2021-12-31 00:00:00\\n2022-12-31 00:00:00\\n2023-09-30 00:00:00\\n2023-12-31 00:00:00\\n2023-12-31 00:00:00\\n2024-03-31 00:00:00\\n\\n\\nperiodType\\n12M\\n12M\\n12M\\nTTM\\n12M\\nTTM\\nTTM\\n\\n\\ncurrencyCode\\nUSD\\nUSD\\nUSD\\nUSD\\nUSD\\nUSD\\nUSD\\n\\n\\nAverageDilutionEarnings\\n\\n9000000.0\\n1000000.0\\n\\n0.0\\n\\n\\n\\n\\nBasicAverageShares\\n2799000000.0\\n2959000000.0\\n3130000000.0\\n3168250000.0\\n3173500000.0\\n3174000000.0\\n3179000000.0\\n\\n\\nBasicEPS\\n0.246667\\n1.87\\n4.02\\n3.41\\n4.725697\\n4.73\\n4.3\\n\\n\\nCostOfRevenue\\n24906000000.0\\n40217000000.0\\n60609000000.0\\n\\n79113000000.0\\n\\n77900000000.0\\n\\n\\nDilutedAverageShares\\n3249000000.0\\n3386000000.0\\n3475000000.0\\n3480250000.0\\n3482750000.0\\n3485000000.0\\n3489000000.0\\n\\n\\nDilutedEPS\\n0.213333\\n1.63\\n3.62\\n3.1\\n4.31\\n4.3\\n3.91\\n\\n\\nDilutedNIAvailtoComStockholders\\n721000000.0\\n5533000000.0\\n12584000000.0\\n\\n14999000000.0\\n\\n13652000000.0\\n\\n\\nEBIT\\n1902000000.0\\n6714000000.0\\n13910000000.0\\n\\n10129000000.0\\n\\n8929000000.0\\n\\n\\nEBITDA\\n4224000000.0\\n9625000000.0\\n17657000000.0\\n\\n14796000000.0\\n\\n13796000000.0\\n\\n\\nGrossProfit\\n6630000000.0\\n13606000000.0\\n20853000000.0\\n\\n17660000000.0\\n\\n16845000000.0\\n\\n\\nInterestExpense\\n748000000.0\\n371000000.0\\n191000000.0\\n\\n156000000.0\\n\\n203000000.0\\n\\n\\nInterestExpenseNonOperating\\n748000000.0\\n371000000.0\\n191000000.0\\n\\n156000000.0\\n\\n203000000.0\\n\\n\\nInterestIncome\\n30000000.0\\n56000000.0\\n297000000.0\\n\\n1066000000.0\\n\\n1203000000.0\\n\\n\\nInterestIncomeNonOperating\\n30000000.0\\n56000000.0\\n297000000.0\\n\\n1066000000.0\\n\\n1203000000.0\\n\\n\\nMinorityInterests\\n-141000000.0\\n-120000000.0\\n-4000000.0\\n\\n25000000.0\\n\\n36000000.0\\n\\n\\nNetIncome\\n721000000.0\\n5524000000.0\\n12583000000.0\\n\\n14999000000.0\\n\\n13615000000.0\\n\\n\\nNetIncomeCommonStockholders\\n721000000.0\\n5524000000.0\\n12583000000.0\\n\\n14999000000.0\\n\\n13652000000.0\\n\\n\\nNetIncomeContinuousOperations\\n862000000.0\\n5644000000.0\\n12587000000.0\\n\\n14974000000.0\\n\\n13579000000.0\\n\\n\\nNetIncomeFromContinuingAndDiscontinuedOperation\\n721000000.0\\n5524000000.0\\n12583000000.0\\n\\n14999000000.0\\n\\n13615000000.0\\n\\n\\nNetIncomeFromContinuingOperationNetMinorityInterest\\n721000000.0\\n5524000000.0\\n12583000000.0\\n\\n14999000000.0\\n\\n13615000000.0\\n\\n\\nNetIncomeIncludingNoncontrollingInterests\\n862000000.0\\n5644000000.0\\n12587000000.0\\n\\n14974000000.0\\n\\n13579000000.0\\n\\n\\nNetInterestIncome\\n-718000000.0\\n-315000000.0\\n106000000.0\\n\\n910000000.0\\n\\n1000000000.0\\n\\n\\nNetNonOperatingInterestIncomeExpense\\n-718000000.0\\n-315000000.0\\n106000000.0\\n\\n910000000.0\\n\\n1000000000.0\\n\\n\\nNormalizedEBITDA\\n4224000000.0\\n9598000000.0\\n17833000000.0\\n\\n14796000000.0\\n\\n13796000000.0\\n\\n\\nNormalizedIncome\\n721000000.0\\n5499970000.0\\n12744920000.0\\n\\n14999000000.0\\n\\n13615000000.0\\n\\n\\nOperatingExpense\\n4636000000.0\\n7110000000.0\\n7021000000.0\\n\\n8769000000.0\\n\\n9447000000.0\\n\\n\\nOperatingIncome\\n1994000000.0\\n6496000000.0\\n13832000000.0\\n\\n8891000000.0\\n\\n7398000000.0\\n\\n\\nOperatingRevenue\\n31536000000.0\\n53823000000.0\\n81462000000.0\\n\\n96773000000.0\\n\\n94745000000.0\\n\\n\\nOtherIncomeExpense\\n-122000000.0\\n162000000.0\\n-219000000.0\\n\\n172000000.0\\n\\n328000000.0\\n\\n\\nOtherNonOperatingIncomeExpenses\\n-122000000.0\\n135000000.0\\n-43000000.0\\n\\n172000000.0\\n\\n328000000.0\\n\\n\\nPretaxIncome\\n1154000000.0\\n6343000000.0\\n13719000000.0\\n\\n9973000000.0\\n\\n8726000000.0\\n\\n\\nReconciledCostOfRevenue\\n24906000000.0\\n40217000000.0\\n60609000000.0\\n\\n79113000000.0\\n\\n77900000000.0\\n\\n\\nReconciledDepreciation\\n2322000000.0\\n2911000000.0\\n3747000000.0\\n\\n4667000000.0\\n\\n4867000000.0\\n\\n\\nResearchAndDevelopment\\n1491000000.0\\n2593000000.0\\n3075000000.0\\n\\n3969000000.0\\n\\n4349000000.0\\n\\n\\nRestructuringAndMergernAcquisition\\n0.0\\n-27000000.0\\n176000000.0\\n\\n0.0\\n\\n\\n\\n\\nSellingGeneralAndAdministration\\n3145000000.0\\n4517000000.0\\n3946000000.0\\n\\n4800000000.0\\n\\n5098000000.0\\n\\n\\nSpecialIncomeCharges\\n0.0\\n27000000.0\\n-176000000.0\\n\\n0.0\\n\\n\\n\\n\\nTaxEffectOfUnusualItems\\n0.0\\n2970000.0\\n-14080000.0\\n\\n0.0\\n\\n0.0\\n\\n\\nTaxProvision\\n292000000.0\\n699000000.0\\n1132000000.0\\n\\n-5001000000.0\\n\\n-4853000000.0\\n\\n\\nTaxRateForCalcs\\n0.25\\n0.11\\n0.08\\n\\n0.21\\n\\n0.4\\n\\n\\nTotalExpenses\\n29542000000.0\\n47327000000.0\\n67630000000.0\\n\\n87882000000.0\\n\\n87347000000.0\\n\\n\\nTotalOperatingIncomeAsReported\\n-1994000000.0\\n6523000000.0\\n13656000000.0\\n\\n8891000000.0\\n\\n7398000000.0\\n\\n\\nTotalRevenue\\n31536000000.0\\n53823000000.0\\n81462000000.0\\n\\n96773000000.0\\n\\n94745000000.0\\n\\n\\nTotalUnusualItems\\n0.0\\n27000000.0\\n-176000000.0\\n\\n0.0\\n\\n0.0\\n\\n\\nTotalUnusualItemsExcludingGoodwill\\n0.0\\n27000000.0\\n-176000000.0\\n\\n0.0\\n\\n0.0\\n\\n\\n', metadata={'source': 'income_stmt.csv'})]"
            ]
          },
          "metadata": {},
          "execution_count": 14
        }
      ]
    },
    {
      "cell_type": "code",
      "source": [
        "item[0].page_content"
      ],
      "metadata": {
        "colab": {
          "base_uri": "https://localhost:8080/",
          "height": 137
        },
        "id": "8_Up6qh73LFC",
        "outputId": "c7df3a3a-03de-4e61-c014-13b6cd525e2c"
      },
      "execution_count": null,
      "outputs": [
        {
          "output_type": "execute_result",
          "data": {
            "text/plain": [
              "'\\n\\n\\n\\n0\\n1\\n2\\n3\\n4\\n5\\n6\\n\\n\\nasOfDate\\n2020-12-31 00:00:00\\n2021-12-31 00:00:00\\n2022-12-31 00:00:00\\n2023-09-30 00:00:00\\n2023-12-31 00:00:00\\n2023-12-31 00:00:00\\n2024-03-31 00:00:00\\n\\n\\nperiodType\\n12M\\n12M\\n12M\\nTTM\\n12M\\nTTM\\nTTM\\n\\n\\ncurrencyCode\\nUSD\\nUSD\\nUSD\\nUSD\\nUSD\\nUSD\\nUSD\\n\\n\\nAverageDilutionEarnings\\n\\n9000000.0\\n1000000.0\\n\\n0.0\\n\\n\\n\\n\\nBasicAverageShares\\n2799000000.0\\n2959000000.0\\n3130000000.0\\n3168250000.0\\n3173500000.0\\n3174000000.0\\n3179000000.0\\n\\n\\nBasicEPS\\n0.246667\\n1.87\\n4.02\\n3.41\\n4.725697\\n4.73\\n4.3\\n\\n\\nCostOfRevenue\\n24906000000.0\\n40217000000.0\\n60609000000.0\\n\\n79113000000.0\\n\\n77900000000.0\\n\\n\\nDilutedAverageShares\\n3249000000.0\\n3386000000.0\\n3475000000.0\\n3480250000.0\\n3482750000.0\\n3485000000.0\\n3489000000.0\\n\\n\\nDilutedEPS\\n0.213333\\n1.63\\n3.62\\n3.1\\n4.31\\n4.3\\n3.91\\n\\n\\nDilutedNIAvailtoComStockholders\\n721000000.0\\n5533000000.0\\n12584000000.0\\n\\n14999000000.0\\n\\n13652000000.0\\n\\n\\nEBIT\\n1902000000.0\\n6714000000.0\\n13910000000.0\\n\\n10129000000.0\\n\\n8929000000.0\\n\\n\\nEBITDA\\n4224000000.0\\n9625000000.0\\n17657000000.0\\n\\n14796000000.0\\n\\n13796000000.0\\n\\n\\nGrossProfit\\n6630000000.0\\n13606000000.0\\n20853000000.0\\n\\n17660000000.0\\n\\n16845000000.0\\n\\n\\nInterestExpense\\n748000000.0\\n371000000.0\\n191000000.0\\n\\n156000000.0\\n\\n203000000.0\\n\\n\\nInterestExpenseNonOperating\\n748000000.0\\n371000000.0\\n191000000.0\\n\\n156000000.0\\n\\n203000000.0\\n\\n\\nInterestIncome\\n30000000.0\\n56000000.0\\n297000000.0\\n\\n1066000000.0\\n\\n1203000000.0\\n\\n\\nInterestIncomeNonOperating\\n30000000.0\\n56000000.0\\n297000000.0\\n\\n1066000000.0\\n\\n1203000000.0\\n\\n\\nMinorityInterests\\n-141000000.0\\n-120000000.0\\n-4000000.0\\n\\n25000000.0\\n\\n36000000.0\\n\\n\\nNetIncome\\n721000000.0\\n5524000000.0\\n12583000000.0\\n\\n14999000000.0\\n\\n13615000000.0\\n\\n\\nNetIncomeCommonStockholders\\n721000000.0\\n5524000000.0\\n12583000000.0\\n\\n14999000000.0\\n\\n13652000000.0\\n\\n\\nNetIncomeContinuousOperations\\n862000000.0\\n5644000000.0\\n12587000000.0\\n\\n14974000000.0\\n\\n13579000000.0\\n\\n\\nNetIncomeFromContinuingAndDiscontinuedOperation\\n721000000.0\\n5524000000.0\\n12583000000.0\\n\\n14999000000.0\\n\\n13615000000.0\\n\\n\\nNetIncomeFromContinuingOperationNetMinorityInterest\\n721000000.0\\n5524000000.0\\n12583000000.0\\n\\n14999000000.0\\n\\n13615000000.0\\n\\n\\nNetIncomeIncludingNoncontrollingInterests\\n862000000.0\\n5644000000.0\\n12587000000.0\\n\\n14974000000.0\\n\\n13579000000.0\\n\\n\\nNetInterestIncome\\n-718000000.0\\n-315000000.0\\n106000000.0\\n\\n910000000.0\\n\\n1000000000.0\\n\\n\\nNetNonOperatingInterestIncomeExpense\\n-718000000.0\\n-315000000.0\\n106000000.0\\n\\n910000000.0\\n\\n1000000000.0\\n\\n\\nNormalizedEBITDA\\n4224000000.0\\n9598000000.0\\n17833000000.0\\n\\n14796000000.0\\n\\n13796000000.0\\n\\n\\nNormalizedIncome\\n721000000.0\\n5499970000.0\\n12744920000.0\\n\\n14999000000.0\\n\\n13615000000.0\\n\\n\\nOperatingExpense\\n4636000000.0\\n7110000000.0\\n7021000000.0\\n\\n8769000000.0\\n\\n9447000000.0\\n\\n\\nOperatingIncome\\n1994000000.0\\n6496000000.0\\n13832000000.0\\n\\n8891000000.0\\n\\n7398000000.0\\n\\n\\nOperatingRevenue\\n31536000000.0\\n53823000000.0\\n81462000000.0\\n\\n96773000000.0\\n\\n94745000000.0\\n\\n\\nOtherIncomeExpense\\n-122000000.0\\n162000000.0\\n-219000000.0\\n\\n172000000.0\\n\\n328000000.0\\n\\n\\nOtherNonOperatingIncomeExpenses\\n-122000000.0\\n135000000.0\\n-43000000.0\\n\\n172000000.0\\n\\n328000000.0\\n\\n\\nPretaxIncome\\n1154000000.0\\n6343000000.0\\n13719000000.0\\n\\n9973000000.0\\n\\n8726000000.0\\n\\n\\nReconciledCostOfRevenue\\n24906000000.0\\n40217000000.0\\n60609000000.0\\n\\n79113000000.0\\n\\n77900000000.0\\n\\n\\nReconciledDepreciation\\n2322000000.0\\n2911000000.0\\n3747000000.0\\n\\n4667000000.0\\n\\n4867000000.0\\n\\n\\nResearchAndDevelopment\\n1491000000.0\\n2593000000.0\\n3075000000.0\\n\\n3969000000.0\\n\\n4349000000.0\\n\\n\\nRestructuringAndMergernAcquisition\\n0.0\\n-27000000.0\\n176000000.0\\n\\n0.0\\n\\n\\n\\n\\nSellingGeneralAndAdministration\\n3145000000.0\\n4517000000.0\\n3946000000.0\\n\\n4800000000.0\\n\\n5098000000.0\\n\\n\\nSpecialIncomeCharges\\n0.0\\n27000000.0\\n-176000000.0\\n\\n0.0\\n\\n\\n\\n\\nTaxEffectOfUnusualItems\\n0.0\\n2970000.0\\n-14080000.0\\n\\n0.0\\n\\n0.0\\n\\n\\nTaxProvision\\n292000000.0\\n699000000.0\\n1132000000.0\\n\\n-5001000000.0\\n\\n-4853000000.0\\n\\n\\nTaxRateForCalcs\\n0.25\\n0.11\\n0.08\\n\\n0.21\\n\\n0.4\\n\\n\\nTotalExpenses\\n29542000000.0\\n47327000000.0\\n67630000000.0\\n\\n87882000000.0\\n\\n87347000000.0\\n\\n\\nTotalOperatingIncomeAsReported\\n-1994000000.0\\n6523000000.0\\n13656000000.0\\n\\n8891000000.0\\n\\n7398000000.0\\n\\n\\nTotalRevenue\\n31536000000.0\\n53823000000.0\\n81462000000.0\\n\\n96773000000.0\\n\\n94745000000.0\\n\\n\\nTotalUnusualItems\\n0.0\\n27000000.0\\n-176000000.0\\n\\n0.0\\n\\n0.0\\n\\n\\nTotalUnusualItemsExcludingGoodwill\\n0.0\\n27000000.0\\n-176000000.0\\n\\n0.0\\n\\n0.0\\n\\n\\n'"
            ],
            "application/vnd.google.colaboratory.intrinsic+json": {
              "type": "string"
            }
          },
          "metadata": {},
          "execution_count": 15
        }
      ]
    },
    {
      "cell_type": "code",
      "source": [],
      "metadata": {
        "id": "6Kp89qZG3OZ5"
      },
      "execution_count": null,
      "outputs": []
    }
  ]
}