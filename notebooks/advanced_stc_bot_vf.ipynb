{
  "nbformat": 4,
  "nbformat_minor": 0,
  "metadata": {
    "colab": {
      "provenance": []
    },
    "kernelspec": {
      "name": "python3",
      "display_name": "Python 3"
    },
    "language_info": {
      "name": "python"
    }
  },
  "cells": [
    {
      "cell_type": "code",
      "execution_count": null,
      "metadata": {
        "id": "KR2PKkkXdu_4"
      },
      "outputs": [],
      "source": [
        "%%capture --no-stderr\n",
        "%pip install --quiet -U langchain langchain_openai tavily-python langgraph langchain_groq langchain_cohere"
      ]
    },
    {
      "cell_type": "code",
      "source": [
        "from google.colab import userdata\n",
        "import os\n",
        "\n",
        "os.environ['COHERE_API_KEY'] = userdata.get('COHERE_KEY')\n",
        "os.environ['GROQ_API_KEY'] = userdata.get('GROQ_API_KEY')\n",
        "os.environ['TAVILY_API_KEY'] = userdata.get('TAVILY_KEY')"
      ],
      "metadata": {
        "id": "xn5u_GzR6FtV"
      },
      "execution_count": null,
      "outputs": []
    },
    {
      "cell_type": "code",
      "source": [
        "!pip install -Uq langchain_community langchainhub langchain-google-genai"
      ],
      "metadata": {
        "colab": {
          "base_uri": "https://localhost:8080/"
        },
        "id": "35KK9Ezk6Su-",
        "outputId": "1754e14d-de54-4a3e-91af-b5f6989c636b"
      },
      "execution_count": null,
      "outputs": [
        {
          "output_type": "stream",
          "name": "stdout",
          "text": [
            "\u001b[2K     \u001b[90m━━━━━━━━━━━━━━━━━━━━━━━━━━━━━━━━━━━━━━━━\u001b[0m \u001b[32m2.1/2.1 MB\u001b[0m \u001b[31m9.4 MB/s\u001b[0m eta \u001b[36m0:00:00\u001b[0m\n",
            "\u001b[2K     \u001b[90m━━━━━━━━━━━━━━━━━━━━━━━━━━━━━━━━━━━━━━━━\u001b[0m \u001b[32m49.3/49.3 kB\u001b[0m \u001b[31m6.5 MB/s\u001b[0m eta \u001b[36m0:00:00\u001b[0m\n",
            "\u001b[?25h"
          ]
        }
      ]
    },
    {
      "cell_type": "code",
      "source": [
        "from langchain_community.tools.tavily_search import TavilySearchResults\n",
        "\n",
        "tools = [TavilySearchResults(max_results=3)]"
      ],
      "metadata": {
        "id": "RqbxZNvn6lQJ"
      },
      "execution_count": null,
      "outputs": []
    },
    {
      "cell_type": "code",
      "source": [
        "from langchain_groq import ChatGroq\n",
        "\n",
        "llm = ChatGroq(temperature=0)"
      ],
      "metadata": {
        "id": "KZpFYEDS6nc1"
      },
      "execution_count": null,
      "outputs": []
    },
    {
      "cell_type": "code",
      "source": [
        "from langchain_core.pydantic_v1 import BaseModel, Field\n",
        "from typing import List\n",
        "\n",
        "class Response(BaseModel):\n",
        "  \"\"\"Response from the model, list containing the symbols\"\"\"\n",
        "  symbols: List[str] = Field(\n",
        "      description=\"list of Stock symbols from output query\"\n",
        "  )"
      ],
      "metadata": {
        "id": "2w0Fo3-n6pVe"
      },
      "execution_count": null,
      "outputs": []
    },
    {
      "cell_type": "code",
      "source": [
        "model = llm.bind_tools(tools + [Response])"
      ],
      "metadata": {
        "id": "tvHEZE0v6tky"
      },
      "execution_count": null,
      "outputs": []
    },
    {
      "cell_type": "code",
      "source": [
        "from typing import TypedDict, Annotated, Sequence\n",
        "import operator\n",
        "from langchain_core.messages import BaseMessage\n",
        "\n",
        "\n",
        "class AgentState(TypedDict):\n",
        "    messages: Annotated[Sequence[BaseMessage], operator.add]\n",
        "    sender: str\n",
        "    symbols: List[Sequence[BaseMessage]]"
      ],
      "metadata": {
        "id": "58Gvb2Vl8_SB"
      },
      "execution_count": null,
      "outputs": []
    },
    {
      "cell_type": "code",
      "source": [
        "finnhub_token = userdata.get('X-FINNHUB-TOKEN')\n",
        "av_key = userdata.get('AV_KEY')"
      ],
      "metadata": {
        "id": "Qc9iz_Vr9Osb"
      },
      "execution_count": null,
      "outputs": []
    },
    {
      "cell_type": "code",
      "source": [
        "!pip -q install finnhub-python"
      ],
      "metadata": {
        "id": "jFgeERtW-n5Y"
      },
      "execution_count": null,
      "outputs": []
    },
    {
      "cell_type": "code",
      "source": [
        "from langchain_core.tools import tool\n",
        "from langchain.pydantic_v1 import BaseModel, Field\n",
        "import requests\n",
        "import csv"
      ],
      "metadata": {
        "id": "0uSTB1FpOtxV"
      },
      "execution_count": null,
      "outputs": []
    },
    {
      "cell_type": "code",
      "source": [
        "@tool('get_expected_earnings')\n",
        "def get_expected_earnings(symbol: str):\n",
        "  \"\"\"use to get the expected earnings of a company, takes in company symbol and no. of months as input, output contain document with earnings\"\"\"\n",
        "  CSV_URL = f'https://www.alphavantage.co/query?function=EARNINGS_CALENDAR&symbol={symbol}&horizon=3month&apikey={av_key}'\n",
        "\n",
        "  document = ''\n",
        "  with requests.Session() as s:\n",
        "      download = s.get(CSV_URL)\n",
        "      decoded_content = download.content.decode('utf-8')\n",
        "      cr = csv.reader(decoded_content.splitlines(), delimiter=',')\n",
        "      for row in cr:\n",
        "        document += ','.join(row) + '\\n'\n",
        "\n",
        "  return document"
      ],
      "metadata": {
        "id": "G7D1ELr_9wWE"
      },
      "execution_count": null,
      "outputs": []
    },
    {
      "cell_type": "code",
      "source": [
        "import finnhub\n",
        "from datetime import date, timedelta\n",
        "import json\n",
        "\n",
        "@tool('get_insider_sentiment')\n",
        "def insider_sentiment(symbol: str):\n",
        "  \"\"\"\n",
        "  Get json containing the insider sentiment towards the particular company for 3 months time from current date\n",
        "  input: Stock symbol\n",
        "  output: json containing the insider sentiments for 3 month time\n",
        "  \"\"\"\n",
        "  today = date.today()\n",
        "  start = today - timedelta(days=3 * 30)\n",
        "  finnhub_client = finnhub.Client(api_key=finnhub_token)\n",
        "\n",
        "  sentiment = finnhub_client.stock_insider_sentiment(symbol, start, today)\n",
        "\n",
        "  return json.dumps(sentiment)"
      ],
      "metadata": {
        "id": "UfwY0ODj-j5i"
      },
      "execution_count": null,
      "outputs": []
    },
    {
      "cell_type": "code",
      "source": [
        "@tool('get_insider_transactions')\n",
        "def insider_transactions(symbol: str):\n",
        "  \"\"\"\n",
        "  Get json containing the insider tranasaction towards the particular company stock for 2 months time from current date\n",
        "  input: Stock symbol\n",
        "  output: json containing the insider transactions for 3 month time\n",
        "  \"\"\"\n",
        "  today = date.today()\n",
        "  start = today - timedelta(days=2 * 30)\n",
        "  finnhub_client = finnhub.Client(api_key=finnhub_token)\n",
        "\n",
        "  transactions = finnhub_client.stock_insider_transactions(symbol,  start, today)\n",
        "\n",
        "  return json.dumps(transactions)"
      ],
      "metadata": {
        "id": "sD_JfHrB-vMM"
      },
      "execution_count": null,
      "outputs": []
    },
    {
      "cell_type": "code",
      "source": [
        "from datetime import datetime\n",
        "\n",
        "@tool('get_outsider_sentiment')\n",
        "def get_news_sentiment(symbol: str):\n",
        "  \"\"\"\n",
        "  get outsider sentiment\n",
        "  get news with sentiment score about company with stock symbol passed as input. \\n\n",
        "  news will be used for sentiment analysis for finance & stock trade decisions\n",
        "  output: json containing the metadata and news\n",
        "  \"\"\"\n",
        "  now = datetime.now() - timedelta(days=30)\n",
        "  formatted_time = now.strftime(\"%Y%m%dT%H%M\")\n",
        "  url = f'https://www.alphavantage.co/query?function=NEWS_SENTIMENT&tickers={symbol}&apikey={av_key}'\n",
        "  r = requests.get(url)\n",
        "  data = r.json()\n",
        "\n",
        "  return json.dumps(data)"
      ],
      "metadata": {
        "id": "4A5XnmaT-zw3"
      },
      "execution_count": null,
      "outputs": []
    },
    {
      "cell_type": "code",
      "source": [
        "from langchain_core.messages import (\n",
        "    BaseMessage,\n",
        "    ToolMessage,\n",
        "    HumanMessage,\n",
        ")\n",
        "from langchain_core.prompts import ChatPromptTemplate, MessagesPlaceholder\n",
        "from langgraph.graph import END, StateGraph\n",
        "\n",
        "\n",
        "def create_agent(llm, tools, system_message: str):\n",
        "    \"\"\"Create an agent.\"\"\"\n",
        "    prompt = ChatPromptTemplate.from_messages(\n",
        "        [\n",
        "            (\n",
        "                \"system\",\n",
        "                \"You are a helpful AI Stock bocker Assistant, collaborating with other assistants.\"\n",
        "                \" Use the provided tools to progress towards answering the question.\"\n",
        "                \" If you are unable to fully answer, that's OK, another assistant with different tools \"\n",
        "                \" will help where you left off. Execute what you can to make progress.\"\n",
        "                \" If you or any of the other assistants have the final answer or deliverable,\"\n",
        "                \"For some tools you need to use the stock symbol to get proper response. use all tools before FINAL ANSWER\"\n",
        "                \" prefix your response with FINAL ANSWER so the team knows to stop.\"\n",
        "                \" You have access to the following tools: {tool_names}.\\n{system_message}\",\n",
        "            ),\n",
        "            MessagesPlaceholder(variable_name=\"messages\"),\n",
        "            MessagesPlaceholder(variable_name=\"symbols\"),\n",
        "        ]\n",
        "    )\n",
        "    prompt = prompt.partial(system_message=system_message)\n",
        "    prompt = prompt.partial(tool_names=\", \".join([tool.name for tool in tools]))\n",
        "    return prompt | llm.bind_tools(tools)"
      ],
      "metadata": {
        "id": "zMEDI1qa-1i7"
      },
      "execution_count": null,
      "outputs": []
    },
    {
      "cell_type": "code",
      "source": [
        "import functools\n",
        "from langchain_core.messages import (\n",
        "    BaseMessage,\n",
        "    ToolMessage,\n",
        "    HumanMessage,\n",
        "    AIMessage\n",
        ")\n",
        "\n",
        "def agent_node(state, agent, name):\n",
        "  result = agent.invoke(state)\n",
        "  print(result)\n",
        "  if isinstance(result, ToolMessage):\n",
        "    pass\n",
        "  else:\n",
        "    result = AIMessage(**result.dict(exclude={'type', 'name'}), name=name)\n",
        "\n",
        "  return {\n",
        "      \"messages\": [result],\n",
        "      \"symbols\": state[\"symbols\"],\n",
        "      \"sender\": name\n",
        "  }"
      ],
      "metadata": {
        "id": "CqRIpc4WsuyC"
      },
      "execution_count": null,
      "outputs": []
    },
    {
      "cell_type": "code",
      "source": [
        "os.environ['GOOGLE_API_KEY'] = userdata.get('GEMINI_API_KEY')"
      ],
      "metadata": {
        "id": "mZHG0UIsuTJa"
      },
      "execution_count": null,
      "outputs": []
    },
    {
      "cell_type": "code",
      "source": [
        "from langchain_google_genai import ChatGoogleGenerativeAI\n",
        "\n",
        "llm = ChatGoogleGenerativeAI(model='gemini-1.5-flash-latest')"
      ],
      "metadata": {
        "id": "Hzk6GOBCt-o3"
      },
      "execution_count": null,
      "outputs": []
    },
    {
      "cell_type": "code",
      "source": [
        "llm.Config"
      ],
      "metadata": {
        "colab": {
          "base_uri": "https://localhost:8080/"
        },
        "id": "p4baLqxcubWG",
        "outputId": "dda5db5e-16d5-4350-f0c1-a9619ab0f449"
      },
      "execution_count": null,
      "outputs": [
        {
          "output_type": "execute_result",
          "data": {
            "text/plain": [
              "langchain_google_genai.chat_models.ChatGoogleGenerativeAI.Config"
            ]
          },
          "metadata": {},
          "execution_count": 20
        }
      ]
    },
    {
      "cell_type": "code",
      "source": [
        "sentiment_agent = create_agent(\n",
        "    llm,\n",
        "    [insider_sentiment, insider_transactions],\n",
        "    system_message=\"You should use the stock symbol to make api calls to get insider trade infomation\"\n",
        ")\n",
        "\n",
        "insider_node = functools.partial(agent_node, agent=sentiment_agent, name='sentiment')"
      ],
      "metadata": {
        "id": "qWga6mrkO08s"
      },
      "execution_count": null,
      "outputs": []
    },
    {
      "cell_type": "code",
      "source": [
        "growth_agent = create_agent(\n",
        "    llm,\n",
        "    [get_expected_earnings],\n",
        "    system_message=\"Use stock symbol to complete api call to get expected earnings over a set period of time\"\n",
        ")\n",
        "\n",
        "growth_node = functools.partial(agent_node, agent=growth_agent, name='Growth')\n",
        "\n",
        "news_agent = create_agent(\n",
        "    llm,\n",
        "    [get_news_sentiment],\n",
        "    system_message=\"Use stock symbol to make api call to get related news with sentiment score.\"\n",
        ")\n",
        "\n",
        "news_node = functools.partial(agent_node, agent=news_agent, name='News')"
      ],
      "metadata": {
        "id": "6DSurSVRumYy"
      },
      "execution_count": null,
      "outputs": []
    },
    {
      "cell_type": "code",
      "source": [
        "research_agent = create_agent(\n",
        "    llm,\n",
        "    tools,\n",
        "    system_message=\"Research and create final answer from other tools and sources\"\n",
        ")\n",
        "\n",
        "research_node = functools.partial(agent_node, agent=research_agent, name='Researcher')"
      ],
      "metadata": {
        "id": "romVvdOlO4G5"
      },
      "execution_count": null,
      "outputs": []
    },
    {
      "cell_type": "code",
      "source": [
        "from langgraph.prebuilt import ToolNode\n",
        "\n",
        "tools = tools + [insider_sentiment, insider_transactions, get_expected_earnings, get_news_sentiment]\n",
        "tool_node = ToolNode(tools)"
      ],
      "metadata": {
        "id": "wTnT6bVhy6LQ"
      },
      "execution_count": null,
      "outputs": []
    },
    {
      "cell_type": "code",
      "source": [
        "# Either agent can decide to end\n",
        "from typing import Literal\n",
        "\n",
        "\n",
        "def router(state) -> Literal[\"call_tool\", \"__end__\", \"continue\"]:\n",
        "    # This is the router\n",
        "    messages = state[\"messages\"]\n",
        "    last_message = messages[-1]\n",
        "    if last_message.tool_calls:\n",
        "        # The previous agent is invoking a tool\n",
        "        return \"call_tool\"\n",
        "    if \"FINAL ANSWER\" in last_message.content:\n",
        "        # Any agent decided the work is done\n",
        "        return \"__end__\"\n",
        "    return \"continue\""
      ],
      "metadata": {
        "id": "dSDgC1VazMJy"
      },
      "execution_count": null,
      "outputs": []
    },
    {
      "cell_type": "code",
      "source": [
        "workflow = StateGraph(AgentState)\n",
        "\n",
        "workflow.add_node(\"Researcher\", research_node)\n",
        "workflow.add_node(\"Insider\", insider_node)\n",
        "workflow.add_node(\"Growth\", growth_node)\n",
        "workflow.add_node(\"News\", news_node)\n",
        "\n",
        "workflow.add_node(\"call_tool\", tool_node)\n",
        "\n",
        "\n",
        "workflow.add_conditional_edges(\n",
        "    \"Researcher\",\n",
        "    router,\n",
        "    {\"continue\": \"News\", \"call_tool\": \"call_tool\", \"__end__\": END},\n",
        ")\n",
        "\n",
        "workflow.add_conditional_edges(\n",
        "    \"Insider\",\n",
        "    router,\n",
        "    {\"continue\": \"Researcher\", \"call_tool\": \"call_tool\", \"__end__\": END},\n",
        ")\n",
        "\n",
        "workflow.add_conditional_edges(\n",
        "    \"Growth\",\n",
        "    router,\n",
        "    {\"continue\": \"Insider\", \"call_tool\": \"call_tool\", \"__end__\": END},\n",
        ")\n",
        "\n",
        "workflow.add_conditional_edges(\n",
        "    \"News\",\n",
        "    router,\n",
        "    {\"continue\": \"Growth\", \"call_tool\": \"call_tool\", \"__end__\": END},\n",
        ")\n",
        "\n",
        "workflow.add_conditional_edges(\n",
        "    \"call_tool\",\n",
        "    # Each agent node updates the 'sender' field\n",
        "    # the tool calling node does not, meaning\n",
        "    # this edge will route back to the original agent\n",
        "    # who invoked the tool\n",
        "    lambda x: x[\"sender\"],\n",
        "    {\n",
        "        \"Researcher\": \"Researcher\",\n",
        "        \"Insider\": \"Insider\",\n",
        "        \"Growth\": \"Growth\",\n",
        "        \"News\" : \"News\"\n",
        "    },\n",
        ")\n",
        "workflow.set_entry_point(\"News\")\n",
        "graph = workflow.compile()"
      ],
      "metadata": {
        "id": "cOCuly5kzQ0F"
      },
      "execution_count": null,
      "outputs": []
    },
    {
      "cell_type": "code",
      "source": [
        "from IPython.display import Image, display\n",
        "\n",
        "try:\n",
        "    display(Image(graph.get_graph(xray=True).draw_mermaid_png()))\n",
        "except:\n",
        "    # This requires some extra dependencies and is optional\n",
        "    pass"
      ],
      "metadata": {
        "colab": {
          "base_uri": "https://localhost:8080/",
          "height": 544
        },
        "id": "zkRNhLRT0rbd",
        "outputId": "bbfdae6d-fab4-4b80-e2a3-88b6c790697b"
      },
      "execution_count": null,
      "outputs": [
        {
          "output_type": "display_data",
          "data": {
            "image/jpeg": "[encoded data removed]",
            "text/plain": [
              "<IPython.core.display.Image object>"
            ]
          },
          "metadata": {}
        }
      ]
    },
    {
      "cell_type": "code",
      "source": [
        "from IPython.display import Image, display\n",
        "\n",
        "try:\n",
        "    display(Image(graph.get_graph(xray=True).draw_mermaid_png()))\n",
        "except:\n",
        "    # This requires some extra dependencies and is optional\n",
        "    pass"
      ],
      "metadata": {
        "colab": {
          "base_uri": "https://localhost:8080/",
          "height": 357
        },
        "id": "LoRZdV-PxMcV",
        "outputId": "147754d3-2f5d-494c-c287-b7c06d26faf6"
      },
      "execution_count": null,
      "outputs": [
        {
          "output_type": "display_data",
          "data": {
            "image/jpeg": "[encoded data removed]",
            "text/plain": [
              "<IPython.core.display.Image object>"
            ]
          },
          "metadata": {}
        }
      ]
    },
    {
      "cell_type": "code",
      "source": [
        "from langchain_core.messages import HumanMessage\n",
        "\n",
        "inputs = {\n",
        "    \"messages\": [HumanMessage(content=\"What is the public sentiment of tesla stock?\")],\n",
        "    \"symbols\": [\"TSLA\"]\n",
        "    }"
      ],
      "metadata": {
        "id": "uXM70EgN0wPq"
      },
      "execution_count": null,
      "outputs": []
    },
    {
      "cell_type": "code",
      "source": [
        "gr = graph.invoke(inputs)"
      ],
      "metadata": {
        "colab": {
          "base_uri": "https://localhost:8080/",
          "height": 472
        },
        "id": "mRaij3kSKcib",
        "outputId": "60e7c9db-eef2-4010-9022-3352f97dddf2"
      },
      "execution_count": null,
      "outputs": [
        {
          "output_type": "stream",
          "name": "stdout",
          "text": [
            "content='' additional_kwargs={'function_call': {'name': 'get_outsider_sentiment', 'arguments': '{\"symbol\": \"TSLA\"}'}} response_metadata={'prompt_feedback': {'block_reason': 0, 'safety_ratings': []}, 'finish_reason': 'STOP', 'safety_ratings': [{'category': 'HARM_CATEGORY_DANGEROUS_CONTENT', 'probability': 'NEGLIGIBLE', 'blocked': False}, {'category': 'HARM_CATEGORY_HARASSMENT', 'probability': 'NEGLIGIBLE', 'blocked': False}, {'category': 'HARM_CATEGORY_HATE_SPEECH', 'probability': 'NEGLIGIBLE', 'blocked': False}, {'category': 'HARM_CATEGORY_SEXUALLY_EXPLICIT', 'probability': 'NEGLIGIBLE', 'blocked': False}]} id='run-3b446b9d-2d87-493b-ab68-f6f6bdb079de-0' tool_calls=[{'name': 'get_outsider_sentiment', 'args': {'symbol': 'TSLA'}, 'id': '6eec039c-c41e-4329-898e-ff3b3bcf13b1'}]\n",
            "content=\"The public sentiment towards Tesla stock is currently mixed.  Some recent news articles suggest a neutral sentiment, while others are somewhat bullish or bearish. \\n\\nFor example, one article about Tesla's production of Semi trucks was somewhat bullish, while another about a lawsuit against Jim Chanos was somewhat bearish.  Overall, the sentiment seems to be leaning towards neutral. \\n\" response_metadata={'prompt_feedback': {'block_reason': 0, 'safety_ratings': []}, 'finish_reason': 'STOP', 'safety_ratings': [{'category': 'HARM_CATEGORY_SEXUALLY_EXPLICIT', 'probability': 'NEGLIGIBLE', 'blocked': False}, {'category': 'HARM_CATEGORY_HATE_SPEECH', 'probability': 'NEGLIGIBLE', 'blocked': False}, {'category': 'HARM_CATEGORY_HARASSMENT', 'probability': 'NEGLIGIBLE', 'blocked': False}, {'category': 'HARM_CATEGORY_DANGEROUS_CONTENT', 'probability': 'NEGLIGIBLE', 'blocked': False}]} id='run-3292e662-1838-4ead-99e4-b53ac8d05d23-0'\n",
            "content='What would you like to know about TSLA? I can access information about the company\\'s expected earnings, but I need more context to be helpful. For example, you could ask:\\n\\n* \"What are TSLA\\'s expected earnings for the next quarter?\"\\n* \"How are TSLA\\'s expected earnings trending?\" \\n* \"What is the consensus analyst forecast for TSLA\\'s earnings?\" \\n\\nLet me know! \\n' response_metadata={'prompt_feedback': {'block_reason': 0, 'safety_ratings': []}, 'finish_reason': 'STOP', 'safety_ratings': [{'category': 'HARM_CATEGORY_SEXUALLY_EXPLICIT', 'probability': 'NEGLIGIBLE', 'blocked': False}, {'category': 'HARM_CATEGORY_HATE_SPEECH', 'probability': 'NEGLIGIBLE', 'blocked': False}, {'category': 'HARM_CATEGORY_HARASSMENT', 'probability': 'NEGLIGIBLE', 'blocked': False}, {'category': 'HARM_CATEGORY_DANGEROUS_CONTENT', 'probability': 'NEGLIGIBLE', 'blocked': False}]} id='run-3baf4161-11a1-43f7-ac54-b37d70b220d6-0'\n",
            "content='I need a bit more information to help you with TSLA.  What would you like to know about TSLA?  I can help you with:\\n\\n* **Insider Sentiment:**  I can tell you what insider sentiment towards TSLA has been over the past 3 months.\\n* **Insider Transactions:**  I can tell you about recent insider transactions involving TSLA stock over the past 2 months. \\n\\nFor example, you could ask:\\n\\n* \"What is the recent insider sentiment towards TSLA?\"\\n* \"Have there been any significant insider transactions with TSLA recently?\"\\n\\nLet me know what you\\'d like to know! \\n' response_metadata={'prompt_feedback': {'block_reason': 0, 'safety_ratings': []}, 'finish_reason': 'STOP', 'safety_ratings': [{'category': 'HARM_CATEGORY_SEXUALLY_EXPLICIT', 'probability': 'NEGLIGIBLE', 'blocked': False}, {'category': 'HARM_CATEGORY_HATE_SPEECH', 'probability': 'NEGLIGIBLE', 'blocked': False}, {'category': 'HARM_CATEGORY_HARASSMENT', 'probability': 'NEGLIGIBLE', 'blocked': False}, {'category': 'HARM_CATEGORY_DANGEROUS_CONTENT', 'probability': 'NEGLIGIBLE', 'blocked': False}]} id='run-32dc626c-4c94-4284-9475-3e2f62632167-0'\n",
            "content='You\\'re asking about TSLA, the stock symbol for Tesla.  To give you a helpful answer, I need to know what you want to know about TSLA.  \\n\\nFor example, you could ask:\\n\\n* \"What is the recent insider sentiment towards TSLA?\"\\n* \"Have there been any significant insider transactions with TSLA recently?\"\\n* \"What are TSLA\\'s expected earnings for the next quarter?\"\\n* \"How are TSLA\\'s expected earnings trending?\" \\n* \"What is the consensus analyst forecast for TSLA\\'s earnings?\"\\n\\nLet me know what you\\'d like to know! \\n' response_metadata={'prompt_feedback': {'block_reason': 0, 'safety_ratings': []}, 'finish_reason': 'STOP', 'safety_ratings': [{'category': 'HARM_CATEGORY_SEXUALLY_EXPLICIT', 'probability': 'NEGLIGIBLE', 'blocked': False}, {'category': 'HARM_CATEGORY_HATE_SPEECH', 'probability': 'NEGLIGIBLE', 'blocked': False}, {'category': 'HARM_CATEGORY_HARASSMENT', 'probability': 'NEGLIGIBLE', 'blocked': False}, {'category': 'HARM_CATEGORY_DANGEROUS_CONTENT', 'probability': 'NEGLIGIBLE', 'blocked': False}]} id='run-40c36f16-336a-47fa-80a4-73541bb0ab4a-0'\n",
            "content='I need a bit more information to help you with TSLA.  What would you like to know about TSLA?  I can help you with:\\n\\n* **Insider Sentiment:**  I can tell you what insider sentiment towards TSLA has been over the past 3 months.\\n* **Insider Transactions:**  I can tell you about recent insider transactions involving TSLA stock over the past 2 months. \\n* **Outsider Sentiment:** I can tell you about the public sentiment towards TSLA based on recent news articles. \\n\\nFor example, you could ask:\\n\\n* \"What is the recent insider sentiment towards TSLA?\"\\n* \"Have there been any significant insider transactions with TSLA recently?\"\\n* \"What is the public sentiment towards TSLA stock?\"\\n\\nLet me know what you\\'d like to know! \\n\\n\\n' response_metadata={'prompt_feedback': {'block_reason': 0, 'safety_ratings': []}, 'finish_reason': 'STOP', 'safety_ratings': [{'category': 'HARM_CATEGORY_SEXUALLY_EXPLICIT', 'probability': 'NEGLIGIBLE', 'blocked': False}, {'category': 'HARM_CATEGORY_HATE_SPEECH', 'probability': 'NEGLIGIBLE', 'blocked': False}, {'category': 'HARM_CATEGORY_HARASSMENT', 'probability': 'NEGLIGIBLE', 'blocked': False}, {'category': 'HARM_CATEGORY_DANGEROUS_CONTENT', 'probability': 'NEGLIGIBLE', 'blocked': False}]} id='run-8b085440-864c-4d3b-b3e1-119cf67f18b2-0'\n",
            "content='I need a bit more information to help you with TSLA.  What would you like to know about TSLA?  I can help you with:\\n\\n* **Insider Sentiment:**  I can tell you what insider sentiment towards TSLA has been over the past 3 months.\\n* **Insider Transactions:**  I can tell you about recent insider transactions involving TSLA stock over the past 2 months. \\n* **Outsider Sentiment:** I can tell you about the public sentiment towards TSLA based on recent news articles. \\n* **Expected Earnings:** I can access information about the company\\'s expected earnings, but I need more context to be helpful. For example, you could ask: \"What are TSLA\\'s expected earnings for the next quarter?\"\\n\\nFor example, you could ask:\\n\\n* \"What is the recent insider sentiment towards TSLA?\"\\n* \"Have there been any significant insider transactions with TSLA recently?\"\\n* \"What is the public sentiment towards TSLA stock?\"\\n* \"What are TSLA\\'s expected earnings for the next quarter?\"\\n\\nLet me know what you\\'d like to know! \\n\\n\\n' response_metadata={'prompt_feedback': {'block_reason': 0, 'safety_ratings': []}, 'finish_reason': 'STOP', 'safety_ratings': [{'category': 'HARM_CATEGORY_SEXUALLY_EXPLICIT', 'probability': 'NEGLIGIBLE', 'blocked': False}, {'category': 'HARM_CATEGORY_HATE_SPEECH', 'probability': 'NEGLIGIBLE', 'blocked': False}, {'category': 'HARM_CATEGORY_HARASSMENT', 'probability': 'NEGLIGIBLE', 'blocked': False}, {'category': 'HARM_CATEGORY_DANGEROUS_CONTENT', 'probability': 'NEGLIGIBLE', 'blocked': False}]} id='run-6eff217f-ed6e-40f3-8e2b-4dc6cccd6d93-0'\n",
            "content='I need a bit more information to help you with TSLA.  What would you like to know about TSLA?  I can help you with:\\n\\n* **Insider Sentiment:**  I can tell you what insider sentiment towards TSLA has been over the past 3 months.\\n* **Insider Transactions:**  I can tell you about recent insider transactions involving TSLA stock over the past 2 months. \\n* **Outsider Sentiment:** I can tell you about the public sentiment towards TSLA based on recent news articles. \\n* **Expected Earnings:** I can access information about the company\\'s expected earnings, but I need more context to be helpful. For example, you could ask: \"What are TSLA\\'s expected earnings for the next quarter?\"\\n\\nFor example, you could ask:\\n\\n* \"What is the recent insider sentiment towards TSLA?\"\\n* \"Have there been any significant insider transactions with TSLA recently?\"\\n* \"What is the public sentiment towards TSLA stock?\"\\n* \"What are TSLA\\'s expected earnings for the next quarter?\"\\n\\nLet me know what you\\'d like to know! \\n\\n\\n\\n\\n' response_metadata={'prompt_feedback': {'block_reason': 0, 'safety_ratings': []}, 'finish_reason': 'STOP', 'safety_ratings': [{'category': 'HARM_CATEGORY_SEXUALLY_EXPLICIT', 'probability': 'NEGLIGIBLE', 'blocked': False}, {'category': 'HARM_CATEGORY_HATE_SPEECH', 'probability': 'NEGLIGIBLE', 'blocked': False}, {'category': 'HARM_CATEGORY_HARASSMENT', 'probability': 'NEGLIGIBLE', 'blocked': False}, {'category': 'HARM_CATEGORY_DANGEROUS_CONTENT', 'probability': 'NEGLIGIBLE', 'blocked': False}]} id='run-d968b2c3-0b5b-4b87-ba59-dfc5837c5e36-0'\n",
            "content='I need a bit more information to help you with TSLA.  What would you like to know about TSLA?  I can help you with:\\n\\n* **Insider Sentiment:**  I can tell you what insider sentiment towards TSLA has been over the past 3 months.\\n* **Insider Transactions:**  I can tell you about recent insider transactions involving TSLA stock over the past 2 months. \\n* **Outsider Sentiment:** I can tell you about the public sentiment towards TSLA based on recent news articles. \\n* **Expected Earnings:** I can access information about the company\\'s expected earnings, but I need more context to be helpful. For example, you could ask: \"What are TSLA\\'s expected earnings for the next quarter?\"\\n\\nFor example, you could ask:\\n\\n* \"What is the recent insider sentiment towards TSLA?\"\\n* \"Have there been any significant insider transactions with TSLA recently?\"\\n* \"What is the public sentiment towards TSLA stock?\"\\n* \"What are TSLA\\'s expected earnings for the next quarter?\"\\n\\nLet me know what you\\'d like to know! \\n\\n\\n\\n\\n\\n\\n' response_metadata={'prompt_feedback': {'block_reason': 0, 'safety_ratings': []}, 'finish_reason': 'STOP', 'safety_ratings': [{'category': 'HARM_CATEGORY_SEXUALLY_EXPLICIT', 'probability': 'NEGLIGIBLE', 'blocked': False}, {'category': 'HARM_CATEGORY_HATE_SPEECH', 'probability': 'NEGLIGIBLE', 'blocked': False}, {'category': 'HARM_CATEGORY_HARASSMENT', 'probability': 'NEGLIGIBLE', 'blocked': False}, {'category': 'HARM_CATEGORY_DANGEROUS_CONTENT', 'probability': 'NEGLIGIBLE', 'blocked': False}]} id='run-7747c93e-9d4c-40b6-801b-24c02e655cb0-0'\n",
            "content='Okay, I see you\\'re interested in TSLA, the stock symbol for Tesla. \\n\\nTo give you the most helpful information, I need to know what you want to know about TSLA. \\n\\nFor example, you could ask:\\n\\n* **\"What is the recent insider sentiment towards TSLA?\"** \\n* **\"Have there been any significant insider transactions with TSLA recently?\"**\\n* **\"What is the public sentiment towards TSLA stock?\"**\\n* **\"What are TSLA\\'s expected earnings for the next quarter?\"**\\n\\nLet me know what you\\'d like to know! \\n' response_metadata={'prompt_feedback': {'block_reason': 0, 'safety_ratings': []}, 'finish_reason': 'STOP', 'safety_ratings': [{'category': 'HARM_CATEGORY_SEXUALLY_EXPLICIT', 'probability': 'NEGLIGIBLE', 'blocked': False}, {'category': 'HARM_CATEGORY_HATE_SPEECH', 'probability': 'NEGLIGIBLE', 'blocked': False}, {'category': 'HARM_CATEGORY_HARASSMENT', 'probability': 'NEGLIGIBLE', 'blocked': False}, {'category': 'HARM_CATEGORY_DANGEROUS_CONTENT', 'probability': 'NEGLIGIBLE', 'blocked': False}]} id='run-47990c44-9c95-49d7-8ae6-7c7b60b17145-0'\n"
          ]
        },
        {
          "output_type": "error",
          "ename": "KeyboardInterrupt",
          "evalue": "",
          "traceback": [
            "\u001b[0;31m---------------------------------------------------------------------------\u001b[0m",
            "\u001b[0;31mKeyboardInterrupt\u001b[0m                         Traceback (most recent call last)",
            "\u001b[0;32m<ipython-input-47-fa41e8b76c1c>\u001b[0m in \u001b[0;36m<cell line: 1>\u001b[0;34m()\u001b[0m\n\u001b[0;32m----> 1\u001b[0;31m \u001b[0mgr\u001b[0m \u001b[0;34m=\u001b[0m \u001b[0mgraph\u001b[0m\u001b[0;34m.\u001b[0m\u001b[0minvoke\u001b[0m\u001b[0;34m(\u001b[0m\u001b[0minputs\u001b[0m\u001b[0;34m)\u001b[0m\u001b[0;34m\u001b[0m\u001b[0;34m\u001b[0m\u001b[0m\n\u001b[0m",
            "\u001b[0;32m/usr/local/lib/python3.10/dist-packages/langgraph/pregel/__init__.py\u001b[0m in \u001b[0;36minvoke\u001b[0;34m(self, input, config, stream_mode, output_keys, input_keys, interrupt_before, interrupt_after, debug, **kwargs)\u001b[0m\n\u001b[1;32m   1331\u001b[0m         \u001b[0;32melse\u001b[0m\u001b[0;34m:\u001b[0m\u001b[0;34m\u001b[0m\u001b[0;34m\u001b[0m\u001b[0m\n\u001b[1;32m   1332\u001b[0m             \u001b[0mchunks\u001b[0m \u001b[0;34m=\u001b[0m \u001b[0;34m[\u001b[0m\u001b[0;34m]\u001b[0m\u001b[0;34m\u001b[0m\u001b[0;34m\u001b[0m\u001b[0m\n\u001b[0;32m-> 1333\u001b[0;31m         for chunk in self.stream(\n\u001b[0m\u001b[1;32m   1334\u001b[0m             \u001b[0minput\u001b[0m\u001b[0;34m,\u001b[0m\u001b[0;34m\u001b[0m\u001b[0;34m\u001b[0m\u001b[0m\n\u001b[1;32m   1335\u001b[0m             \u001b[0mconfig\u001b[0m\u001b[0;34m,\u001b[0m\u001b[0;34m\u001b[0m\u001b[0;34m\u001b[0m\u001b[0m\n",
            "\u001b[0;32m/usr/local/lib/python3.10/dist-packages/langgraph/pregel/__init__.py\u001b[0m in \u001b[0;36mstream\u001b[0;34m(self, input, config, stream_mode, output_keys, input_keys, interrupt_before, interrupt_after, debug)\u001b[0m\n\u001b[1;32m    867\u001b[0m                     \u001b[0;31m# execute tasks, and wait for one to fail or all to finish.\u001b[0m\u001b[0;34m\u001b[0m\u001b[0;34m\u001b[0m\u001b[0m\n\u001b[1;32m    868\u001b[0m                     \u001b[0;31m# each task is independent from all other concurrent tasks\u001b[0m\u001b[0;34m\u001b[0m\u001b[0;34m\u001b[0m\u001b[0m\n\u001b[0;32m--> 869\u001b[0;31m                     done, inflight = concurrent.futures.wait(\n\u001b[0m\u001b[1;32m    870\u001b[0m                         \u001b[0mfutures\u001b[0m\u001b[0;34m,\u001b[0m\u001b[0;34m\u001b[0m\u001b[0;34m\u001b[0m\u001b[0m\n\u001b[1;32m    871\u001b[0m                         \u001b[0mreturn_when\u001b[0m\u001b[0;34m=\u001b[0m\u001b[0mconcurrent\u001b[0m\u001b[0;34m.\u001b[0m\u001b[0mfutures\u001b[0m\u001b[0;34m.\u001b[0m\u001b[0mFIRST_EXCEPTION\u001b[0m\u001b[0;34m,\u001b[0m\u001b[0;34m\u001b[0m\u001b[0;34m\u001b[0m\u001b[0m\n",
            "\u001b[0;32m/usr/lib/python3.10/concurrent/futures/_base.py\u001b[0m in \u001b[0;36mwait\u001b[0;34m(fs, timeout, return_when)\u001b[0m\n\u001b[1;32m    305\u001b[0m         \u001b[0mwaiter\u001b[0m \u001b[0;34m=\u001b[0m \u001b[0m_create_and_install_waiters\u001b[0m\u001b[0;34m(\u001b[0m\u001b[0mfs\u001b[0m\u001b[0;34m,\u001b[0m \u001b[0mreturn_when\u001b[0m\u001b[0;34m)\u001b[0m\u001b[0;34m\u001b[0m\u001b[0;34m\u001b[0m\u001b[0m\n\u001b[1;32m    306\u001b[0m \u001b[0;34m\u001b[0m\u001b[0m\n\u001b[0;32m--> 307\u001b[0;31m     \u001b[0mwaiter\u001b[0m\u001b[0;34m.\u001b[0m\u001b[0mevent\u001b[0m\u001b[0;34m.\u001b[0m\u001b[0mwait\u001b[0m\u001b[0;34m(\u001b[0m\u001b[0mtimeout\u001b[0m\u001b[0;34m)\u001b[0m\u001b[0;34m\u001b[0m\u001b[0;34m\u001b[0m\u001b[0m\n\u001b[0m\u001b[1;32m    308\u001b[0m     \u001b[0;32mfor\u001b[0m \u001b[0mf\u001b[0m \u001b[0;32min\u001b[0m \u001b[0mfs\u001b[0m\u001b[0;34m:\u001b[0m\u001b[0;34m\u001b[0m\u001b[0;34m\u001b[0m\u001b[0m\n\u001b[1;32m    309\u001b[0m         \u001b[0;32mwith\u001b[0m \u001b[0mf\u001b[0m\u001b[0;34m.\u001b[0m\u001b[0m_condition\u001b[0m\u001b[0;34m:\u001b[0m\u001b[0;34m\u001b[0m\u001b[0;34m\u001b[0m\u001b[0m\n",
            "\u001b[0;32m/usr/lib/python3.10/threading.py\u001b[0m in \u001b[0;36mwait\u001b[0;34m(self, timeout)\u001b[0m\n\u001b[1;32m    605\u001b[0m             \u001b[0msignaled\u001b[0m \u001b[0;34m=\u001b[0m \u001b[0mself\u001b[0m\u001b[0;34m.\u001b[0m\u001b[0m_flag\u001b[0m\u001b[0;34m\u001b[0m\u001b[0;34m\u001b[0m\u001b[0m\n\u001b[1;32m    606\u001b[0m             \u001b[0;32mif\u001b[0m \u001b[0;32mnot\u001b[0m \u001b[0msignaled\u001b[0m\u001b[0;34m:\u001b[0m\u001b[0;34m\u001b[0m\u001b[0;34m\u001b[0m\u001b[0m\n\u001b[0;32m--> 607\u001b[0;31m                 \u001b[0msignaled\u001b[0m \u001b[0;34m=\u001b[0m \u001b[0mself\u001b[0m\u001b[0;34m.\u001b[0m\u001b[0m_cond\u001b[0m\u001b[0;34m.\u001b[0m\u001b[0mwait\u001b[0m\u001b[0;34m(\u001b[0m\u001b[0mtimeout\u001b[0m\u001b[0;34m)\u001b[0m\u001b[0;34m\u001b[0m\u001b[0;34m\u001b[0m\u001b[0m\n\u001b[0m\u001b[1;32m    608\u001b[0m             \u001b[0;32mreturn\u001b[0m \u001b[0msignaled\u001b[0m\u001b[0;34m\u001b[0m\u001b[0;34m\u001b[0m\u001b[0m\n\u001b[1;32m    609\u001b[0m \u001b[0;34m\u001b[0m\u001b[0m\n",
            "\u001b[0;32m/usr/lib/python3.10/threading.py\u001b[0m in \u001b[0;36mwait\u001b[0;34m(self, timeout)\u001b[0m\n\u001b[1;32m    318\u001b[0m         \u001b[0;32mtry\u001b[0m\u001b[0;34m:\u001b[0m    \u001b[0;31m# restore state no matter what (e.g., KeyboardInterrupt)\u001b[0m\u001b[0;34m\u001b[0m\u001b[0;34m\u001b[0m\u001b[0m\n\u001b[1;32m    319\u001b[0m             \u001b[0;32mif\u001b[0m \u001b[0mtimeout\u001b[0m \u001b[0;32mis\u001b[0m \u001b[0;32mNone\u001b[0m\u001b[0;34m:\u001b[0m\u001b[0;34m\u001b[0m\u001b[0;34m\u001b[0m\u001b[0m\n\u001b[0;32m--> 320\u001b[0;31m                 \u001b[0mwaiter\u001b[0m\u001b[0;34m.\u001b[0m\u001b[0macquire\u001b[0m\u001b[0;34m(\u001b[0m\u001b[0;34m)\u001b[0m\u001b[0;34m\u001b[0m\u001b[0;34m\u001b[0m\u001b[0m\n\u001b[0m\u001b[1;32m    321\u001b[0m                 \u001b[0mgotit\u001b[0m \u001b[0;34m=\u001b[0m \u001b[0;32mTrue\u001b[0m\u001b[0;34m\u001b[0m\u001b[0;34m\u001b[0m\u001b[0m\n\u001b[1;32m    322\u001b[0m             \u001b[0;32melse\u001b[0m\u001b[0;34m:\u001b[0m\u001b[0;34m\u001b[0m\u001b[0;34m\u001b[0m\u001b[0m\n",
            "\u001b[0;31mKeyboardInterrupt\u001b[0m: "
          ]
        }
      ]
    },
    {
      "cell_type": "code",
      "source": [],
      "metadata": {
        "id": "7vQ6xXQ5Nqn8"
      },
      "execution_count": null,
      "outputs": []
    }
  ]
}